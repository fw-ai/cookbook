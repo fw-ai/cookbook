{
 "cells": [
  {
   "cell_type": "markdown",
   "id": "5c0122e65c053f38",
   "metadata": {},
   "source": [
    "# Hosting Strands Agents with FireworksAI models in Amazon Bedrock AgentCore Runtime\n",
    "\n",
    "This tutorial is adapted from [AWS AgentCore Sample tutorials](https://github.com/awslabs/amazon-bedrock-agentcore-samples/tree/main). For more details on AWS AgentCore please visit the [AgentCore docs](https://docs.aws.amazon.com/bedrock-agentcore/latest/devguide/what-is-bedrock-agentcore.html)\n",
    "\n",
    "## Overview\n",
    "\n",
    "In this tutorial we will learn how to host your existing agent, using Amazon Bedrock AgentCore Runtime. \n",
    "\n",
    "We will focus on a Strands Agents example running Kimi K2 0905 on FireworksAI.\n",
    "\n",
    "### Tutorial Details\n",
    "\n",
    "| Information         | Details                                                                       |\n",
    "|:--------------------|:------------------------------------------------------------------------------|\n",
    "| Tutorial type       | Conversational                                                                |\n",
    "| Agent type          | Single                                                                        |\n",
    "| Agentic Framework   | FireworksAI                                                                   |\n",
    "| LLM model           | kimi-k2-instruct-0905                                                         |\n",
    "| Tutorial components | Hosting agent on AgentCore Runtime. Using Strands Agent and FireworksAI Model |\n",
    "| Tutorial vertical   | Cross-vertical                                                                |\n",
    "| Example complexity  | Easy                                                                          |\n",
    "| SDK used            | Amazon BedrockAgentCore Python SDK and boto3                                  |\n",
    "\n",
    "### Tutorial Architecture\n",
    "\n",
    "In this tutorial we will describe how to deploy an existing agent to AgentCore runtime.\n",
    "\n",
    "In our example we will create a very simple code-generation agent which can:\n",
    "\n",
    "1. Read files `file_read`\n",
    "2. Create and write to files `file_write`\n",
    "3. Write python code into those files `code_python`\n",
    "\n",
    "<div style=\"text-align:left\">\n",
    "    <img src=\"images/architecture_runtime.png\" width=\"60%\"/>\n",
    "</div>\n",
    "\n",
    "### Tutorial Key Features\n",
    "\n",
    "* Hosting Agents on Amazon Bedrock AgentCore Runtime\n",
    "* Using FireworksAI models\n",
    "* Using Strands Agents\n"
   ]
  },
  {
   "cell_type": "markdown",
   "id": "3a676f58ecf52b42",
   "metadata": {},
   "source": [
    "## Prerequisites\n",
    "\n",
    "To execute this tutorial you will need:\n",
    "* Python 3.10+\n",
    "* AWS credentials\n",
    "* FireworksAI API Key --> **Make sure to add a .env file with the FIREWORKS_API_KEY variable**\n",
    "* Amazon Bedrock AgentCore SDK\n",
    "* Strands Agents\n",
    "* Docker running"
   ]
  },
  {
   "cell_type": "code",
   "id": "initial_id",
   "metadata": {
    "ExecuteTime": {
     "end_time": "2025-09-26T16:51:44.585167Z",
     "start_time": "2025-09-26T16:51:44.331444Z"
    }
   },
   "source": "!make install",
   "outputs": [
    {
     "name": "stdout",
     "output_type": "stream",
     "text": [
      "Installing dependencies...\r\n",
      "uv pip install -r requirements.txt\r\n",
      "\u001B[2mAudited \u001B[1m11 packages\u001B[0m \u001B[2min 89ms\u001B[0m\u001B[0m\r\n"
     ]
    }
   ],
   "execution_count": 1
  },
  {
   "cell_type": "markdown",
   "id": "ca924a7a2731e26f",
   "metadata": {},
   "source": [
    "## Creating your agents and experimenting locally\n",
    "\n",
    "Before we deploy our agents to AgentCore Runtime, let's develop and run them locally for experimentation purposes.\n",
    "\n",
    "For production agentic applications we will need to decouple the agent creation process from the agent invocation one. With AgentCore Runtime, we will decorate the invocation part of our agent with the `@app.entrypoint` decorator and have it as the entry point for our runtime. Let's first look how each agent is developed during the experimentation phase.\n",
    "\n",
    "See the <a href=\"strands_agents_fireworks_ai_local.py\" target=\"_blank\">strands_agents_fireworks_ai_local.py</a> file for the local version of the agent code."
   ]
  },
  {
   "cell_type": "markdown",
   "id": "68499675-db8d-47c6-8c0c-5d66dcb06229",
   "metadata": {},
   "source": [
    "#### Invoking local agent"
   ]
  },
  {
   "cell_type": "code",
   "id": "1226d59e6b56c96",
   "metadata": {
    "ExecuteTime": {
     "end_time": "2025-09-26T16:51:52.378398Z",
     "start_time": "2025-09-26T16:51:47.166085Z"
    }
   },
   "source": "%run strands_agents_fireworks_ai_local.py '{\"prompt\": \"Write a Python function to count letters in a string and return a dictionary with the count of each letter.\"}'",
   "outputs": [
    {
     "name": "stdout",
     "output_type": "stream",
     "text": [
      "I'll write a Python function to count letters in a string and return a dictionary with the count of each letter.\n",
      "Tool #1: code_python\n",
      "```python\n",
      "def count_letters(text):\n",
      "    \"\"\"\n",
      "    Count the frequency of each letter in a string.\n",
      "    \n",
      "    This function counts only alphabetic characters (a-z, A-Z) and ignores\n",
      "    numbers, spaces, punctuation, and other non-letter characters.\n",
      "    The counting is case-insensitive.\n",
      "    \n",
      "    Args:\n",
      "        text (str): The input string to analyze\n",
      "        \n",
      "    Returns:\n",
      "        dict: A dictionary where keys are lowercase letters and values are\n",
      "              the count of each letter in the input string\n",
      "              \n",
      "    Examples:\n",
      "        >>> count_letters(\"Hello World!\")\n",
      "        {'h': 1, 'e': 1, 'l': 3, 'o': 2, 'w': 1, 'r': 1, 'd': 1}\n",
      "        \n",
      "        >>> count_letters(\"Python 3.9\")\n",
      "        {'p': 1, 'y': 1, 't': 1, 'h': 1, 'o': 1, 'n': 1}\n",
      "        \n",
      "        >>> count_letters(\"123 ABC abc\")\n",
      "        {'a': 2, 'b': 2, 'c': 2}\n",
      "    \"\"\"\n",
      "    letter_counts = {}\n",
      "    \n",
      "    # Iterate through each character in the string\n",
      "    for char in text:\n",
      "        # Check if the character is alphabetic\n",
      "        if char.isalpha():\n",
      "            # Convert to lowercase for case-insensitive counting\n",
      "            letter = char.lower()\n",
      "            # Increment the count for this letter\n",
      "            letter_counts[letter] = letter_counts.get(letter, 0) + 1\n",
      "    \n",
      "    return letter_counts\n",
      "``````python\n",
      "def count_letters(text):\n",
      "    \"\"\"\n",
      "    Count the frequency of each letter in a string.\n",
      "    \n",
      "    This function counts only alphabetic characters (a-z, A-Z) and ignores\n",
      "    numbers, spaces, punctuation, and other non-letter characters.\n",
      "    The counting is case-insensitive.\n",
      "    \n",
      "    Args:\n",
      "        text (str): The input string to analyze\n",
      "        \n",
      "    Returns:\n",
      "        dict: A dictionary where keys are lowercase letters and values are\n",
      "              the count of each letter in the input string\n",
      "              \n",
      "    Examples:\n",
      "        >>> count_letters(\"Hello World!\")\n",
      "        {'h': 1, 'e': 1, 'l': 3, 'o': 2, 'w': 1, 'r': 1, 'd': 1}\n",
      "        \n",
      "        >>> count_letters(\"Python 3.9\")\n",
      "        {'p': 1, 'y': 1, 't': 1, 'h': 1, 'o': 1, 'n': 1}\n",
      "        \n",
      "        >>> count_letters(\"123 ABC abc\")\n",
      "        {'a': 2, 'b': 2, 'c': 2}\n",
      "    \"\"\"\n",
      "    letter_counts = {}\n",
      "    \n",
      "    # Iterate through each character in the string\n",
      "    for char in text:\n",
      "        # Check if the character is alphabetic\n",
      "        if char.isalpha():\n",
      "            # Convert to lowercase for case-insensitive counting\n",
      "            letter = char.lower()\n",
      "            # Increment the count for this letter\n",
      "            letter_counts[letter] = letter_counts.get(letter, 0) + 1\n",
      "    \n",
      "    return letter_counts\n",
      "```\n"
     ]
    }
   ],
   "execution_count": 2
  },
  {
   "cell_type": "markdown",
   "id": "932110e6-fca6-47b6-b7c5-c4714a866a80",
   "metadata": {},
   "source": [
    "## Preparing your agent for deployment on AgentCore Runtime\n",
    "\n",
    "Let's now deploy our agents to AgentCore Runtime. To do so we need to:\n",
    "* Import the Runtime App with `from bedrock_agentcore.runtime import BedrockAgentCoreApp`\n",
    "* Initialize the App in our code with `app = BedrockAgentCoreApp()`\n",
    "* Decorate the invocation function with the `@app.entrypoint` decorator\n",
    "* Let AgentCoreRuntime control the running of the agent with `app.run()`\n",
    "\n",
    "\n",
    "See the <a href=\"strands_agents_fireworks_ai.py\" target=\"_blank\">strands_agents_fireworks_ai.py</a> file for the runtime version of the agent code."
   ]
  },
  {
   "cell_type": "markdown",
   "id": "c64db7b5-0f1b-475f-9bf2-467b4449d46a",
   "metadata": {},
   "source": [
    "## What happens behind the scenes?\n",
    "\n",
    "When you use `BedrockAgentCoreApp`, it automatically:\n",
    "\n",
    "* Creates an HTTP server that listens on the port 8080\n",
    "* Implements the required `/invocations` endpoint for processing the agent's requirements\n",
    "* Implements the `/ping` endpoint for health checks (very important for asynchronous agents)\n",
    "* Handles proper content types and response formats\n",
    "* Manages error handling according to the AWS standards"
   ]
  },
  {
   "cell_type": "markdown",
   "id": "6820ca8f-a8a8-4f34-b4ef-b6dad3776261",
   "metadata": {},
   "source": [
    "## Deploying the agent to AgentCore Runtime\n",
    "\n",
    "The `CreateAgentRuntime` operation supports comprehensive configuration options, letting you specify container images, environment variables and encryption settings. You can also configure protocol settings (HTTP, MCP) and authorization mechanisms to control how your clients communicate with the agent. \n",
    "\n",
    "**Note:** Operations best practice is to package code as container and push to ECR using CI/CD pipelines and IaC\n",
    "\n",
    "In this tutorial can will the Amazon Bedrock AgentCode Python SDK to easily package your artifacts and deploy them to AgentCore runtime."
   ]
  },
  {
   "cell_type": "markdown",
   "id": "8855aceb-b79f-4aaa-b16f-8577c059816a",
   "metadata": {},
   "source": [
    "### Configure AgentCore Runtime deployment\n",
    "\n",
    "Next we will use our starter toolkit to configure the AgentCore Runtime deployment with an entrypoint, the execution role we just created and a requirements file. We will also configure the starter kit to auto create the Amazon ECR repository on launch.\n",
    "\n",
    "During the configure step, your docker file will be generated based on your application code\n",
    "\n",
    "<div style=\"text-align:left\">\n",
    "    <img src=\"images/configure.png\" width=\"60%\"/>\n",
    "</div>"
   ]
  },
  {
   "cell_type": "code",
   "id": "2e79eba2-ca59-463f-9ebf-56e362d7ae66",
   "metadata": {
    "ExecuteTime": {
     "end_time": "2025-09-26T16:53:46.589598Z",
     "start_time": "2025-09-26T16:53:44.256674Z"
    }
   },
   "source": [
    "from bedrock_agentcore_starter_toolkit import Runtime\n",
    "from boto3.session import Session\n",
    "import boto3\n",
    "boto_session = Session()\n",
    "region = boto_session.region_name\n",
    "\n",
    "agentcore_runtime = Runtime()\n",
    "\n",
    "agent_name = \"strands_fireworks_ai_getting_started\"\n",
    "response = agentcore_runtime.configure(\n",
    "    entrypoint=\"strands_agents_fireworks_ai.py\",\n",
    "    auto_create_execution_role=True,\n",
    "    auto_create_ecr=True,\n",
    "    requirements_file=\"requirements.txt\",\n",
    "    region=region,\n",
    "    agent_name=agent_name\n",
    ")\n",
    "response"
   ],
   "outputs": [
    {
     "name": "stderr",
     "output_type": "stream",
     "text": [
      "Entrypoint parsed: file=/Users/robertobarroso/Desktop/repos/cookbook/integrations/AgentCore/strands_agents_fireworks_ai.py, bedrock_agentcore_name=strands_agents_fireworks_ai\n",
      "Configuring BedrockAgentCore agent: strands_fireworks_ai_getting_started\n"
     ]
    },
    {
     "data": {
      "text/plain": [
       "\n",
       "\u001B[1;4;33m⚠️  ℹ️  No container engine found \u001B[0m\u001B[1;4;33m(\u001B[0m\u001B[1;4;33mDocker/Finch/Podman not installed\u001B[0m\u001B[1;4;33m)\u001B[0m\n",
       "\u001B[1;4;33m✅ Default deployment uses CodeBuild \u001B[0m\u001B[1;4;33m(\u001B[0m\u001B[1;4;33mno container engine needed\u001B[0m\u001B[1;4;33m)\u001B[0m\n",
       "\u001B[1;4;33m💡 Run \u001B[0m\u001B[4;32m'agentcore launch'\u001B[0m\u001B[1;4;33m for cloud-based building and deployment\u001B[0m\n",
       "\u001B[1;4;33m💡 For local builds, install Docker, Finch, or Podman\u001B[0m\n"
      ],
      "text/html": [
       "<pre style=\"white-space:pre;overflow-x:auto;line-height:normal;font-family:Menlo,'DejaVu Sans Mono',consolas,'Courier New',monospace\">\n",
       "<span style=\"color: #808000; text-decoration-color: #808000; font-weight: bold; text-decoration: underline\">⚠️  ℹ️  No container engine found (Docker/Finch/Podman not installed)</span>\n",
       "<span style=\"color: #808000; text-decoration-color: #808000; font-weight: bold; text-decoration: underline\">✅ Default deployment uses CodeBuild (no container engine needed)</span>\n",
       "<span style=\"color: #808000; text-decoration-color: #808000; font-weight: bold; text-decoration: underline\">💡 Run </span><span style=\"color: #008000; text-decoration-color: #008000; text-decoration: underline\">'agentcore launch'</span><span style=\"color: #808000; text-decoration-color: #808000; font-weight: bold; text-decoration: underline\"> for cloud-based building and deployment</span>\n",
       "<span style=\"color: #808000; text-decoration-color: #808000; font-weight: bold; text-decoration: underline\">💡 For local builds, install Docker, Finch, or Podman</span>\n",
       "</pre>\n"
      ]
     },
     "metadata": {},
     "output_type": "display_data",
     "jetTransient": {
      "display_id": null
     }
    },
    {
     "name": "stderr",
     "output_type": "stream",
     "text": [
      "Generated .dockerignore\n",
      "Generated Dockerfile: /Users/robertobarroso/Desktop/repos/cookbook/integrations/AgentCore/Dockerfile\n",
      "Generated .dockerignore: /Users/robertobarroso/Desktop/repos/cookbook/integrations/AgentCore/.dockerignore\n",
      "Setting 'strands_fireworks_ai_getting_started' as default agent\n",
      "Bedrock AgentCore configured: /Users/robertobarroso/Desktop/repos/cookbook/integrations/AgentCore/.bedrock_agentcore.yaml\n"
     ]
    },
    {
     "data": {
      "text/plain": [
       "ConfigureResult(config_path=PosixPath('/Users/robertobarroso/Desktop/repos/cookbook/integrations/AgentCore/.bedrock_agentcore.yaml'), dockerfile_path=PosixPath('/Users/robertobarroso/Desktop/repos/cookbook/integrations/AgentCore/Dockerfile'), dockerignore_path=PosixPath('/Users/robertobarroso/Desktop/repos/cookbook/integrations/AgentCore/.dockerignore'), runtime='None', region='us-west-2', account_id='023979239971', execution_role=None, ecr_repository=None, auto_create_ecr=True)"
      ]
     },
     "execution_count": 3,
     "metadata": {},
     "output_type": "execute_result"
    }
   ],
   "execution_count": 3
  },
  {
   "cell_type": "markdown",
   "id": "9e1b84cc-798e-472c-ac0b-2c315f4b704d",
   "metadata": {},
   "source": [
    "### Launching agent to AgentCore Runtime\n",
    "\n",
    "Now that we've got a docker file, let's launch the agent to the AgentCore Runtime. This will create the Amazon ECR repository and the AgentCore Runtime\n",
    "\n",
    "<div style=\"text-align:left\">\n",
    "    <img src=\"images/launch.png\" width=\"85%\"/>\n",
    "</div>"
   ]
  },
  {
   "cell_type": "code",
   "id": "17a32ab8-7701-4900-8055-e24364bdf35c",
   "metadata": {
    "ExecuteTime": {
     "end_time": "2025-09-26T16:55:04.340113Z",
     "start_time": "2025-09-26T16:54:00.242143Z"
    }
   },
   "source": [
    "from dotenv import load_dotenv\n",
    "import os\n",
    "\n",
    "load_dotenv()\n",
    "\n",
    "FIREWORKS_API_KEY = os.getenv(\"FIREWORKS_API_KEY\")\n",
    "launch_result = agentcore_runtime.launch(\n",
    "    env_vars={\n",
    "        \"OPENAI_API_BASE\": \"https://api.fireworks.ai/inference/v1\",\n",
    "        \"OPENAI_API_KEY\": FIREWORKS_API_KEY\n",
    "    }\n",
    ")"
   ],
   "outputs": [
    {
     "name": "stderr",
     "output_type": "stream",
     "text": [
      "🚀 CodeBuild mode: building in cloud (RECOMMENDED - DEFAULT)\n",
      "   • Build ARM64 containers in the cloud with CodeBuild\n",
      "   • No local Docker required\n",
      "💡 Available deployment modes:\n",
      "   • runtime.launch()                           → CodeBuild (current)\n",
      "   • runtime.launch(local=True)                 → Local development\n",
      "   • runtime.launch(local_build=True)           → Local build + cloud deploy (NEW)\n",
      "Starting CodeBuild ARM64 deployment for agent 'strands_fireworks_ai_getting_started' to account 023979239971 (us-west-2)\n",
      "Setting up AWS resources (ECR repository, execution roles)...\n",
      "Getting or creating ECR repository for agent: strands_fireworks_ai_getting_started\n"
     ]
    },
    {
     "name": "stdout",
     "output_type": "stream",
     "text": [
      "Repository doesn't exist, creating new ECR repository: bedrock-agentcore-strands_fireworks_ai_getting_started\n"
     ]
    },
    {
     "name": "stderr",
     "output_type": "stream",
     "text": [
      "✅ ECR repository available: 023979239971.dkr.ecr.us-west-2.amazonaws.com/bedrock-agentcore-strands_fireworks_ai_getting_started\n",
      "Getting or creating execution role for agent: strands_fireworks_ai_getting_started\n",
      "Using AWS region: us-west-2, account ID: 023979239971\n",
      "Role name: AmazonBedrockAgentCoreSDKRuntime-us-west-2-01b95285bc\n",
      "✅ Reusing existing execution role: arn:aws:iam::023979239971:role/AmazonBedrockAgentCoreSDKRuntime-us-west-2-01b95285bc\n",
      "✅ Execution role available: arn:aws:iam::023979239971:role/AmazonBedrockAgentCoreSDKRuntime-us-west-2-01b95285bc\n",
      "Preparing CodeBuild project and uploading source...\n",
      "Getting or creating CodeBuild execution role for agent: strands_fireworks_ai_getting_started\n",
      "Role name: AmazonBedrockAgentCoreSDKCodeBuild-us-west-2-01b95285bc\n",
      "Reusing existing CodeBuild execution role: arn:aws:iam::023979239971:role/AmazonBedrockAgentCoreSDKCodeBuild-us-west-2-01b95285bc\n",
      "Using .dockerignore with 44 patterns\n",
      "Uploaded source to S3: strands_fireworks_ai_getting_started/source.zip\n",
      "Updated CodeBuild project: bedrock-agentcore-strands_fireworks_ai_getting_started-builder\n",
      "Starting CodeBuild build (this may take several minutes)...\n",
      "Starting CodeBuild monitoring...\n",
      "🔄 QUEUED started (total: 0s)\n",
      "✅ QUEUED completed in 1.1s\n",
      "🔄 PROVISIONING started (total: 1s)\n",
      "✅ PROVISIONING completed in 9.6s\n",
      "🔄 DOWNLOAD_SOURCE started (total: 11s)\n",
      "✅ DOWNLOAD_SOURCE completed in 1.1s\n",
      "🔄 BUILD started (total: 12s)\n",
      "✅ BUILD completed in 23.5s\n",
      "🔄 POST_BUILD started (total: 35s)\n",
      "✅ POST_BUILD completed in 20.5s\n",
      "🔄 FINALIZING started (total: 56s)\n",
      "✅ FINALIZING completed in 1.1s\n",
      "🔄 COMPLETED started (total: 57s)\n",
      "✅ COMPLETED completed in 0.0s\n",
      "🎉 CodeBuild completed successfully in 0m 56s\n",
      "CodeBuild completed successfully\n",
      "✅ CodeBuild project configuration saved\n",
      "Deploying to Bedrock AgentCore...\n",
      "✅ Agent created/updated: arn:aws:bedrock-agentcore:us-west-2:023979239971:runtime/strands_fireworks_ai_getting_started-gAld6I27u3\n",
      "Observability is enabled, configuring Transaction Search...\n",
      "CloudWatch Logs resource policy already configured\n",
      "X-Ray trace destination already configured\n",
      "X-Ray indexing rule already configured\n",
      "✅ Transaction Search already fully configured\n",
      "🔍 GenAI Observability Dashboard:\n",
      "   https://console.aws.amazon.com/cloudwatch/home?region=us-west-2#gen-ai-observability/agent-core\n",
      "Polling for endpoint to be ready...\n",
      "Agent endpoint: arn:aws:bedrock-agentcore:us-west-2:023979239971:runtime/strands_fireworks_ai_getting_started-gAld6I27u3/runtime-endpoint/DEFAULT\n",
      "Deployment completed successfully - Agent: arn:aws:bedrock-agentcore:us-west-2:023979239971:runtime/strands_fireworks_ai_getting_started-gAld6I27u3\n",
      "Built with CodeBuild: bedrock-agentcore-strands_fireworks_ai_getting_started-builder:04d41342-9d7c-4c63-a14a-4ccf62429f95\n",
      "Deployed to cloud: arn:aws:bedrock-agentcore:us-west-2:023979239971:runtime/strands_fireworks_ai_getting_started-gAld6I27u3\n",
      "ECR image: 023979239971.dkr.ecr.us-west-2.amazonaws.com/bedrock-agentcore-strands_fireworks_ai_getting_started\n",
      "🔍 Agent logs available at:\n",
      "   /aws/bedrock-agentcore/runtimes/strands_fireworks_ai_getting_started-gAld6I27u3-DEFAULT --log-stream-name-prefix \"2025/09/26/\\[runtime-logs]\"\n",
      "   /aws/bedrock-agentcore/runtimes/strands_fireworks_ai_getting_started-gAld6I27u3-DEFAULT --log-stream-names \"otel-rt-logs\"\n",
      "💡 Tail logs with: aws logs tail /aws/bedrock-agentcore/runtimes/strands_fireworks_ai_getting_started-gAld6I27u3-DEFAULT --log-stream-name-prefix \"2025/09/26/\\[runtime-logs]\" --follow\n",
      "💡 Or view recent logs: aws logs tail /aws/bedrock-agentcore/runtimes/strands_fireworks_ai_getting_started-gAld6I27u3-DEFAULT --log-stream-name-prefix \"2025/09/26/\\[runtime-logs]\" --since 1h\n"
     ]
    }
   ],
   "execution_count": 4
  },
  {
   "cell_type": "markdown",
   "id": "a0ae9c09-09db-4a76-871a-92eacd96b9c3",
   "metadata": {},
   "source": [
    "### Checking for the AgentCore Runtime Status\n",
    "Now that we've deployed the AgentCore Runtime, let's check for it's deployment status"
   ]
  },
  {
   "cell_type": "code",
   "id": "afa6ac09-9adb-4846-9fc1-4d12aeb74853",
   "metadata": {
    "ExecuteTime": {
     "end_time": "2025-09-26T16:55:40.819528Z",
     "start_time": "2025-09-26T16:55:40.375537Z"
    }
   },
   "source": [
    "import time\n",
    "status_response = agentcore_runtime.status()\n",
    "status = status_response.endpoint['status']\n",
    "end_status = ['READY', 'CREATE_FAILED', 'DELETE_FAILED', 'UPDATE_FAILED']\n",
    "while status not in end_status:\n",
    "    time.sleep(10)\n",
    "    status_response = agentcore_runtime.status()\n",
    "    status = status_response.endpoint['status']\n",
    "    print(status)\n",
    "status"
   ],
   "outputs": [
    {
     "name": "stderr",
     "output_type": "stream",
     "text": [
      "Retrieved Bedrock AgentCore status for: strands_fireworks_ai_getting_started\n"
     ]
    },
    {
     "data": {
      "text/plain": [
       "'READY'"
      ]
     },
     "execution_count": 5,
     "metadata": {},
     "output_type": "execute_result"
    }
   ],
   "execution_count": 5
  },
  {
   "cell_type": "markdown",
   "id": "b7f89c56-918a-4cab-beaa-c7ac43a2ba29",
   "metadata": {},
   "source": [
    "### Invoking AgentCore Runtime\n",
    "\n",
    "Finally, we can invoke our AgentCore Runtime with a payload. We will invoke the python developer agent with a simple leet code problem.\n",
    "\n",
    "<div style=\"text-align:left\">\n",
    "    <img src=\"images/invoke.png\" width=85%\"/>\n",
    "</div>"
   ]
  },
  {
   "metadata": {
    "ExecuteTime": {
     "end_time": "2025-09-26T17:15:12.304546Z",
     "start_time": "2025-09-26T17:15:12.297888Z"
    }
   },
   "cell_type": "code",
   "source": [
    "import re\n",
    "def extract_code_blocks(text):\n",
    "    \"\"\"\n",
    "    Extract code blocks from text that are wrapped in ```language or ``` markers.\n",
    "    \"\"\"\n",
    "    pattern = r'```(?:\\w+)?\\n?(.*?)```'\n",
    "    matches = re.findall(pattern, text, re.DOTALL)\n",
    "\n",
    "    # wrap in ``` ```\n",
    "    matches = [f\"```python\\n{match}\\n```\" for match in matches]\n",
    "    return matches"
   ],
   "id": "1190c3afc8c730b2",
   "outputs": [],
   "execution_count": 40
  },
  {
   "cell_type": "code",
   "id": "3d909e42-e1a0-407f-84c2-3d16cc889cd3",
   "metadata": {
    "ExecuteTime": {
     "end_time": "2025-09-26T17:15:15.561101Z",
     "start_time": "2025-09-26T17:15:12.955420Z"
    }
   },
   "source": [
    "from IPython.display import Markdown, display\n",
    "\n",
    "LEET_CODE_PROMPT = \"\"\"\n",
    "Write a Python function for the following problem:\n",
    "\n",
    "Given an array of integers nums and an integer target, return indices of the two numbers such that they add up to target.\n",
    "You may assume that each input would have exactly one solution, and you may not use the same element twice.\n",
    "You can return the answer in any order.\n",
    "\"\"\"\n",
    "\n",
    "invoke_response = agentcore_runtime.invoke({\"prompt\": LEET_CODE_PROMPT})\n",
    "code_block = extract_code_blocks(invoke_response['response'][0])\n",
    "\n",
    "# Clean and display the response\n",
    "display(Markdown(code_block[0]))"
   ],
   "outputs": [
    {
     "data": {
      "text/plain": [
       "<IPython.core.display.Markdown object>"
      ],
      "text/markdown": "```python\ndef two_sum(nums, target):\n    \"\"\"\n    Return indices of the two numbers in `nums` that add up to `target`.\n\n    Args:\n        nums (list[int]): Array of integers.\n        target (int): Desired sum.\n\n    Returns:\n        list[int]: Two indices `[i, j]` in any order.\n\n    Examples:\n        >>> two_sum([2, 7, 11, 15], 9)\n        [0, 1]\n        >>> two_sum([3, 2, 4], 6)\n        [1, 2]\n        >>> two_sum([3, 3], 6)\n        [0, 1]\n    \"\"\"\n    seen = {}  # value -> index\n    for i, num in enumerate(nums):\n        complement = target - num\n        if complement in seen:\n            return [seen[complement], i]\n        seen[num] = i\n\n```"
     },
     "metadata": {},
     "output_type": "display_data",
     "jetTransient": {
      "display_id": null
     }
    }
   ],
   "execution_count": 41
  },
  {
   "cell_type": "markdown",
   "id": "7d3fdfe404469632",
   "metadata": {},
   "source": [
    "## Cleanup (Optional)\n",
    "\n",
    "Let's now clean up the AgentCore Runtime created"
   ]
  },
  {
   "cell_type": "code",
   "id": "76a6cf1416830a54",
   "metadata": {
    "ExecuteTime": {
     "end_time": "2025-09-26T17:16:50.648377Z",
     "start_time": "2025-09-26T17:16:49.973952Z"
    }
   },
   "source": [
    "agentcore_control_client = boto3.client(\n",
    "    'bedrock-agentcore-control',\n",
    "    region_name=region\n",
    ")\n",
    "ecr_client = boto3.client(\n",
    "    'ecr',\n",
    "    region_name=region\n",
    "    \n",
    ")\n",
    "\n",
    "runtime_delete_response = agentcore_control_client.delete_agent_runtime(\n",
    "    agentRuntimeId=launch_result.agent_id\n",
    ")\n",
    "\n",
    "response = ecr_client.delete_repository(\n",
    "    repositoryName=launch_result.ecr_uri.split('/')[1],\n",
    "    force=True\n",
    ")"
   ],
   "outputs": [],
   "execution_count": 45
  }
 ],
 "metadata": {
  "kernelspec": {
   "display_name": "Python 3 (ipykernel)",
   "language": "python",
   "name": "python3"
  },
  "language_info": {
   "codemirror_mode": {
    "name": "ipython",
    "version": 3
   },
   "file_extension": ".py",
   "mimetype": "text/x-python",
   "name": "python",
   "nbconvert_exporter": "python",
   "pygments_lexer": "ipython3",
   "version": "3.10.18"
  }
 },
 "nbformat": 4,
 "nbformat_minor": 5
}
