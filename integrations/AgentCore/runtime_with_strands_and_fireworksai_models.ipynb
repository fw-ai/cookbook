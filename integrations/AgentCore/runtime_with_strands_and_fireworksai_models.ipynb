{
 "cells": [
  {
   "cell_type": "markdown",
   "id": "5c0122e65c053f38",
   "metadata": {},
   "source": [
    "# Hosting Strands Agents with FireworksAI models in Amazon Bedrock AgentCore Runtime\n",
    "\n",
    "This tutorial is adapted from [AWS AgentCore Sample tutorials](https://github.com/awslabs/amazon-bedrock-agentcore-samples/tree/main). For more details on AWS AgentCore please visit the [AgentCore docs](https://docs.aws.amazon.com/bedrock-agentcore/latest/devguide/what-is-bedrock-agentcore.html)\n",
    "\n",
    "## Overview\n",
    "\n",
    "In this tutorial we will learn how to host your existing agent, using Amazon Bedrock AgentCore Runtime. \n",
    "\n",
    "We will focus on a Strands Agents example running Kimi K2 0905 on FireworksAI.\n",
    "\n",
    "### Tutorial Details\n",
    "\n",
    "| Information         | Details                                                                       |\n",
    "|:--------------------|:------------------------------------------------------------------------------|\n",
    "| Tutorial type       | Conversational                                                                |\n",
    "| Agent type          | Single                                                                        |\n",
    "| Agentic Framework   | FireworksAI                                                                   |\n",
    "| LLM model           | kimi-k2-instruct-0905                                                         |\n",
    "| Tutorial components | Hosting agent on AgentCore Runtime. Using Strands Agent and FireworksAI Model |\n",
    "| Tutorial vertical   | Cross-vertical                                                                |\n",
    "| Example complexity  | Easy                                                                          |\n",
    "| SDK used            | Amazon BedrockAgentCore Python SDK and boto3                                  |\n",
    "\n",
    "### Tutorial Architecture\n",
    "\n",
    "In this tutorial we will describe how to deploy an existing agent to AgentCore runtime.\n",
    "\n",
    "In our example we will create a very simple code-generation agent which can:\n",
    "\n",
    "1. Read files `file_read`\n",
    "2. Create and write to files `file_write`\n",
    "3. Write python code into those files `code_python`\n",
    "\n",
    "<div style=\"text-align:left\">\n",
    "    <img src=\"images/architecture_runtime.png\" width=\"60%\"/>\n",
    "</div>\n",
    "\n",
    "### Tutorial Key Features\n",
    "\n",
    "* Hosting Agents on Amazon Bedrock AgentCore Runtime\n",
    "* Using FireworksAI models\n",
    "* Using Strands Agents\n"
   ]
  },
  {
   "cell_type": "markdown",
   "id": "3a676f58ecf52b42",
   "metadata": {},
   "source": [
    "## Prerequisites\n",
    "\n",
    "To execute this tutorial you will need:\n",
    "* Python 3.10+\n",
    "* AWS credentials\n",
    "* Amazon Bedrock AgentCore SDK\n",
    "* Strands Agents\n",
    "* Docker running"
   ]
  },
  {
   "cell_type": "code",
   "id": "initial_id",
   "metadata": {
    "ExecuteTime": {
     "end_time": "2025-09-26T00:47:00.437002Z",
     "start_time": "2025-09-26T00:47:00.144587Z"
    }
   },
   "source": "!make install",
   "outputs": [
    {
     "name": "stdout",
     "output_type": "stream",
     "text": [
      "Installing dependencies...\r\n",
      "uv pip install -r requirements.txt\r\n",
      "\u001B[2mAudited \u001B[1m11 packages\u001B[0m \u001B[2min 116ms\u001B[0m\u001B[0m\r\n"
     ]
    }
   ],
   "execution_count": 1
  },
  {
   "cell_type": "markdown",
   "id": "ca924a7a2731e26f",
   "metadata": {},
   "source": [
    "## Creating your agents and experimenting locally\n",
    "\n",
    "Before we deploy our agents to AgentCore Runtime, let's develop and run them locally for experimentation purposes.\n",
    "\n",
    "For production agentic applications we will need to decouple the agent creation process from the agent invocation one. With AgentCore Runtime, we will decorate the invocation part of our agent with the `@app.entrypoint` decorator and have it as the entry point for our runtime. Let's first look how each agent is developed during the experimentation phase."
   ]
  },
  {
   "cell_type": "code",
   "id": "b7d386ab54e85e63",
   "metadata": {
    "ExecuteTime": {
     "end_time": "2025-09-26T00:47:00.863874Z",
     "start_time": "2025-09-26T00:47:00.855294Z"
    }
   },
   "source": [
    "%%writefile strands_agents_fireworks_ai.py\n",
    "from strands import Agent, tool\n",
    "from strands_tools import file_read, file_write\n",
    "import argparse\n",
    "import json\n",
    "# NOTE: FireworksAI is compatible with OpenAI sdk\n",
    "from strands.models.openai import OpenAIModel\n",
    "from dotenv import load_dotenv\n",
    "import os\n",
    "\n",
    "load_dotenv()\n",
    "\n",
    "FIREWORKS_API_KEY = os.getenv(\"FIREWORKS_API_KEY\")\n",
    "\n",
    "@tool\n",
    "def code_python(user_prompt: str):\n",
    "    prompt = f\"\"\"\n",
    "    You are a Python developer. You will be provided a user request for python code.\n",
    "    Write clean, readable Python code.  Prioritize simple, working solutions.\n",
    "\n",
    "    Only generate the code explicitly requested by the user. Do not include any additional code, if you need to add examples of how to run the code add it to the docstrings only.\n",
    "\n",
    "    Remember the Zen of Python:\n",
    "    ```\n",
    "    Beautiful is better than ugly.\n",
    "    Explicit is better than implicit.\n",
    "    Simple is better than complex.\n",
    "    Complex is better than complicated.\n",
    "    Flat is better than nested.\n",
    "    Sparse is better than dense.\n",
    "    Readability counts.\n",
    "    Special cases aren't special enough to break the rules.\n",
    "    Although practicality beats purity.\n",
    "    Errors should never pass silently.\n",
    "    Unless explicitly silenced.\n",
    "    In the face of ambiguity, refuse the temptation to guess.\n",
    "    There should be one-- and preferably only one --obvious way to do it.\n",
    "    Although that way may not be obvious at first unless you're Dutch.\n",
    "    Now is better than never.\n",
    "    Although never is often better than right now.\n",
    "    If the implementation is hard to explain, it's a bad idea.\n",
    "    If the implementation is easy to explain, it may be a good idea.\n",
    "    Namespaces are one honking great idea – let's do more of those!\n",
    "    ```\n",
    "\n",
    "    The user request is: {user_prompt}\n",
    "    \"\"\"\n",
    "\n",
    "    return prompt\n",
    "\n",
    "model = OpenAIModel(\n",
    "    client_args={\n",
    "        \"api_key\": FIREWORKS_API_KEY,\n",
    "        \"base_url\": \"https://api.fireworks.ai/inference/v1\",\n",
    "    },\n",
    "    # **model_config\n",
    "    model_id=\"accounts/fireworks/models/kimi-k2-instruct-0905\",\n",
    "    params={\n",
    "        \"max_tokens\": 3000,\n",
    "        \"temperature\": 0.0,\n",
    "    }\n",
    ")\n",
    "\n",
    "agent = Agent(\n",
    "    model=model,\n",
    "    tools=[file_read, file_write, code_python],\n",
    "    system_prompt=\"You are a software engineer. You can read files, write files and generate python code.\"\n",
    ")\n",
    "\n",
    "def strands_agent_fireworks_ai(payload):\n",
    "    \"\"\"\n",
    "    Invoke the agent with a payload\n",
    "    \"\"\"\n",
    "    user_input = payload.get(\"prompt\")\n",
    "    response = agent(user_input)\n",
    "    return response.message['content'][0]['text']\n",
    "\n",
    "if __name__ == \"__main__\":\n",
    "    parser = argparse.ArgumentParser()\n",
    "    parser.add_argument(\"payload\", type=str)\n",
    "    args = parser.parse_args()\n",
    "    response = strands_agent_fireworks_ai(json.loads(args.payload))\n",
    "    print(response)"
   ],
   "outputs": [
    {
     "name": "stdout",
     "output_type": "stream",
     "text": [
      "Overwriting strands_agents_fireworks_ai.py\n"
     ]
    }
   ],
   "execution_count": 2
  },
  {
   "cell_type": "markdown",
   "id": "68499675-db8d-47c6-8c0c-5d66dcb06229",
   "metadata": {},
   "source": [
    "#### Invoking local agent"
   ]
  },
  {
   "cell_type": "code",
   "id": "1226d59e6b56c96",
   "metadata": {
    "ExecuteTime": {
     "end_time": "2025-09-26T00:47:11.347737Z",
     "start_time": "2025-09-26T00:47:01.463578Z"
    }
   },
   "source": "!python strands_agents_fireworks_ai.py '{\"prompt\": \"Write a Python function to count letters in a string and return a dictionary with the count of each letter.\"}'",
   "outputs": [
    {
     "name": "stdout",
     "output_type": "stream",
     "text": [
      "I'll write a Python function to count letters in a string and return a dictionary with the count of each letter.\r\n",
      "Tool #1: code_python\r\n",
      "```python\r\n",
      "def count_letters(text):\r\n",
      "    \"\"\"\r\n",
      "    Count the frequency of each letter in a string.\r\n",
      "    \r\n",
      "    Args:\r\n",
      "        text (str): The input string to analyze\r\n",
      "        \r\n",
      "    Returns:\r\n",
      "        dict: A dictionary with lowercase letters as keys and their counts as values\r\n",
      "        \r\n",
      "    Examples:\r\n",
      "        >>> count_letters(\"Hello World!\")\r\n",
      "        {'h': 1, 'e': 1, 'l': 3, 'o': 2, 'w': 1, 'r': 1, 'd': 1}\r\n",
      "        \r\n",
      "        >>> count_letters(\"Python 3.9\")\r\n",
      "        {'p': 1, 'y': 1, 't': 1, 'h': 1, 'o': 1, 'n': 1}\r\n",
      "        \r\n",
      "        >>> count_letters(\"123 ABC abc\")\r\n",
      "        {'a': 2, 'b': 2, 'c': 2}\r\n",
      "    \"\"\"\r\n",
      "    letter_counts = {}\r\n",
      "    \r\n",
      "    for char in text.lower():\r\n",
      "        if char.isalpha():\r\n",
      "            letter_counts[char] = letter_counts.get(char, 0) + 1\r\n",
      "    \r\n",
      "    return letter_counts\r\n",
      "``````python\r\n",
      "def count_letters(text):\r\n",
      "    \"\"\"\r\n",
      "    Count the frequency of each letter in a string.\r\n",
      "    \r\n",
      "    Args:\r\n",
      "        text (str): The input string to analyze\r\n",
      "        \r\n",
      "    Returns:\r\n",
      "        dict: A dictionary with lowercase letters as keys and their counts as values\r\n",
      "        \r\n",
      "    Examples:\r\n",
      "        >>> count_letters(\"Hello World!\")\r\n",
      "        {'h': 1, 'e': 1, 'l': 3, 'o': 2, 'w': 1, 'r': 1, 'd': 1}\r\n",
      "        \r\n",
      "        >>> count_letters(\"Python 3.9\")\r\n",
      "        {'p': 1, 'y': 1, 't': 1, 'h': 1, 'o': 1, 'n': 1}\r\n",
      "        \r\n",
      "        >>> count_letters(\"123 ABC abc\")\r\n",
      "        {'a': 2, 'b': 2, 'c': 2}\r\n",
      "    \"\"\"\r\n",
      "    letter_counts = {}\r\n",
      "    \r\n",
      "    for char in text.lower():\r\n",
      "        if char.isalpha():\r\n",
      "            letter_counts[char] = letter_counts.get(char, 0) + 1\r\n",
      "    \r\n",
      "    return letter_counts\r\n",
      "```\r\n"
     ]
    }
   ],
   "execution_count": 3
  },
  {
   "cell_type": "markdown",
   "id": "932110e6-fca6-47b6-b7c5-c4714a866a80",
   "metadata": {},
   "source": [
    "## Preparing your agent for deployment on AgentCore Runtime\n",
    "\n",
    "Let's now deploy our agents to AgentCore Runtime. To do so we need to:\n",
    "* Import the Runtime App with `from bedrock_agentcore.runtime import BedrockAgentCoreApp`\n",
    "* Initialize the App in our code with `app = BedrockAgentCoreApp()`\n",
    "* Decorate the invocation function with the `@app.entrypoint` decorator\n",
    "* Let AgentCoreRuntime control the running of the agent with `app.run()`"
   ]
  },
  {
   "cell_type": "code",
   "id": "3b845b32-a03e-45c2-a2f0-2afba8069f47",
   "metadata": {
    "ExecuteTime": {
     "end_time": "2025-09-26T00:47:11.385604Z",
     "start_time": "2025-09-26T00:47:11.382973Z"
    }
   },
   "source": [
    "%%writefile strands_agents_fireworks_ai.py\n",
    "from strands import Agent, tool\n",
    "from strands_tools import file_read, file_write\n",
    "# NOTE: FireworksAI is compatible with OpenAI sdk\n",
    "from strands.models.openai import OpenAIModel\n",
    "from dotenv import load_dotenv\n",
    "import os\n",
    "from bedrock_agentcore.runtime import BedrockAgentCoreApp\n",
    "\n",
    "app = BedrockAgentCoreApp()\n",
    "load_dotenv()\n",
    "\n",
    "FIREWORKS_API_KEY = os.getenv(\"FIREWORKS_API_KEY\")\n",
    "\n",
    "@tool\n",
    "def code_python(user_prompt: str):\n",
    "    prompt = f\"\"\"\n",
    "    You are a Python developer. You will be provided a user request for python code.\n",
    "    Write clean, readable Python code.  Prioritize simple, working solutions.\n",
    "\n",
    "    Only generate the code explicitly requested by the user. Do not include any additional code, if you need to add examples of how to run the code add it to the docstrings only.\n",
    "\n",
    "    Remember the Zen of Python:\n",
    "    ```\n",
    "    Beautiful is better than ugly.\n",
    "    Explicit is better than implicit.\n",
    "    Simple is better than complex.\n",
    "    Complex is better than complicated.\n",
    "    Flat is better than nested.\n",
    "    Sparse is better than dense.\n",
    "    Readability counts.\n",
    "    Special cases aren't special enough to break the rules.\n",
    "    Although practicality beats purity.\n",
    "    Errors should never pass silently.\n",
    "    Unless explicitly silenced.\n",
    "    In the face of ambiguity, refuse the temptation to guess.\n",
    "    There should be one-- and preferably only one --obvious way to do it.\n",
    "    Although that way may not be obvious at first unless you're Dutch.\n",
    "    Now is better than never.\n",
    "    Although never is often better than right now.\n",
    "    If the implementation is hard to explain, it's a bad idea.\n",
    "    If the implementation is easy to explain, it may be a good idea.\n",
    "    Namespaces are one honking great idea – let's do more of those!\n",
    "    ```\n",
    "\n",
    "    The user request is: {user_prompt}\n",
    "    \"\"\"\n",
    "\n",
    "    return prompt\n",
    "\n",
    "model = OpenAIModel(\n",
    "    client_args={\n",
    "        \"api_key\": FIREWORKS_API_KEY,\n",
    "        \"base_url\": \"https://api.fireworks.ai/inference/v1\",\n",
    "    },\n",
    "    model_id=\"accounts/fireworks/models/kimi-k2-instruct-0905\",\n",
    "    params={\n",
    "        \"max_tokens\": 3000,\n",
    "        \"temperature\": 0.0,\n",
    "    }\n",
    ")\n",
    "\n",
    "agent = Agent(\n",
    "    model=model,\n",
    "    tools=[file_read, file_write, code_python],\n",
    "    system_prompt=\"You are a software engineer. You can read files, write files and generate python code.\"\n",
    ")\n",
    "\n",
    "@app.entrypoint\n",
    "def strands_agent_fireworks_ai(payload):\n",
    "    \"\"\"\n",
    "    Invoke the agent with a payload\n",
    "    \"\"\"\n",
    "    user_input = payload.get(\"prompt\")\n",
    "    response = agent(user_input)\n",
    "    return response.message['content'][0]['text']\n",
    "\n",
    "\n",
    "if __name__ == \"__main__\":\n",
    "    app.run()"
   ],
   "outputs": [
    {
     "name": "stdout",
     "output_type": "stream",
     "text": [
      "Overwriting strands_agents_fireworks_ai.py\n"
     ]
    }
   ],
   "execution_count": 4
  },
  {
   "cell_type": "markdown",
   "id": "c64db7b5-0f1b-475f-9bf2-467b4449d46a",
   "metadata": {},
   "source": [
    "## What happens behind the scenes?\n",
    "\n",
    "When you use `BedrockAgentCoreApp`, it automatically:\n",
    "\n",
    "* Creates an HTTP server that listens on the port 8080\n",
    "* Implements the required `/invocations` endpoint for processing the agent's requirements\n",
    "* Implements the `/ping` endpoint for health checks (very important for asynchronous agents)\n",
    "* Handles proper content types and response formats\n",
    "* Manages error handling according to the AWS standards"
   ]
  },
  {
   "cell_type": "markdown",
   "id": "6820ca8f-a8a8-4f34-b4ef-b6dad3776261",
   "metadata": {},
   "source": [
    "## Deploying the agent to AgentCore Runtime\n",
    "\n",
    "The `CreateAgentRuntime` operation supports comprehensive configuration options, letting you specify container images, environment variables and encryption settings. You can also configure protocol settings (HTTP, MCP) and authorization mechanisms to control how your clients communicate with the agent. \n",
    "\n",
    "**Note:** Operations best practice is to package code as container and push to ECR using CI/CD pipelines and IaC\n",
    "\n",
    "In this tutorial can will the Amazon Bedrock AgentCode Python SDK to easily package your artifacts and deploy them to AgentCore runtime."
   ]
  },
  {
   "cell_type": "markdown",
   "id": "8855aceb-b79f-4aaa-b16f-8577c059816a",
   "metadata": {},
   "source": [
    "### Configure AgentCore Runtime deployment\n",
    "\n",
    "Next we will use our starter toolkit to configure the AgentCore Runtime deployment with an entrypoint, the execution role we just created and a requirements file. We will also configure the starter kit to auto create the Amazon ECR repository on launch.\n",
    "\n",
    "During the configure step, your docker file will be generated based on your application code\n",
    "\n",
    "<div style=\"text-align:left\">\n",
    "    <img src=\"images/configure.png\" width=\"60%\"/>\n",
    "</div>"
   ]
  },
  {
   "cell_type": "code",
   "id": "2e79eba2-ca59-463f-9ebf-56e362d7ae66",
   "metadata": {
    "ExecuteTime": {
     "end_time": "2025-09-26T00:47:12.771283Z",
     "start_time": "2025-09-26T00:47:11.390862Z"
    }
   },
   "source": [
    "from bedrock_agentcore_starter_toolkit import Runtime\n",
    "from boto3.session import Session\n",
    "from IPython.display import Markdown, display\n",
    "import json\n",
    "import boto3\n",
    "boto_session = Session()\n",
    "region = boto_session.region_name\n",
    "\n",
    "agentcore_runtime = Runtime()\n",
    "\n",
    "agent_name = \"strands_fireworks_ai_getting_started\"\n",
    "response = agentcore_runtime.configure(\n",
    "    entrypoint=\"strands_agents_fireworks_ai.py\",\n",
    "    auto_create_execution_role=True,\n",
    "    auto_create_ecr=True,\n",
    "    requirements_file=\"requirements.txt\",\n",
    "    region=region,\n",
    "    agent_name=agent_name\n",
    ")\n",
    "response"
   ],
   "outputs": [
    {
     "name": "stderr",
     "output_type": "stream",
     "text": [
      "Entrypoint parsed: file=/Users/robertobarroso/Desktop/repos/cookbook/integrations/AgentCore/strands_agents_fireworks_ai.py, bedrock_agentcore_name=strands_agents_fireworks_ai\n",
      "Configuring BedrockAgentCore agent: strands_fireworks_ai_getting_started\n"
     ]
    },
    {
     "data": {
      "text/plain": [
       "\n",
       "\u001B[1;4;33m⚠️  ℹ️  No container engine found \u001B[0m\u001B[1;4;33m(\u001B[0m\u001B[1;4;33mDocker/Finch/Podman not installed\u001B[0m\u001B[1;4;33m)\u001B[0m\n",
       "\u001B[1;4;33m✅ Default deployment uses CodeBuild \u001B[0m\u001B[1;4;33m(\u001B[0m\u001B[1;4;33mno container engine needed\u001B[0m\u001B[1;4;33m)\u001B[0m\n",
       "\u001B[1;4;33m💡 Run \u001B[0m\u001B[4;32m'agentcore launch'\u001B[0m\u001B[1;4;33m for cloud-based building and deployment\u001B[0m\n",
       "\u001B[1;4;33m💡 For local builds, install Docker, Finch, or Podman\u001B[0m\n"
      ],
      "text/html": [
       "<pre style=\"white-space:pre;overflow-x:auto;line-height:normal;font-family:Menlo,'DejaVu Sans Mono',consolas,'Courier New',monospace\">\n",
       "<span style=\"color: #808000; text-decoration-color: #808000; font-weight: bold; text-decoration: underline\">⚠️  ℹ️  No container engine found (Docker/Finch/Podman not installed)</span>\n",
       "<span style=\"color: #808000; text-decoration-color: #808000; font-weight: bold; text-decoration: underline\">✅ Default deployment uses CodeBuild (no container engine needed)</span>\n",
       "<span style=\"color: #808000; text-decoration-color: #808000; font-weight: bold; text-decoration: underline\">💡 Run </span><span style=\"color: #008000; text-decoration-color: #008000; text-decoration: underline\">'agentcore launch'</span><span style=\"color: #808000; text-decoration-color: #808000; font-weight: bold; text-decoration: underline\"> for cloud-based building and deployment</span>\n",
       "<span style=\"color: #808000; text-decoration-color: #808000; font-weight: bold; text-decoration: underline\">💡 For local builds, install Docker, Finch, or Podman</span>\n",
       "</pre>\n"
      ]
     },
     "metadata": {},
     "output_type": "display_data",
     "jetTransient": {
      "display_id": null
     }
    },
    {
     "name": "stderr",
     "output_type": "stream",
     "text": [
      "Generated Dockerfile: /Users/robertobarroso/Desktop/repos/cookbook/integrations/AgentCore/Dockerfile\n",
      "Generated .dockerignore: /Users/robertobarroso/Desktop/repos/cookbook/integrations/AgentCore/.dockerignore\n",
      "Keeping 'strands_fireworks_ai_getting_started' as default agent\n",
      "Bedrock AgentCore configured: /Users/robertobarroso/Desktop/repos/cookbook/integrations/AgentCore/.bedrock_agentcore.yaml\n"
     ]
    },
    {
     "data": {
      "text/plain": [
       "ConfigureResult(config_path=PosixPath('/Users/robertobarroso/Desktop/repos/cookbook/integrations/AgentCore/.bedrock_agentcore.yaml'), dockerfile_path=PosixPath('/Users/robertobarroso/Desktop/repos/cookbook/integrations/AgentCore/Dockerfile'), dockerignore_path=PosixPath('/Users/robertobarroso/Desktop/repos/cookbook/integrations/AgentCore/.dockerignore'), runtime='None', region='us-west-2', account_id='023979239971', execution_role=None, ecr_repository=None, auto_create_ecr=True)"
      ]
     },
     "execution_count": 5,
     "metadata": {},
     "output_type": "execute_result"
    }
   ],
   "execution_count": 5
  },
  {
   "cell_type": "markdown",
   "id": "9e1b84cc-798e-472c-ac0b-2c315f4b704d",
   "metadata": {},
   "source": [
    "### Launching agent to AgentCore Runtime\n",
    "\n",
    "Now that we've got a docker file, let's launch the agent to the AgentCore Runtime. This will create the Amazon ECR repository and the AgentCore Runtime\n",
    "\n",
    "<div style=\"text-align:left\">\n",
    "    <img src=\"images/launch.png\" width=\"85%\"/>\n",
    "</div>"
   ]
  },
  {
   "cell_type": "code",
   "id": "17a32ab8-7701-4900-8055-e24364bdf35c",
   "metadata": {
    "ExecuteTime": {
     "end_time": "2025-09-26T00:48:58.512473Z",
     "start_time": "2025-09-26T00:47:54.396693Z"
    }
   },
   "source": [
    "from dotenv import load_dotenv\n",
    "import os\n",
    "\n",
    "load_dotenv()\n",
    "\n",
    "FIREWORKS_API_KEY = os.getenv(\"FIREWORKS_API_KEY\")\n",
    "launch_result = agentcore_runtime.launch(\n",
    "    env_vars={\n",
    "        \"OPENAI_API_BASE\": \"https://api.fireworks.ai/inference/v1\",\n",
    "        \"OPENAI_API_KEY\": FIREWORKS_API_KEY\n",
    "    }\n",
    ")"
   ],
   "outputs": [
    {
     "name": "stderr",
     "output_type": "stream",
     "text": [
      "🚀 CodeBuild mode: building in cloud (RECOMMENDED - DEFAULT)\n",
      "   • Build ARM64 containers in the cloud with CodeBuild\n",
      "   • No local Docker required\n",
      "💡 Available deployment modes:\n",
      "   • runtime.launch()                           → CodeBuild (current)\n",
      "   • runtime.launch(local=True)                 → Local development\n",
      "   • runtime.launch(local_build=True)           → Local build + cloud deploy (NEW)\n",
      "Starting CodeBuild ARM64 deployment for agent 'strands_fireworks_ai_getting_started' to account 023979239971 (us-west-2)\n",
      "Setting up AWS resources (ECR repository, execution roles)...\n",
      "Getting or creating ECR repository for agent: strands_fireworks_ai_getting_started\n",
      "✅ ECR repository available: 023979239971.dkr.ecr.us-west-2.amazonaws.com/bedrock-agentcore-strands_fireworks_ai_getting_started\n",
      "Getting or creating execution role for agent: strands_fireworks_ai_getting_started\n",
      "Using AWS region: us-west-2, account ID: 023979239971\n",
      "Role name: AmazonBedrockAgentCoreSDKRuntime-us-west-2-01b95285bc\n"
     ]
    },
    {
     "name": "stdout",
     "output_type": "stream",
     "text": [
      "✅ Reusing existing ECR repository: 023979239971.dkr.ecr.us-west-2.amazonaws.com/bedrock-agentcore-strands_fireworks_ai_getting_started\n"
     ]
    },
    {
     "name": "stderr",
     "output_type": "stream",
     "text": [
      "✅ Reusing existing execution role: arn:aws:iam::023979239971:role/AmazonBedrockAgentCoreSDKRuntime-us-west-2-01b95285bc\n",
      "✅ Execution role available: arn:aws:iam::023979239971:role/AmazonBedrockAgentCoreSDKRuntime-us-west-2-01b95285bc\n",
      "Preparing CodeBuild project and uploading source...\n",
      "Getting or creating CodeBuild execution role for agent: strands_fireworks_ai_getting_started\n",
      "Role name: AmazonBedrockAgentCoreSDKCodeBuild-us-west-2-01b95285bc\n",
      "Reusing existing CodeBuild execution role: arn:aws:iam::023979239971:role/AmazonBedrockAgentCoreSDKCodeBuild-us-west-2-01b95285bc\n",
      "Using .dockerignore with 44 patterns\n",
      "Uploaded source to S3: strands_fireworks_ai_getting_started/source.zip\n",
      "Updated CodeBuild project: bedrock-agentcore-strands_fireworks_ai_getting_started-builder\n",
      "Starting CodeBuild build (this may take several minutes)...\n",
      "Starting CodeBuild monitoring...\n",
      "🔄 QUEUED started (total: 0s)\n",
      "✅ QUEUED completed in 1.1s\n",
      "🔄 PROVISIONING started (total: 1s)\n",
      "✅ PROVISIONING completed in 8.8s\n",
      "🔄 DOWNLOAD_SOURCE started (total: 10s)\n",
      "✅ DOWNLOAD_SOURCE completed in 2.1s\n",
      "🔄 BUILD started (total: 12s)\n",
      "✅ BUILD completed in 23.6s\n",
      "🔄 POST_BUILD started (total: 36s)\n",
      "✅ POST_BUILD completed in 20.2s\n",
      "🔄 UPLOAD_ARTIFACTS started (total: 56s)\n",
      "✅ UPLOAD_ARTIFACTS completed in 1.1s\n",
      "🔄 COMPLETED started (total: 57s)\n",
      "✅ COMPLETED completed in 1.1s\n",
      "🎉 CodeBuild completed successfully in 0m 58s\n",
      "CodeBuild completed successfully\n",
      "✅ CodeBuild project configuration saved\n",
      "Deploying to Bedrock AgentCore...\n",
      "⚠️ Session ID will be reset to connect to the updated agent. The previous agent remains accessible via the original session ID: a5bcf9a5-4f1c-48c1-9ab3-45428124d26f\n",
      "✅ Agent created/updated: arn:aws:bedrock-agentcore:us-west-2:023979239971:runtime/strands_fireworks_ai_getting_started-GYttVKBZdV\n",
      "Observability is enabled, configuring Transaction Search...\n",
      "CloudWatch Logs resource policy already configured\n",
      "X-Ray trace destination already configured\n",
      "X-Ray indexing rule already configured\n",
      "✅ Transaction Search already fully configured\n",
      "🔍 GenAI Observability Dashboard:\n",
      "   https://console.aws.amazon.com/cloudwatch/home?region=us-west-2#gen-ai-observability/agent-core\n",
      "Polling for endpoint to be ready...\n",
      "Agent endpoint: arn:aws:bedrock-agentcore:us-west-2:023979239971:runtime/strands_fireworks_ai_getting_started-GYttVKBZdV/runtime-endpoint/DEFAULT\n",
      "Deployment completed successfully - Agent: arn:aws:bedrock-agentcore:us-west-2:023979239971:runtime/strands_fireworks_ai_getting_started-GYttVKBZdV\n",
      "Built with CodeBuild: bedrock-agentcore-strands_fireworks_ai_getting_started-builder:c6877964-b48a-4f66-a2ab-5cd7d87f1ebf\n",
      "Deployed to cloud: arn:aws:bedrock-agentcore:us-west-2:023979239971:runtime/strands_fireworks_ai_getting_started-GYttVKBZdV\n",
      "ECR image: 023979239971.dkr.ecr.us-west-2.amazonaws.com/bedrock-agentcore-strands_fireworks_ai_getting_started\n",
      "🔍 Agent logs available at:\n",
      "   /aws/bedrock-agentcore/runtimes/strands_fireworks_ai_getting_started-GYttVKBZdV-DEFAULT --log-stream-name-prefix \"2025/09/26/\\[runtime-logs]\"\n",
      "   /aws/bedrock-agentcore/runtimes/strands_fireworks_ai_getting_started-GYttVKBZdV-DEFAULT --log-stream-names \"otel-rt-logs\"\n",
      "💡 Tail logs with: aws logs tail /aws/bedrock-agentcore/runtimes/strands_fireworks_ai_getting_started-GYttVKBZdV-DEFAULT --log-stream-name-prefix \"2025/09/26/\\[runtime-logs]\" --follow\n",
      "💡 Or view recent logs: aws logs tail /aws/bedrock-agentcore/runtimes/strands_fireworks_ai_getting_started-GYttVKBZdV-DEFAULT --log-stream-name-prefix \"2025/09/26/\\[runtime-logs]\" --since 1h\n"
     ]
    }
   ],
   "execution_count": 8
  },
  {
   "cell_type": "markdown",
   "id": "a0ae9c09-09db-4a76-871a-92eacd96b9c3",
   "metadata": {},
   "source": [
    "### Checking for the AgentCore Runtime Status\n",
    "Now that we've deployed the AgentCore Runtime, let's check for it's deployment status"
   ]
  },
  {
   "cell_type": "code",
   "id": "afa6ac09-9adb-4846-9fc1-4d12aeb74853",
   "metadata": {
    "ExecuteTime": {
     "end_time": "2025-09-26T00:50:31.556698Z",
     "start_time": "2025-09-26T00:50:31.111086Z"
    }
   },
   "source": [
    "import time\n",
    "status_response = agentcore_runtime.status()\n",
    "status = status_response.endpoint['status']\n",
    "end_status = ['READY', 'CREATE_FAILED', 'DELETE_FAILED', 'UPDATE_FAILED']\n",
    "while status not in end_status:\n",
    "    time.sleep(10)\n",
    "    status_response = agentcore_runtime.status()\n",
    "    status = status_response.endpoint['status']\n",
    "    print(status)\n",
    "status"
   ],
   "outputs": [
    {
     "name": "stderr",
     "output_type": "stream",
     "text": [
      "Retrieved Bedrock AgentCore status for: strands_fireworks_ai_getting_started\n"
     ]
    },
    {
     "data": {
      "text/plain": [
       "'READY'"
      ]
     },
     "execution_count": 9,
     "metadata": {},
     "output_type": "execute_result"
    }
   ],
   "execution_count": 9
  },
  {
   "cell_type": "markdown",
   "id": "b7f89c56-918a-4cab-beaa-c7ac43a2ba29",
   "metadata": {},
   "source": [
    "### Invoking AgentCore Runtime\n",
    "\n",
    "Finally, we can invoke our AgentCore Runtime with a payload. We will invoke the python developer agent with a simple leet code problem.\n",
    "\n",
    "<div style=\"text-align:left\">\n",
    "    <img src=\"images/invoke.png\" width=85%\"/>\n",
    "</div>"
   ]
  },
  {
   "cell_type": "code",
   "id": "3d909e42-e1a0-407f-84c2-3d16cc889cd3",
   "metadata": {
    "ExecuteTime": {
     "end_time": "2025-09-26T00:50:41.254179Z",
     "start_time": "2025-09-26T00:50:33.459956Z"
    }
   },
   "source": [
    "LEET_CODE_PROMPT = \"\"\"\n",
    "Given an array of integers nums and an integer target, return indices of the two numbers such that they add up to target.\n",
    "You may assume that each input would have exactly one solution, and you may not use the same element twice.\n",
    "You can return the answer in any order.\n",
    "\"\"\"\n",
    "\n",
    "invoke_response = agentcore_runtime.invoke({\"prompt\": LEET_CODE_PROMPT})\n",
    "invoke_response"
   ],
   "outputs": [
    {
     "data": {
      "text/plain": [
       "{'ResponseMetadata': {'RequestId': '1a1d2600-3811-4665-98f3-76865bd0ef59',\n",
       "  'HTTPStatusCode': 200,\n",
       "  'HTTPHeaders': {'date': 'Fri, 26 Sep 2025 00:50:41 GMT',\n",
       "   'content-type': 'application/json',\n",
       "   'transfer-encoding': 'chunked',\n",
       "   'connection': 'keep-alive',\n",
       "   'x-amzn-requestid': '1a1d2600-3811-4665-98f3-76865bd0ef59',\n",
       "   'baggage': 'Self=1-68d5e359-28adc6132ae389a42df36bee,session.id=6c89ee01-df08-4f71-86cc-90ecc931427c',\n",
       "   'x-amzn-bedrock-agentcore-runtime-session-id': '6c89ee01-df08-4f71-86cc-90ecc931427c',\n",
       "   'x-amzn-trace-id': 'Root=1-68d5e359-5c3dfcd513575b082864af5f;Self=1-68d5e359-28adc6132ae389a42df36bee'},\n",
       "  'RetryAttempts': 0},\n",
       " 'runtimeSessionId': '6c89ee01-df08-4f71-86cc-90ecc931427c',\n",
       " 'traceId': 'Root=1-68d5e359-5c3dfcd513575b082864af5f;Self=1-68d5e359-28adc6132ae389a42df36bee',\n",
       " 'baggage': 'Self=1-68d5e359-28adc6132ae389a42df36bee,session.id=6c89ee01-df08-4f71-86cc-90ecc931427c',\n",
       " 'contentType': 'application/json',\n",
       " 'statusCode': 200,\n",
       " 'response': ['\"```python\\\\ndef two_sum(nums, target):\\\\n    \\\\\"\\\\\"\\\\\"\\\\n    Find two numbers in the array that add up to the target.\\\\n    \\\\n    Args:\\\\n        nums: List of integers\\\\n        target: Target sum\\\\n    \\\\n    Returns:\\\\n        List of two indices whose corresponding values add up to target\\\\n    \\\\n    Example:\\\\n        >>> two_sum([2, 7, 11, 15], 9)\\\\n        [0, 1]\\\\n        >>> two_sum([3, 2, 4], 6)\\\\n        [1, 2]\\\\n        >>> two_sum([3, 3], 6)\\\\n        [0, 1]\\\\n    \\\\\"\\\\\"\\\\\"\\\\n    # Use a hash map to store numbers we\\'ve seen and their indices\\\\n    seen = {}\\\\n    \\\\n    for i, num in enumerate(nums):\\\\n        complement = target - num\\\\n        \\\\n        # Check if the complement exists in our hash map\\\\n        if complement in seen:\\\\n            return [seen[complement], i]\\\\n        \\\\n        # Store the current number and its index\\\\n        seen[num] = i\\\\n    \\\\n    # This should never be reached given the problem constraints\\\\n    return []\\\\n\\\\n\\\\n# Test cases\\\\nif __name__ == \\\\\"__main__\\\\\":\\\\n    # Test case 1\\\\n    nums1 = [2',\n",
       "  ', 7, 11, 15]\\\\n    target1 = 9\\\\n    result1 = two_sum(nums1, target1)\\\\n    print(f\\\\\"Input: nums = {nums1}, target = {target1}\\\\\")\\\\n    print(f\\\\\"Output: {result1}\\\\\")\\\\n    print(f\\\\\"Verification: {nums1[result1[0]]} + {nums1[result1[1]]} = {nums1[result1[0]] + nums1[result1[1]]}\\\\\")\\\\n    print()\\\\n    \\\\n    # Test case 2\\\\n    nums2 = [3, 2, 4]\\\\n    target2 = 6\\\\n    result2 = two_sum(nums2, target2)\\\\n    print(f\\\\\"Input: nums = {nums2}, target = {target2}\\\\\")\\\\n    print(f\\\\\"Output: {result2}\\\\\")\\\\n    print(f\\\\\"Verification: {nums2[result2[0]]} + {nums2[result2[1]]} = {nums2[result2[0]] + nums2[result2[1]]}\\\\\")\\\\n    print()\\\\n    \\\\n    # Test case 3\\\\n    nums3 = [3, 3]\\\\n    target3 = 6\\\\n    result3 = two_sum(nums3, target3)\\\\n    print(f\\\\\"Input: nums = {nums3}, target = {target3}\\\\\")\\\\n    print(f\\\\\"Output: {result3}\\\\\")\\\\n    print(f\\\\\"Verification: {nums3[result3[0]]} + {nums3[result3[1]]} = {nums3[result3[0]] + nums3[result3[1]]}\\\\\")\\\\n    print()\\\\n    \\\\n    # Additional test case\\\\n    nums4 = [-1, 0, 1, 2]\\\\n    target4 = 1\\\\n    r',\n",
       "  'esult4 = two_sum(nums4, target4)\\\\n    print(f\\\\\"Input: nums = {nums4}, target = {target4}\\\\\")\\\\n    print(f\\\\\"Output: {result4}\\\\\")\\\\n    print(f\\\\\"Verification: {nums4[result4[0]]} + {nums4[result4[1]]} = {nums4[result4[0]] + nums4[result4[1]]}\\\\\")\\\\n```\"']}"
      ]
     },
     "execution_count": 10,
     "metadata": {},
     "output_type": "execute_result"
    }
   ],
   "execution_count": 10
  },
  {
   "cell_type": "code",
   "id": "11249103-cfb3-47b5-970d-981a977a225a",
   "metadata": {
    "ExecuteTime": {
     "end_time": "2025-09-26T00:53:56.503170Z",
     "start_time": "2025-09-26T00:53:56.498796Z"
    }
   },
   "source": [
    "from IPython.display import Markdown, display\n",
    "import json\n",
    "\n",
    "# Clean and display the response\n",
    "full_text = json.loads(''.join(invoke_response['response']))\n",
    "display(Markdown(full_text))"
   ],
   "outputs": [
    {
     "data": {
      "text/plain": [
       "<IPython.core.display.Markdown object>"
      ],
      "text/markdown": "```python\ndef two_sum(nums, target):\n    \"\"\"\n    Find two numbers in the array that add up to the target.\n    \n    Args:\n        nums: List of integers\n        target: Target sum\n    \n    Returns:\n        List of two indices whose corresponding values add up to target\n    \n    Example:\n        >>> two_sum([2, 7, 11, 15], 9)\n        [0, 1]\n        >>> two_sum([3, 2, 4], 6)\n        [1, 2]\n        >>> two_sum([3, 3], 6)\n        [0, 1]\n    \"\"\"\n    # Use a hash map to store numbers we've seen and their indices\n    seen = {}\n    \n    for i, num in enumerate(nums):\n        complement = target - num\n        \n        # Check if the complement exists in our hash map\n        if complement in seen:\n            return [seen[complement], i]\n        \n        # Store the current number and its index\n        seen[num] = i\n    \n    # This should never be reached given the problem constraints\n    return []\n\n\n# Test cases\nif __name__ == \"__main__\":\n    # Test case 1\n    nums1 = [2, 7, 11, 15]\n    target1 = 9\n    result1 = two_sum(nums1, target1)\n    print(f\"Input: nums = {nums1}, target = {target1}\")\n    print(f\"Output: {result1}\")\n    print(f\"Verification: {nums1[result1[0]]} + {nums1[result1[1]]} = {nums1[result1[0]] + nums1[result1[1]]}\")\n    print()\n    \n    # Test case 2\n    nums2 = [3, 2, 4]\n    target2 = 6\n    result2 = two_sum(nums2, target2)\n    print(f\"Input: nums = {nums2}, target = {target2}\")\n    print(f\"Output: {result2}\")\n    print(f\"Verification: {nums2[result2[0]]} + {nums2[result2[1]]} = {nums2[result2[0]] + nums2[result2[1]]}\")\n    print()\n    \n    # Test case 3\n    nums3 = [3, 3]\n    target3 = 6\n    result3 = two_sum(nums3, target3)\n    print(f\"Input: nums = {nums3}, target = {target3}\")\n    print(f\"Output: {result3}\")\n    print(f\"Verification: {nums3[result3[0]]} + {nums3[result3[1]]} = {nums3[result3[0]] + nums3[result3[1]]}\")\n    print()\n    \n    # Additional test case\n    nums4 = [-1, 0, 1, 2]\n    target4 = 1\n    result4 = two_sum(nums4, target4)\n    print(f\"Input: nums = {nums4}, target = {target4}\")\n    print(f\"Output: {result4}\")\n    print(f\"Verification: {nums4[result4[0]]} + {nums4[result4[1]]} = {nums4[result4[0]] + nums4[result4[1]]}\")\n```"
     },
     "metadata": {},
     "output_type": "display_data",
     "jetTransient": {
      "display_id": null
     }
    }
   ],
   "execution_count": 13
  },
  {
   "cell_type": "markdown",
   "id": "2c1d2bce-be41-478c-8bed-b4037c385795",
   "metadata": {},
   "source": [
    "### Invoking AgentCore Runtime with boto3\n",
    "\n",
    "Now that your AgentCore Runtime was created you can invoke it with any AWS SDK. For instance, you can use the boto3 `invoke_agent_runtime` method for it."
   ]
  },
  {
   "cell_type": "code",
   "id": "7f84e68d-6c04-41b9-bf5b-60edc3fa0985",
   "metadata": {
    "ExecuteTime": {
     "end_time": "2025-09-26T00:54:14.693230Z",
     "start_time": "2025-09-26T00:54:09.812288Z"
    }
   },
   "source": [
    "agent_arn = launch_result.agent_arn\n",
    "agentcore_client = boto3.client(\n",
    "    'bedrock-agentcore',\n",
    "    region_name=region\n",
    ")\n",
    "\n",
    "boto3_response = agentcore_client.invoke_agent_runtime(\n",
    "    agentRuntimeArn=agent_arn,\n",
    "    qualifier=\"DEFAULT\",\n",
    "    payload=json.dumps({\"prompt\": \"How much is 2X2?\"})\n",
    ")\n",
    "if \"text/event-stream\" in boto3_response.get(\"contentType\", \"\"):\n",
    "    content = []\n",
    "    for line in boto3_response[\"response\"].iter_lines(chunk_size=1):\n",
    "        if line:\n",
    "            line = line.decode(\"utf-8\")\n",
    "            if line.startswith(\"data: \"):\n",
    "                line = line[6:]\n",
    "                print(line)\n",
    "                content.append(line)\n",
    "    display(Markdown(\"\\n\".join(content)))\n",
    "else:\n",
    "    try:\n",
    "        events = []\n",
    "        for event in boto3_response.get(\"response\", []):\n",
    "            events.append(event)\n",
    "    except Exception as e:\n",
    "        events = [f\"Error reading EventStream: {e}\"]\n",
    "    display(Markdown(json.loads(events[0].decode(\"utf-8\"))))"
   ],
   "outputs": [
    {
     "data": {
      "text/plain": [
       "<IPython.core.display.Markdown object>"
      ],
      "text/markdown": "2 × 2 = 4"
     },
     "metadata": {},
     "output_type": "display_data",
     "jetTransient": {
      "display_id": null
     }
    }
   ],
   "execution_count": 14
  },
  {
   "cell_type": "markdown",
   "id": "7d3fdfe404469632",
   "metadata": {},
   "source": [
    "## Cleanup (Optional)\n",
    "\n",
    "Let's now clean up the AgentCore Runtime created"
   ]
  },
  {
   "cell_type": "code",
   "id": "76a6cf1416830a54",
   "metadata": {
    "ExecuteTime": {
     "end_time": "2025-09-26T00:54:27.034669Z",
     "start_time": "2025-09-26T00:54:26.448643Z"
    }
   },
   "source": [
    "agentcore_control_client = boto3.client(\n",
    "    'bedrock-agentcore-control',\n",
    "    region_name=region\n",
    ")\n",
    "ecr_client = boto3.client(\n",
    "    'ecr',\n",
    "    region_name=region\n",
    "    \n",
    ")\n",
    "\n",
    "runtime_delete_response = agentcore_control_client.delete_agent_runtime(\n",
    "    agentRuntimeId=launch_result.agent_id\n",
    ")\n",
    "\n",
    "response = ecr_client.delete_repository(\n",
    "    repositoryName=launch_result.ecr_uri.split('/')[1],\n",
    "    force=True\n",
    ")"
   ],
   "outputs": [],
   "execution_count": 15
  }
 ],
 "metadata": {
  "kernelspec": {
   "display_name": "Python 3 (ipykernel)",
   "language": "python",
   "name": "python3"
  },
  "language_info": {
   "codemirror_mode": {
    "name": "ipython",
    "version": 3
   },
   "file_extension": ".py",
   "mimetype": "text/x-python",
   "name": "python",
   "nbconvert_exporter": "python",
   "pygments_lexer": "ipython3",
   "version": "3.10.18"
  }
 },
 "nbformat": 4,
 "nbformat_minor": 5
}
