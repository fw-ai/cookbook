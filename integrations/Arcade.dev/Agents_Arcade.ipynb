{
 "cells": [
  {
   "cell_type": "markdown",
   "metadata": {},
   "source": [
    "# Using Fireworks AI with Arcade.dev to Send Emails\n",
    "\n",
    "[![Open In Colab](https://colab.research.google.com/assets/colab-badge.svg)](https://colab.research.google.com/github/fireworks-ai/fireworks-cookbook/blob/main/Agents/Arcade/Agents_Arcade.ipynb)\n",
    "\n",
    "<div style=\"text-align: center\">\n",
    "<img src=\"../../assets/fw-arcade.png\" width=\"400\">\n",
    "</div>\n",
    "\n",
    "#### This notebook demonstrates how to integrate Fireworks AI's language models with Arcade's tools to create an AI agent that can send emails. We'll show:\n",
    "\n",
    "1. Setting up the required packages and authentication\n",
    "2. Configuring the email tool with Arcade\n",
    "3. Creating a basic email-sending agent\n",
    "4. Executing and handling the email responses\n",
    "\n",
    "Let's see how we can combine these powerful tools to automate email communication!"
   ]
  },
  {
   "cell_type": "markdown",
   "metadata": {},
   "source": [
    "## Prerequisites\n",
    "- Fireworks AI API key - see here https://fireworks.ai/\n",
    "- Arcade API key - see here https://arcade.dev/\n",
    "- Gmail account to connect via OAuth\n"
   ]
  },
  {
   "cell_type": "code",
   "execution_count": 1,
   "metadata": {},
   "outputs": [],
   "source": [
    "# install the required packages\n",
    "!pip install -qU fireworks-ai arcadepy"
   ]
  },
  {
   "cell_type": "markdown",
   "metadata": {},
   "source": [
    "## Gmail Configuration\n",
    "We need to connect our Gmail account to Arcade. This will open a browser window for OAuth authentication."
   ]
  },
  {
   "cell_type": "code",
   "execution_count": 2,
   "metadata": {},
   "outputs": [],
   "source": [
    "import os\n",
    "from arcadepy import Arcade\n",
    "from fireworks.client import Fireworks"
   ]
  },
  {
   "cell_type": "code",
   "execution_count": 3,
   "metadata": {},
   "outputs": [],
   "source": [
    "# Set environment variables\n",
    "os.environ[\"FIREWORKS_API_KEY\"] = \"fw_XXXXXXXXX\"  # Replace with your actual Fireworks API key\n",
    "os.environ[\"ARCADE_API_KEY\"] = \"arc_XXXXXXXXXXX\"    # Replace with your actual Arcade API key"
   ]
  },
  {
   "cell_type": "code",
   "execution_count": null,
   "metadata": {},
   "outputs": [],
   "source": [
    "\n",
    "# Initialize clients\n",
    "fireworks_client = Fireworks(api_key=os.getenv(\"FIREWORKS_API_KEY\"))\n",
    "arcade_client = Arcade()  # Automatically finds the ARCADE_API_KEY env variable\n",
    "# Set up user ID (your email)\n",
    "USER_ID = \"your_email@example.com\"  # Change this to your email\n",
    "\n",
    "# Authorize Gmail access\n",
    "auth_response = arcade_client.tools.authorize(\n",
    "    tool_name=\"Google.SendEmail\",\n",
    "    user_id=USER_ID,\n",
    ")\n",
    "\n",
    "if auth_response.status != \"completed\":\n",
    "    print(f\"Click this link to authorize: {auth_response.url}\")\n",
    "    # Wait for the authorization to complete\n",
    "    arcade_client.auth.wait_for_completion(auth_response)\n",
    "\n",
    "print(\"Authorization completed!\")"
   ]
  },
  {
   "cell_type": "markdown",
   "metadata": {},
   "source": [
    "## Basic Email Tool Call\n",
    "\n",
    "Here we create a simple integration between Fireworks AI's LLM and Arcade's Gmail tool:\n",
    "1. Initialize Fireworks AI client\n",
    "2. Get LLM to generate email parameters\n",
    "3. Use Arcade to send the email"
   ]
  },
  {
   "cell_type": "code",
   "execution_count": 5,
   "metadata": {},
   "outputs": [
    {
     "name": "stdout",
     "output_type": "stream",
     "text": [
      "Email sent successfully!\n",
      "Response: ExecuteToolResponse(id='te_2y0UP2X1vHeaDGzSgXGf55hK5CJ', duration=429.60190773010254, execution_id='tc_2y0UP2pk3KJ6rtbD8SbbKg7QaCr', execution_type='immediate', finished_at='2025-06-03T17:15:56Z', output=Output(authorization=None, error=None, logs=None, value={'body': '', 'cc': '', 'date': '', 'from': '', 'header_message_id': '', 'history_id': '', 'id': '19736cae73432411', 'in_reply_to': '', 'label_ids': ['SENT'], 'references': '', 'reply_to': '', 'snippet': '', 'subject': '', 'thread_id': '19736cae73432411', 'to': '', 'url': 'https://mail.google.com/mail/u/0/#sent/19736cae73432411'}), run_at=None, status='success', success=True)\n"
     ]
    }
   ],
   "source": [
    "import json\n",
    "\n",
    "# Define the tool schema for the LLM\n",
    "email_tool_schema = {\n",
    "    \"type\": \"function\",\n",
    "    \"function\": {\n",
    "        \"name\": \"send_email\",\n",
    "        \"description\": \"Send an email to a recipient\",\n",
    "        \"parameters\": {\n",
    "            \"type\": \"object\",\n",
    "            \"properties\": {\n",
    "                \"recipient\": {\n",
    "                    \"type\": \"string\",\n",
    "                    \"description\": \"Email address of the recipient\"\n",
    "                },\n",
    "                \"subject\": {\n",
    "                    \"type\": \"string\",\n",
    "                    \"description\": \"Subject line of the email\"\n",
    "                },\n",
    "                \"body\": {\n",
    "                    \"type\": \"string\",\n",
    "                    \"description\": \"Body content of the email\"\n",
    "                }\n",
    "            },\n",
    "            \"required\": [\"recipient\", \"subject\", \"body\"]\n",
    "        }\n",
    "    }\n",
    "}\n",
    "\n",
    "# Create a chat completion with email capability\n",
    "response = fireworks_client.chat.completions.create(\n",
    "    model=\"accounts/fireworks/models/qwen2p5-72b-instruct\",\n",
    "    messages=[\n",
    "        {\"role\": \"system\", \"content\": \"You are Alex, a product manager at an AI company.\"},\n",
    "        {\n",
    "            \"role\": \"user\",\n",
    "            \"content\": \"Send an email to John at John@arcade.dev to inquire about a good time to meet next week to review the upcoming launch.\",\n",
    "        },\n",
    "    ],\n",
    "    tools=[email_tool_schema],\n",
    ")\n",
    "\n",
    "# Extract the tool call\n",
    "if response.choices[0].message.tool_calls:\n",
    "    tool_call = response.choices[0].message.tool_calls[0]\n",
    "    email_params = json.loads(tool_call.function.arguments)\n",
    "    \n",
    "    # Send the email using Arcade\n",
    "    email_response = arcade_client.tools.execute(\n",
    "        tool_name=\"Google.SendEmail\",\n",
    "        input={\n",
    "            \"recipient\": email_params[\"recipient\"],\n",
    "            \"subject\": email_params[\"subject\"],\n",
    "            \"body\": email_params[\"body\"]\n",
    "        },\n",
    "        user_id=USER_ID,\n",
    "    )\n",
    "    \n",
    "    print(\"Email sent successfully!\")\n",
    "    print(f\"Response: {email_response}\")"
   ]
  },
  {
   "cell_type": "markdown",
   "metadata": {},
   "source": [
    "## Creating a Reusable Email Agent\n",
    "\n",
    "Let's wrap this functionality into a class for easier reuse:"
   ]
  },
  {
   "cell_type": "code",
   "execution_count": 6,
   "metadata": {},
   "outputs": [],
   "source": [
    "class EmailAgent:\n",
    "    def __init__(self, arcade_client, fireworks_client, user_id):\n",
    "        self.arcade = arcade_client\n",
    "        self.fireworks = fireworks_client\n",
    "        self.user_id = user_id\n",
    "        self.model = \"accounts/fireworks/models/qwen2p5-72b-instruct\"\n",
    "        \n",
    "        # Define tool schemas\n",
    "        self.tools = [\n",
    "            {\n",
    "                \"type\": \"function\",\n",
    "                \"function\": {\n",
    "                    \"name\": \"send_email\",\n",
    "                    \"description\": \"Send an email to a recipient\",\n",
    "                    \"parameters\": {\n",
    "                        \"type\": \"object\",\n",
    "                        \"properties\": {\n",
    "                            \"recipient\": {\"type\": \"string\", \"description\": \"Email address\"},\n",
    "                            \"subject\": {\"type\": \"string\", \"description\": \"Email subject\"},\n",
    "                            \"body\": {\"type\": \"string\", \"description\": \"Email body\"}\n",
    "                        },\n",
    "                        \"required\": [\"recipient\", \"subject\", \"body\"]\n",
    "                    }\n",
    "                }\n",
    "            },\n",
    "            {\n",
    "                \"type\": \"function\",\n",
    "                \"function\": {\n",
    "                    \"name\": \"list_emails\",\n",
    "                    \"description\": \"List recent emails\",\n",
    "                    \"parameters\": {\n",
    "                        \"type\": \"object\",\n",
    "                        \"properties\": {\n",
    "                            \"n_emails\": {\"type\": \"integer\", \"description\": \"Number of emails to list\"}\n",
    "                        },\n",
    "                        \"required\": [\"n_emails\"]\n",
    "                    }\n",
    "                }\n",
    "            }\n",
    "        ]\n",
    "    \n",
    "    def process_request(self, request: str, system_prompt: str = None):\n",
    "        \"\"\"Process a natural language request about emails.\"\"\"\n",
    "        \n",
    "        if not system_prompt:\n",
    "            system_prompt = \"You are a helpful email assistant.\"\n",
    "        \n",
    "        # Get LLM response\n",
    "        response = self.fireworks.chat.completions.create(\n",
    "            model=self.model,\n",
    "            messages=[\n",
    "                {\"role\": \"system\", \"content\": system_prompt},\n",
    "                {\"role\": \"user\", \"content\": request}\n",
    "            ],\n",
    "            tools=self.tools,\n",
    "        )\n",
    "        \n",
    "        # Handle tool calls\n",
    "        if response.choices[0].message.tool_calls:\n",
    "            results = []\n",
    "            for tool_call in response.choices[0].message.tool_calls:\n",
    "                function_name = tool_call.function.name\n",
    "                arguments = json.loads(tool_call.function.arguments)\n",
    "                \n",
    "                if function_name == \"send_email\":\n",
    "                    result = self.arcade.tools.execute(\n",
    "                        tool_name=\"Google.SendEmail\",\n",
    "                        input=arguments,\n",
    "                        user_id=self.user_id,\n",
    "                    )\n",
    "                    results.append({\"action\": \"email_sent\", \"result\": result})\n",
    "                    \n",
    "                elif function_name == \"list_emails\":\n",
    "                    result = self.arcade.tools.execute(\n",
    "                        tool_name=\"Google.ListEmails\",\n",
    "                        input=arguments,\n",
    "                        user_id=self.user_id,\n",
    "                    )\n",
    "                    results.append({\"action\": \"emails_listed\", \"result\": result})\n",
    "            \n",
    "            return results\n",
    "        \n",
    "        return response.choices[0].message.content\n",
    "\n",
    "# Create the email agent\n",
    "email_agent = EmailAgent(arcade_client, fireworks_client, USER_ID)"
   ]
  },
  {
   "cell_type": "markdown",
   "metadata": {},
   "source": [
    "## Example Usage"
   ]
  },
  {
   "cell_type": "code",
   "execution_count": null,
   "metadata": {},
   "outputs": [],
   "source": [
    "# Send a follow-up email\n",
    "result = email_agent.process_request(\n",
    "    \"Send a follow-up email to John@arcade.dev about the mockups for the new feature. Be friendly and ask if she needs any clarification.\",\n",
    "    system_prompt=\"You are Alex, a product manager who values clear communication.\"\n",
    ")\n",
    "\n",
    "print(f\"Result: {result}\")"
   ]
  },
  {
   "cell_type": "code",
   "execution_count": null,
   "metadata": {},
   "outputs": [],
   "source": [
    "# List recent emails\n",
    "emails = email_agent.process_request(\n",
    "    \"Show me my last 5 emails\"\n",
    ")\n",
    "\n",
    "print(f\"Emails: {emails}\")"
   ]
  },
  {
   "cell_type": "markdown",
   "metadata": {},
   "source": [
    "## Advanced: Email Search and Analysis\n",
    "\n",
    "Let's extend our agent to search through emails:"
   ]
  },
  {
   "cell_type": "code",
   "execution_count": null,
   "metadata": {},
   "outputs": [],
   "source": [
    "# Search for emails from a specific sender\n",
    "search_result = arcade_client.tools.execute(\n",
    "    tool_name=\"Google.ListEmailsByHeader\",\n",
    "    input={\n",
    "        \"sender\": \"john@mlteam.com\",\n",
    "        \"limit\": 10\n",
    "    },\n",
    "    user_id=USER_ID,\n",
    ")\n",
    "\n",
    "if search_result.get('emails'):\n",
    "    print(f\"Found {len(search_result['emails'])} emails from John:\")\n",
    "    for i, email in enumerate(search_result['emails'][:3], 1):\n",
    "        print(f\"{i}. Subject: {email.get('subject', 'No subject')}\")\n",
    "        print(f\"   Snippet: {email.get('snippet', 'No preview')}\")\n",
    "        print()"
   ]
  },
  {
   "cell_type": "markdown",
   "metadata": {},
   "source": [
    "## Summary\n",
    "\n",
    "You've successfully created an email agent using Arcade and Fireworks AI! This notebook demonstrated:\n",
    "\n",
    "1. **OAuth Authentication** - Securely connecting your Gmail account to Arcade\n",
    "2. **Tool Integration** - Using Fireworks AI to generate email parameters and Arcade to execute actions\n",
    "3. **Reusable Agent** - Building a flexible EmailAgent class\n",
    "4. **Multiple Actions** - Sending emails, listing emails, and searching by headers\n",
    "\n",
    "### Next Steps\n",
    "- Explore more Arcade tools like Calendar, Slack, and Drive\n",
    "- Build complex workflows combining multiple tools\n",
    "- Add error handling and retry logic for production use\n",
    "\n",
    "Check out the [Arcade documentation](https://docs.arcade.dev/) for more tools and capabilities!"
   ]
  }
 ],
 "metadata": {
  "kernelspec": {
   "display_name": "Python 3 (ipykernel)",
   "language": "python",
   "name": "python3"
  },
  "language_info": {
   "codemirror_mode": {
    "name": "ipython",
    "version": 3
   },
   "file_extension": ".py",
   "mimetype": "text/x-python",
   "name": "python",
   "nbconvert_exporter": "python",
   "pygments_lexer": "ipython3",
   "version": "3.13.2"
  }
 },
 "nbformat": 4,
 "nbformat_minor": 4
}
