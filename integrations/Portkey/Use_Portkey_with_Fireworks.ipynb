{
  "nbformat": 4,
  "nbformat_minor": 0,
  "metadata": {
    "colab": {
      "provenance": []
    },
    "kernelspec": {
      "name": "python3",
      "display_name": "Python 3"
    },
    "language_info": {
      "name": "python"
    }
  },
  "cells": [
    {
      "cell_type": "markdown",
      "source": [
        "[![Open In Colab](https://colab.research.google.com/assets/colab-badge.svg)](https://colab.research.google.com/drive/1CNdUtc3Kz9XNf90xKBYz9Yb360OWtTP_?usp=sharing)"
      ],
      "metadata": {
        "id": "KR-QyseIBUuD"
      }
    },
    {
      "cell_type": "markdown",
      "source": [
        "# Portkey + Fireworks Integration\n",
        "\n",
        "[Portkey](https://portkey.ai) + Fireworks Integration\n",
        "\n",
        "Portkey provides a robust gateway to integrate Fireworks models into your applications with features like:\n",
        "\n",
        "- Fast AI gateway access\n",
        "- Comprehensive observability\n",
        "- Semantic caching\n",
        "- Automated retries & fallbacks\n",
        "- Custom metadata & logging dashboard\n",
        "\n",
        "This cookbook demonstrates how to effectively use Fireworks models through Portkey's AI Gateway."
      ],
      "metadata": {
        "id": "LzyRJjWS8x1a"
      }
    },
    {
      "cell_type": "markdown",
      "source": [
        "# Setup & Installation\n",
        "\n",
        "Install Portkey Python SDK and intialise the LLM client.\n",
        "\n",
        "Portkey's Virtual keys is an alias to your real Firworks API key, this allows you to manage your API keys more effectively and add budget limits and rate limits to it"
      ],
      "metadata": {
        "id": "IsWxvvu588t3"
      }
    },
    {
      "cell_type": "code",
      "source": [
        "!pip install -qU portkey-ai"
      ],
      "metadata": {
        "id": "_RD6HM0z8xdM"
      },
      "execution_count": null,
      "outputs": []
    },
    {
      "cell_type": "code",
      "execution_count": null,
      "metadata": {
        "id": "3v7FsUPd0fqv"
      },
      "outputs": [],
      "source": [
        "from portkey_ai import Portkey\n",
        "\n",
        "# Initialize Portkey with your API keys\n",
        "portkey = Portkey(\n",
        "    api_key=\"PORTKEY_API_KEY\",  # Your Portkey API key\n",
        "    virtual_key=\"FIREWORKS_VIRTUAL_KEY\"  # Your Fireworks Virtual Key from Portkey\n",
        ")"
      ]
    },
    {
      "cell_type": "markdown",
      "source": [
        "# 1. Basic Chat Completion\n",
        "Let's start with a simple chat completion using Fireworks' Llama model:"
      ],
      "metadata": {
        "id": "3mT9sHx59H_X"
      }
    },
    {
      "cell_type": "code",
      "source": [
        "from portkey_ai import Portkey\n",
        "\n",
        "# Initialize Portkey with your API keys\n",
        "portkey = Portkey(\n",
        "    api_key=\"PORTKEY_API_KEY\",  # Your Portkey API key\n",
        "    virtual_key=\"FIREWORKS_VIRTUAL_KEY\"  # Your Fireworks Virtual Key from Portkey\n",
        ")\n",
        "\n",
        "completion = portkey.chat.completions.create(\n",
        "    messages=[{\n",
        "        \"role\": \"user\",\n",
        "        \"content\": \"What's the purpose of Generative AI?\"\n",
        "    }],\n",
        "    model=\"accounts/fireworks/models/llama-v3-8b-instruct\"\n",
        ")\n",
        "\n",
        "print(completion.choices[0].message.content)"
      ],
      "metadata": {
        "id": "zmuhbLeN9KV4"
      },
      "execution_count": null,
      "outputs": []
    },
    {
      "cell_type": "markdown",
      "source": [
        "# Advanced Routing Features\n"
      ],
      "metadata": {
        "id": "zJPJO0-T9KmE"
      }
    },
    {
      "cell_type": "markdown",
      "source": [
        "## 2.1 Load Balancing\n",
        "\n",
        "Portkey allows you to distribute traffic across multiple models or API keys:"
      ],
      "metadata": {
        "id": "bu99LzUB9Uhd"
      }
    },
    {
      "cell_type": "code",
      "source": [
        "load_balance_config = {\n",
        "    \"strategy\": {\n",
        "        \"mode\": \"loadbalance\"\n",
        "    },\n",
        "    \"targets\": [\n",
        "        {\n",
        "            \"virtual_key\": \"fireworks-prod\",  # First Fireworks API key\n",
        "            \"override_params\": {\n",
        "                \"model\": \"accounts/fireworks/models/llama-v3-8b-instruct\"\n",
        "            },\n",
        "            \"weight\": 0.7\n",
        "        },\n",
        "        {\n",
        "            \"virtual_key\": \"fireworks-backup\",  # Second Fireworks API key\n",
        "            \"override_params\": {\n",
        "                \"model\": \"accounts/fireworks/models/llama-v3-7b\"\n",
        "            },\n",
        "            \"weight\": 0.3\n",
        "        }\n",
        "    ]\n",
        "}\n",
        "\n",
        "portkey_lb = Portkey(\n",
        "    api_key=\"PORTKEY_API_KEY\", # Enter Yout Portkey API Key\n",
        "    config=load_balance_config\n",
        ")\n",
        "\n",
        "# Test load-balanced request\n",
        "response = portkey_lb.chat.completions.create(\n",
        "    messages=[{\"role\": \"user\", \"content\": \"Hello!\"}]\n",
        ")\n",
        "print(response.choices[0].message.content)"
      ],
      "metadata": {
        "id": "hw1olemh9LA4"
      },
      "execution_count": null,
      "outputs": []
    },
    {
      "cell_type": "markdown",
      "source": [
        "# 2.2 Fallbacks & Retries\n",
        "Configure automatic retries and fallbacks for improved reliability:\n"
      ],
      "metadata": {
        "id": "-bWprnGt9LSE"
      }
    },
    {
      "cell_type": "code",
      "source": [
        "fallback_config = {\n",
        "    \"strategy\": {\n",
        "        \"mode\": \"fallback\"\n",
        "    },\n",
        "    \"targets\": [\n",
        "        {\n",
        "            \"virtual_key\": \"fireworks-prod\",\n",
        "            \"override_params\": {\"model\": \"accounts/fireworks/models/llama-v3-8b-instruct\"}\n",
        "        },\n",
        "        {\n",
        "            \"virtual_key\": \"fireworks-backup\",\n",
        "            \"override_params\": {\"model\": \"accounts/fireworks/models/llama-v3-7b\"}\n",
        "        }\n",
        "    ]\n",
        "}\n",
        "\n",
        "portkey_fb = Portkey(\n",
        "    api_key=\"PORTKEY_API_KEY\", # Enter Yout Portkey API Key\n",
        "    config=fallback_config\n",
        ")"
      ],
      "metadata": {
        "id": "qLdKmHoU9LqU"
      },
      "execution_count": null,
      "outputs": []
    },
    {
      "cell_type": "markdown",
      "source": [
        "Portkey has powerful routing strategies beyond what we've covered. You can use conditional routing to direct requests based on custom rules, implement advanced retry mechanisms, conduct A/B testing between models, and much more. Check out [Portkey docs](docs.portkey.ai) to explore these advanced routing capabilities in detail."
      ],
      "metadata": {
        "id": "aeskmD31AO3A"
      }
    },
    {
      "cell_type": "markdown",
      "source": [
        "# Enhanced Observability\n",
        "## Request Tracing\n",
        "Add metadata and trace IDs to track requests:\n",
        "\n",
        "\n"
      ],
      "metadata": {
        "id": "80NYnIxE9mdH"
      }
    },
    {
      "cell_type": "code",
      "source": [
        "TRACE_ID = 'fireworks_test_123'\n",
        "METADATA = {\n",
        "    \"_environment\": \"production\",\n",
        "    \"_user\": \"user_123\",\n",
        "    \"_prompt_type\": \"general_query\"\n",
        "}\n",
        "\n",
        "completion = portkey.chat.completions.create(\n",
        "    messages=[{\n",
        "        \"role\": \"user\",\n",
        "        \"content\": \"What are the main features of Portkey?\"\n",
        "    }],\n",
        "    model=\"accounts/fireworks/models/llama-v3-8b-instruct\",\n",
        "    metadata=METADATA,\n",
        "    trace_id=TRACE_ID\n",
        ")\n",
        "\n",
        "print(completion.choices[0].message.content)"
      ],
      "metadata": {
        "id": "c8HHmDto9mLs"
      },
      "execution_count": null,
      "outputs": []
    },
    {
      "cell_type": "markdown",
      "source": [
        "![dasbhboard](https://github.com/siddharthsambharia-portkey/Portkey-Product-Images/blob/main/Portkey-Dashboard.png?raw=true)\n",
        "\n",
        "![logs](https://github.com/siddharthsambharia-portkey/Portkey-Product-Images/blob/main/Portkey-Logs.png?raw=true)\n"
      ],
      "metadata": {
        "id": "lf4BRZhx_oJq"
      }
    },
    {
      "cell_type": "markdown",
      "source": [
        "# 6.3 Prompt Library\n",
        "\n",
        "The Portkey Prompt Library is a powerful tool for managing your prompts efficiently:\n",
        "\n",
        "- Create, edit, and organize prompts in a central location\n",
        "- Version control your prompts without needing to redeploy your application\n",
        "- Collaborate with team members on prompt development\n",
        "- Test prompts directly in the interface\n",
        "- Organize prompts into collections for better management\n",
        "\n",
        "\n",
        "\n",
        "\n",
        "![prompt library](https://github.com/siddharthsambharia-portkey/Portkey-Product-Images/blob/main/Portkey-Prompt-Library.png?raw=tru)"
      ],
      "metadata": {
        "id": "yqSQnGI-_L3J"
      }
    },
    {
      "cell_type": "markdown",
      "source": [
        "# Next Steps\n",
        "\n",
        "- Visit [Portkey Documentation](https://docs.portkey.ai) for detailed API reference\n",
        "- Join the [Portkey Discord](https://discord.gg/SqX9epQKNR) for community support\n",
        "\n",
        "\n",
        "This cookbook demonstrates the key features of using Fireworks models through Portkey's AI Gateway."
      ],
      "metadata": {
        "id": "1fhzvWVP9xOA"
      }
    }
  ]
}