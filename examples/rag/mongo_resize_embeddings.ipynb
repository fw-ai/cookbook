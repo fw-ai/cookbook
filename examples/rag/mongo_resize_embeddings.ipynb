{
 "cells": [
  {
   "cell_type": "markdown",
   "metadata": {},
   "source": [
    "<a target=\"_blank\" href=\"https://colab.research.google.com/github/fw-ai/cookbook/blob/main/examples/rag/mongo_resize_embeddings.ipynb\">\n",
    "  <img src=\"https://colab.research.google.com/assets/colab-badge.svg\" alt=\"Open In Colab\"/>\n",
    "</a>"
   ]
  },
  {
   "cell_type": "markdown",
   "metadata": {},
   "source": [
    "# Reduced embedding dimension example with Fireworks + MongoDB + Nomic\n",
    "\n",
    "## Introduction\n",
    "Hopefully you have went through the [previous cookbook](examples/rag/mongo_basic.ipynb) to go through the basics. In this tutorial, we'll explore how to create an basic movie recommendation system with variable cost for storage quality trade-off. We'll leverage the Fireworks API for embedding generation, MongoDB for data storage and retrieval, and the Nomic-AI embedding model for nuanced understanding of movie data."
   ]
  },
  {
   "cell_type": "markdown",
   "metadata": {},
   "source": [
    "## Setting Up Your Environment\n",
    "Before we dive into the code, make sure to set up your environment. This involves installing necessary packages like pymongo and openai. Run the following command in your notebook to install these packages:"
   ]
  },
  {
   "cell_type": "code",
   "execution_count": 2,
   "metadata": {},
   "outputs": [
    {
     "name": "stdout",
     "output_type": "stream",
     "text": [
      "\n",
      "\u001b[1m[\u001b[0m\u001b[34;49mnotice\u001b[0m\u001b[1;39;49m]\u001b[0m\u001b[39;49m A new release of pip is available: \u001b[0m\u001b[31;49m23.3.2\u001b[0m\u001b[39;49m -> \u001b[0m\u001b[32;49m24.0\u001b[0m\n",
      "\u001b[1m[\u001b[0m\u001b[34;49mnotice\u001b[0m\u001b[1;39;49m]\u001b[0m\u001b[39;49m To update, run: \u001b[0m\u001b[32;49mpip install --upgrade pip\u001b[0m\n"
     ]
    }
   ],
   "source": [
    "!pip install -q pymongo fireworks-ai tqdm openai"
   ]
  },
  {
   "cell_type": "markdown",
   "metadata": {},
   "source": [
    "## Initializing Fireworks and MongoDB Clients\n",
    "To interact with Fireworks and MongoDB, we need to initialize their respective clients. Replace \"YOUR FIREWORKS API KEY\" and \"YOUR MONGO URL\" with your actual credentials."
   ]
  },
  {
   "cell_type": "code",
   "execution_count": 3,
   "metadata": {},
   "outputs": [],
   "source": [
    "import pymongo\n",
    "\n",
    "mongo_url = input()\n",
    "client = pymongo.MongoClient(mongo_url)"
   ]
  },
  {
   "cell_type": "code",
   "execution_count": 5,
   "metadata": {},
   "outputs": [],
   "source": [
    "import openai\n",
    "fw_client = openai.OpenAI(\n",
    "  api_key=input(),\n",
    "  base_url=\"https://api.fireworks.ai/inference/v1\"\n",
    ")"
   ]
  },
  {
   "cell_type": "markdown",
   "metadata": {},
   "source": [
    "## Indexing and retrieval for movies.\n",
    "We are going to build a model to index and retrieve movie recommendations. We will setup the most basic RAG example on top of MongoDB which involves\n",
    "- MongoDB Atlas database that indexes movies based on embeddings\n",
    "- a system for document embedding generation. We'll use the Nomic-AI model to create embeddings from text data. The function generate_embeddings takes a list of texts and returns dimensionality-reduced embeddings.\n",
    "  - The Nomic AI model, specifically the `nomic-ai/nomic-embed-text-v1.5` variant, is a great open source model embedding model. You can ask it to not only produce embeddings with size 786, but also embeddings with smaller dimensions all the way down to 64. In this example, we can try to use dimension 128 and see if we can get the example up and running without any quality impact.\n",
    "- a basic search engine that responds to user query by embedding the user query, fetching the corresponding movies, and then use an LLM to generate the recommendations.\n",
    "\n",
    "We will update our generate_embeddings example slightly to reflect how we are going to query with variable embedding table dimensions"
   ]
  },
  {
   "cell_type": "code",
   "execution_count": 6,
   "metadata": {},
   "outputs": [],
   "source": [
    "from typing import List\n",
    "\n",
    "def generate_embeddings(\n",
    "    input_texts: List[str],\n",
    "    model_api_string: str,\n",
    "    embedding_dimensions: int = 768,\n",
    "    prefix=\"\"\n",
    ") -> List[List[float]]:\n",
    "    \"\"\"Generate embeddings from Fireworks python library\n",
    "\n",
    "    Args:\n",
    "        input_texts: a list of string input texts.\n",
    "        model_api_string: str. An API string for a specific embedding model of your choice.\n",
    "        embedding_dimensions: int = 768,\n",
    "        prefix: what prefix to attach to the generate the embeddings, which is required for nomic 1.5. Please check out https://huggingface.co/nomic-ai/nomic-embed-text-v1.5#usage for more information\n",
    "\n",
    "    Returns:\n",
    "        reduced_embeddings_list: a list of reduced-size embeddings. Each element corresponds to each input text.\n",
    "    \"\"\"\n",
    "    if prefix:\n",
    "        input_texts = [prefix + text for text in input_texts] \n",
    "    return [x.embedding for x in \n",
    "        fw_client.embeddings.create(\n",
    "        input=input_texts,\n",
    "        model=model_api_string,\n",
    "        dimensions=embedding_dimensions,\n",
    "    ).data]"
   ]
  },
  {
   "cell_type": "markdown",
   "metadata": {},
   "source": [
    "## Data Processing\n",
    "Now, let's process our movie data. We'll extract key information from our MongoDB collection and generate embeddings for each movie. Ensure NUM_DOC_LIMIT is set to limit the number of documents processed."
   ]
  },
  {
   "cell_type": "code",
   "execution_count": 8,
   "metadata": {},
   "outputs": [
    {
     "name": "stdout",
     "output_type": "stream",
     "text": [
      "Embedding size is: 128\n"
     ]
    }
   ],
   "source": [
    "embedding_model_string = 'nomic-ai/nomic-embed-text-v1.5'\n",
    "vector_database_field_name = 'embeddings_128' # define your embedding field name.\n",
    "NUM_DOC_LIMIT = 2000 # the number of documents you will process and generate embeddings.\n",
    "\n",
    "sample_output = generate_embeddings([\"This is a test.\"], embedding_model_string, embedding_dimensions=128)\n",
    "print(f\"Embedding size is: {str(len(sample_output[0]))}\")\n"
   ]
  },
  {
   "cell_type": "markdown",
   "metadata": {},
   "source": [
    "# Batching\n",
    "we will also walk through how to do basic batching. When you are querying Fireworks API, you can add more than one documents per call, and the embedding results will be returned in the same order. we will batch the 2000 examples into units of 200."
   ]
  },
  {
   "cell_type": "code",
   "execution_count": 22,
   "metadata": {},
   "outputs": [
    {
     "name": "stderr",
     "output_type": "stream",
     "text": [
      "Document Processing : 2000it [00:02, 837.45it/s] \n",
      "generate and insert embeddings: 10it [02:54, 17.48s/it]\n"
     ]
    }
   ],
   "source": [
    "from tqdm import tqdm\n",
    "from datetime import datetime\n",
    "\n",
    "db = client.sample_mflix\n",
    "collection = db.movies\n",
    "\n",
    "keys_to_extract = [\"plot\", \"genre\", \"cast\", \"title\", \"fullplot\", \"countries\", \"directors\"]\n",
    "\n",
    "extracted_str_list = []\n",
    "for doc in tqdm(collection.find(\n",
    "  {\n",
    "    \"fullplot\":{\"$exists\": True},\n",
    "    \"released\": { \"$gt\": datetime(2000, 1, 1, 0, 0, 0)},\n",
    "  }\n",
    ").limit(NUM_DOC_LIMIT), desc=\"Document Processing \"):\n",
    "  extracted_str = \"\\n\".join([k + \": \" + str(doc[k]) for k in keys_to_extract if k in doc])\n",
    "  extracted_str_list.append((doc['_id'], extracted_str))\n",
    "\n",
    "# Chunk extracted_str_list into batches of 512\n",
    "str_batches = zip(*(iter(extracted_str_list),) * 200)\n",
    "\n",
    "# Iterate over each batch\n",
    "for batch in tqdm(str_batches, desc=\"generate and insert embeddings\"):\n",
    "  # Generate embeddings for the current batch\n",
    "  embeddings = generate_embeddings(\n",
    "    [t[1] for t in batch],  # Extract the extracted strings from the tuples\n",
    "    embedding_model_string,\n",
    "    prefix=\"search_document: \",\n",
    "    embedding_dimensions=128,\n",
    "  )\n",
    "\n",
    "  # Update documents with the generated embeddings\n",
    "  for i, embedding in enumerate(embeddings):\n",
    "    doc = collection.find_one({'_id': batch[i][0]})\n",
    "    doc[vector_database_field_name] = embedding\n",
    "    collection.replace_one({'_id': batch[i][0]}, doc)"
   ]
  },
  {
   "cell_type": "markdown",
   "metadata": {},
   "source": [
    "## Setting Up the Search Index\n",
    "For our system to efficiently search through movie embeddings, we need to set up a search index in MongoDB. Define the index structure as shown:"
   ]
  },
  {
   "cell_type": "code",
   "execution_count": 21,
   "metadata": {},
   "outputs": [
    {
     "data": {
      "text/plain": [
       "'\\n{\\n  \"fields\": [\\n    {\\n      \"type\": \"vector\",\\n      \"path\": \"embeddings\",\\n      \"numDimensions\": 768,\\n      \"similarity\": \"dotProduct\"\\n    }\\n  ]\\n}\\n\\n'"
      ]
     },
     "execution_count": 21,
     "metadata": {},
     "output_type": "execute_result"
    }
   ],
   "source": [
    "\"\"\"\n",
    "{\n",
    "  \"fields\": [\n",
    "    {\n",
    "      \"type\": \"vector\",\n",
    "      \"path\": \"embeddings\",\n",
    "      \"numDimensions\": 768,\n",
    "      \"similarity\": \"dotProduct\"\n",
    "    },\n",
    "    {\n",
    "      \"type\": \"vector\",\n",
    "      \"path\": \"embeddings_128\",\n",
    "      \"numDimensions\": 128,\n",
    "      \"similarity\": \"dotProduct\"\n",
    "    }\n",
    "  ]\n",
    "}\n",
    "\n",
    "\"\"\""
   ]
  },
  {
   "cell_type": "markdown",
   "metadata": {},
   "source": [
    "## Querying the Recommender System\n",
    "Let's test our recommender system. We create a query for superhero movies and exclude Spider-Man movies, as per user preference."
   ]
  },
  {
   "cell_type": "code",
   "execution_count": 23,
   "metadata": {},
   "outputs": [
    {
     "name": "stdout",
     "output_type": "stream",
     "text": [
      "From your query \"I like Christmas movies, any recommendations?\", the following movie listings were found:\n",
      "\n",
      "1. Christmas Carol: The Movie\n",
      "2. Love Actually\n",
      "3. Surviving Christmas\n",
      "4. Almost Famous\n",
      "5. Dead End\n",
      "6. Up, Up, and Away!\n",
      "7. Do Fish Do It?\n",
      "8. Let It Snow\n",
      "9. The Little Polar Bear\n",
      "10. One Point O\n"
     ]
    }
   ],
   "source": [
    "# Example query.\n",
    "query = \"I like Christmas movies, any recommendations?\"\n",
    "prefix=\"search_query: \"\n",
    "query_emb = generate_embeddings([query], embedding_model_string, prefix=prefix, embedding_dimensions=128)[0]\n",
    "\n",
    "results = collection.aggregate([\n",
    "  {\n",
    "    \"$vectorSearch\": {\n",
    "      \"queryVector\": query_emb,\n",
    "      \"path\": vector_database_field_name,\n",
    "      \"numCandidates\": 100, # this should be 10-20x the limit\n",
    "      \"limit\": 10, # the number of documents to return in the results\n",
    "      \"index\": 'movie', # the index name you used in the earlier step\n",
    "    }\n",
    "  }\n",
    "])\n",
    "results_as_dict = {doc['title']: doc for doc in results}\n",
    "\n",
    "print(f\"From your query \\\"{query}\\\", the following movie listings were found:\\n\")\n",
    "print(\"\\n\".join([str(i+1) + \". \" + name for (i, name) in enumerate(results_as_dict.keys())]))\n"
   ]
  },
  {
   "cell_type": "markdown",
   "metadata": {},
   "source": [
    "We can see that the results are very similar results with just 128 dimensions. So if you feel that 128 dimensions are good enough for your use case, you can reduce the dimensions and save some database cost."
   ]
  },
  {
   "cell_type": "markdown",
   "metadata": {},
   "source": [
    "## Generating Recommendations\n",
    "Finally, we use Fireworks' chat API to generate a personalized movie recommendation based on the user's query and preferences.\n",
    "\n"
   ]
  },
  {
   "cell_type": "code",
   "execution_count": 26,
   "metadata": {},
   "outputs": [],
   "source": [
    "your_task_prompt = (\n",
    "    \"From the given movie listing data, choose a few great movie recommendations. \"\n",
    "    f\"User query: {query}\"\n",
    ")\n",
    "\n",
    "listing_data = \"\"\n",
    "for doc in results_as_dict.values():\n",
    "  listing_data += f\"Movie title: {doc['title']}\\n\"\n",
    "  for (k, v) in doc.items():\n",
    "    if not(k in keys_to_extract) or (\"embedding\" in k): continue\n",
    "    if k == \"name\": continue\n",
    "    listing_data += k + \": \" + str(v) + \"\\n\"\n",
    "  listing_data += \"\\n\"\n",
    "\n",
    "augmented_prompt = (\n",
    "    \"movie listing data:\\n\"\n",
    "    f\"{listing_data}\\n\\n\"\n",
    "    f\"{your_task_prompt}\"\n",
    ")\n"
   ]
  },
  {
   "cell_type": "code",
   "execution_count": 27,
   "metadata": {},
   "outputs": [
    {
     "name": "stdout",
     "output_type": "stream",
     "text": [
      "Based on the user's preference for Christmas movies, here are a few great recommendations from the given movie listing data:\n",
      "\n",
      "1. Christmas Carol: The Movie - A beautiful animated movie adaptation of Charles Dickens' classic Christmas tale, featuring an all-star cast including Simon Callow, Kate Winslet, and Nicolas Cage.\n",
      "2. Love Actually - A heartwarming ensemble romantic comedy set during the Christmas season in London, starring Bill Nighy, Colin Firth, Hugh Grant, and Liam Neeson, among many others.\n",
      "3. Surviving Christmas - A funny and touching holiday movie about a rich and lonely man (Ben Affleck) who hires a family to spend Christmas with him, only to find that their presence helps him rediscover the true meaning of the season.\n",
      "\n",
      "Hope these recommendations fit your taste and bring you some holiday cheer!\n"
     ]
    }
   ],
   "source": [
    "response = fw_client.chat.completions.create(\n",
    "  messages=[{\"role\": \"user\", \"content\": augmented_prompt}],\n",
    "  model=\"accounts/fireworks/models/mixtral-8x7b-instruct\",\n",
    ")\n",
    "\n",
    "print(response.choices[0].message.content)\n"
   ]
  },
  {
   "cell_type": "markdown",
   "metadata": {},
   "source": [
    "## Conclusion\n",
    "You've successfully updated a movie recommendation with batching and variable embeddings. Now if are interested in pushing further to integrate MongoDB + Fireworks into your systems, you can check out our\n",
    "- [LangChain integration, with function calling](https://github.com/fw-ai/cookbook/blob/main/examples/rag/mongodb_agent.ipynb)\n",
    "- [LlamaIndex](https://github.com/run-llama/llama_index/blob/cf0da01e0cc756383e07eb499cb9825cfa17984d/docs/examples/vector_stores/MongoDBAtlasVectorSearchRAGFireworks.ipynb)"
   ]
  }
 ],
 "metadata": {
  "kernelspec": {
   "display_name": ".venv",
   "language": "python",
   "name": "python3"
  },
  "language_info": {
   "codemirror_mode": {
    "name": "ipython",
    "version": 3
   },
   "file_extension": ".py",
   "mimetype": "text/x-python",
   "name": "python",
   "nbconvert_exporter": "python",
   "pygments_lexer": "ipython3",
   "version": "3.10.12"
  }
 },
 "nbformat": 4,
 "nbformat_minor": 2
}
