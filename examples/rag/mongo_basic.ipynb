{
 "cells": [
  {
   "cell_type": "markdown",
   "metadata": {},
   "source": [
    "# Movie recommender example with Fireworks + MongoDB + Nomic embedding model\n",
    "\n",
    "## Introduction\n",
    "In this tutorial, we'll explore how to create an advanced movie recommendation system. We'll leverage the Fireworks API for embedding generation, MongoDB for data storage and retrieval, and the Nomic-AI embedding model for nuanced understanding of movie data."
   ]
  },
  {
   "cell_type": "markdown",
   "metadata": {},
   "source": [
    "## Setting Up Your Environment\n",
    "Before we dive into the code, make sure to set up your environment. This involves installing necessary packages like pymongo and openai. Run the following command in your notebook to install these packages:"
   ]
  },
  {
   "cell_type": "code",
   "execution_count": 1,
   "metadata": {},
   "outputs": [
    {
     "name": "stdout",
     "output_type": "stream",
     "text": [
      "Requirement already satisfied: pymongo in /home/bchen/cookbook/.venv/lib/python3.10/site-packages (4.6.1)\n",
      "Requirement already satisfied: openai in /home/bchen/cookbook/.venv/lib/python3.10/site-packages (1.9.0)\n",
      "Requirement already satisfied: tqdm in /home/bchen/cookbook/.venv/lib/python3.10/site-packages (4.66.1)\n",
      "Requirement already satisfied: dnspython<3.0.0,>=1.16.0 in /home/bchen/cookbook/.venv/lib/python3.10/site-packages (from pymongo) (2.5.0)\n",
      "Requirement already satisfied: anyio<5,>=3.5.0 in /home/bchen/cookbook/.venv/lib/python3.10/site-packages (from openai) (4.2.0)\n",
      "Requirement already satisfied: distro<2,>=1.7.0 in /home/bchen/cookbook/.venv/lib/python3.10/site-packages (from openai) (1.9.0)\n",
      "Requirement already satisfied: httpx<1,>=0.23.0 in /home/bchen/cookbook/.venv/lib/python3.10/site-packages (from openai) (0.25.2)\n",
      "Requirement already satisfied: pydantic<3,>=1.9.0 in /home/bchen/cookbook/.venv/lib/python3.10/site-packages (from openai) (2.5.3)\n",
      "Requirement already satisfied: sniffio in /home/bchen/cookbook/.venv/lib/python3.10/site-packages (from openai) (1.3.0)\n",
      "Requirement already satisfied: typing-extensions<5,>=4.7 in /home/bchen/cookbook/.venv/lib/python3.10/site-packages (from openai) (4.9.0)\n",
      "Requirement already satisfied: idna>=2.8 in /home/bchen/cookbook/.venv/lib/python3.10/site-packages (from anyio<5,>=3.5.0->openai) (3.6)\n",
      "Requirement already satisfied: exceptiongroup>=1.0.2 in /home/bchen/cookbook/.venv/lib/python3.10/site-packages (from anyio<5,>=3.5.0->openai) (1.2.0)\n",
      "Requirement already satisfied: certifi in /home/bchen/cookbook/.venv/lib/python3.10/site-packages (from httpx<1,>=0.23.0->openai) (2023.11.17)\n",
      "Requirement already satisfied: httpcore==1.* in /home/bchen/cookbook/.venv/lib/python3.10/site-packages (from httpx<1,>=0.23.0->openai) (1.0.2)\n",
      "Requirement already satisfied: h11<0.15,>=0.13 in /home/bchen/cookbook/.venv/lib/python3.10/site-packages (from httpcore==1.*->httpx<1,>=0.23.0->openai) (0.14.0)\n",
      "Requirement already satisfied: annotated-types>=0.4.0 in /home/bchen/cookbook/.venv/lib/python3.10/site-packages (from pydantic<3,>=1.9.0->openai) (0.6.0)\n",
      "Requirement already satisfied: pydantic-core==2.14.6 in /home/bchen/cookbook/.venv/lib/python3.10/site-packages (from pydantic<3,>=1.9.0->openai) (2.14.6)\n",
      "\n",
      "\u001b[1m[\u001b[0m\u001b[34;49mnotice\u001b[0m\u001b[1;39;49m]\u001b[0m\u001b[39;49m A new release of pip is available: \u001b[0m\u001b[31;49m23.3.2\u001b[0m\u001b[39;49m -> \u001b[0m\u001b[32;49m24.0\u001b[0m\n",
      "\u001b[1m[\u001b[0m\u001b[34;49mnotice\u001b[0m\u001b[1;39;49m]\u001b[0m\u001b[39;49m To update, run: \u001b[0m\u001b[32;49mpip install --upgrade pip\u001b[0m\n"
     ]
    }
   ],
   "source": [
    "!pip install pymongo openai tqdm"
   ]
  },
  {
   "cell_type": "markdown",
   "metadata": {},
   "source": [
    "## Initializing Fireworks and MongoDB Clients\n",
    "To interact with Fireworks and MongoDB, we need to initialize their respective clients. Replace \"YOUR FIREWORKS API KEY\" and \"YOUR MONGO URL\" with your actual credentials."
   ]
  },
  {
   "cell_type": "code",
   "execution_count": 4,
   "metadata": {},
   "outputs": [],
   "source": [
    "import openai\n",
    "import pymongo\n",
    "\n",
    "mongo_url = input()\n",
    "client = pymongo.MongoClient(mongo_url)"
   ]
  },
  {
   "cell_type": "code",
   "execution_count": 7,
   "metadata": {},
   "outputs": [],
   "source": [
    "fw_client = openai.OpenAI(\n",
    "  api_key=input(),\n",
    "  base_url=\"https://api.fireworks.ai/inference/v1\"\n",
    ")"
   ]
  },
  {
   "cell_type": "markdown",
   "metadata": {},
   "source": [
    "## Understanding the Nomic-ai 1.5 Model\n",
    "\n",
    "The Nomic AI model, specifically the `nomic-ai/nomic-embed-text-v1.5` variant, is a great open source model that has support for Matryoshka Representation Learning, which means you can change your embedding dimensions from 768 all the way down to 64, and to the quality/data trade-off you need.\n",
    "\n",
    "## Embedding Generation Function\n",
    "The core of our recommender system is embedding generation. We'll use the Nomic-AI model to create embeddings from text data. The function generate_embeddings takes a list of texts and returns dimensionality-reduced embeddings."
   ]
  },
  {
   "cell_type": "code",
   "execution_count": 15,
   "metadata": {},
   "outputs": [],
   "source": [
    "from typing import List\n",
    "\n",
    "def generate_embeddings(input_texts: List[str], model_api_string: str, prefix=\"\") -> List[List[float]]:\n",
    "    \"\"\"Generate embeddings from Fireworks python library and reduce their size by averaging adjacent elements.\n",
    "\n",
    "    Args:\n",
    "        input_texts: a list of string input texts.\n",
    "        model_api_string: str. An API string for a specific embedding model of your choice.\n",
    "\n",
    "    Returns:\n",
    "        reduced_embeddings_list: a list of reduced-size embeddings. Each element corresponds to each input text.\n",
    "    \"\"\"\n",
    "    if prefix:\n",
    "        input_texts = [prefix + text for text in input_texts] \n",
    "        print(\"show updated input texts\", input_texts)\n",
    "    return [x.embedding for x in \n",
    "        fw_client.embeddings.create(\n",
    "        input=input_texts,\n",
    "        model=model_api_string,\n",
    "    ).data]"
   ]
  },
  {
   "cell_type": "markdown",
   "metadata": {},
   "source": [
    "## Data Processing\n",
    "Now, let's process our movie data. We'll extract key information from our MongoDB collection and generate embeddings for each movie. Ensure NUM_DOC_LIMIT is set to limit the number of documents processed."
   ]
  },
  {
   "cell_type": "code",
   "execution_count": 21,
   "metadata": {},
   "outputs": [
    {
     "name": "stdout",
     "output_type": "stream",
     "text": [
      "Embedding size is: 768\n"
     ]
    }
   ],
   "source": [
    "embedding_model_string = 'nomic-ai/nomic-embed-text-v1.5' # model API string from Together.\n",
    "vector_database_field_name = 'embedding_2k_movies_fw_nomic_1_5' # define your embedding field name.\n",
    "NUM_DOC_LIMIT = 400 # the number of documents you will process and generate embeddings.\n",
    "\n",
    "sample_output = generate_embeddings([\"This is a test.\"], embedding_model_string)\n",
    "print(f\"Embedding size is: {str(len(sample_output[0]))}\")\n"
   ]
  },
  {
   "cell_type": "code",
   "execution_count": 17,
   "metadata": {},
   "outputs": [
    {
     "name": "stderr",
     "output_type": "stream",
     "text": [
      "Document Processing : 0it [00:00, ?it/s]"
     ]
    },
    {
     "name": "stderr",
     "output_type": "stream",
     "text": [
      "Document Processing : 400it [00:35, 11.24it/s]\n"
     ]
    }
   ],
   "source": [
    "from tqdm import tqdm\n",
    "from datetime import datetime\n",
    "\n",
    "db = client.sample_mflix\n",
    "collection = db.movies\n",
    "\n",
    "keys_to_extract = [\"plot\", \"genre\", \"cast\", \"title\", \"fullplot\", \"countries\", \"directors\"]\n",
    "for doc in tqdm(collection.find(\n",
    "  {\n",
    "    \"fullplot\":{\"$exists\": True},\n",
    "    \"released\": { \"$gt\": datetime(2000, 1, 1, 0, 0, 0)},\n",
    "  }\n",
    ").limit(NUM_DOC_LIMIT), desc=\"Document Processing \"):\n",
    "  extracted_str = \"\\n\".join([k + \": \" + str(doc[k]) for k in keys_to_extract if k in doc])\n",
    "  if vector_database_field_name not in doc:\n",
    "    doc[vector_database_field_name] = generate_embeddings([extracted_str], embedding_model_string)[0]\n",
    "  collection.replace_one({'_id': doc['_id']}, doc)\n"
   ]
  },
  {
   "cell_type": "markdown",
   "metadata": {},
   "source": [
    "## Setting Up the Search Index\n",
    "For our system to efficiently search through movie embeddings, we need to set up a search index in MongoDB. Define the index structure as shown:"
   ]
  },
  {
   "cell_type": "code",
   "execution_count": 6,
   "metadata": {},
   "outputs": [
    {
     "data": {
      "text/plain": [
       "'\\n{\\n  \"fields\": [\\n    {\\n      \"type\": \"vector\",\\n      \"path\": \"embedding_2k_movies_fw_e5_mistral\",\\n      \"numDimensions\": 2048,\\n      \"similarity\": \"dotProduct\"\\n    }\\n  ]\\n}\\n\\n'"
      ]
     },
     "execution_count": 6,
     "metadata": {},
     "output_type": "execute_result"
    }
   ],
   "source": [
    "\"\"\"\n",
    "{\n",
    "  \"fields\": [\n",
    "    {\n",
    "      \"type\": \"vector\",\n",
    "      \"path\": \"embedding_2k_movies_fw_nomic_1_5\",\n",
    "      \"numDimensions\": 768,\n",
    "      \"similarity\": \"dotProduct\"\n",
    "    }\n",
    "  ]\n",
    "}\n",
    "\n",
    "\"\"\""
   ]
  },
  {
   "cell_type": "markdown",
   "metadata": {},
   "source": [
    "## Querying the Recommender System\n",
    "Let's test our recommender system. We create a query for superhero movies and exclude Spider-Man movies, as per user preference."
   ]
  },
  {
   "cell_type": "code",
   "execution_count": 22,
   "metadata": {},
   "outputs": [
    {
     "name": "stdout",
     "output_type": "stream",
     "text": [
      "show updated input texts ['Instruct: Given a user query for movies, retrieve the relevant movie that can fulfill the query.\\nQuery: I love superhero movies, any recommendations?']\n",
      "From your query \"I love superhero movies, any recommendations?\", the following movie listings were found:\n",
      "\n",
      "1. Spider-Man\n",
      "2. Lara Croft: Tomb Raider\n",
      "3. Monkeybone\n",
      "4. Fantastic Four\n",
      "5. Titan A.E.\n",
      "6. Sinbad: Legend of the Seven Seas\n",
      "7. Charlie's Angels\n",
      "8. X-Men\n",
      "9. Alaska: Spirit of the Wild\n",
      "10. Planet of the Apes\n"
     ]
    }
   ],
   "source": [
    "# Example query.\n",
    "query = \"I love superhero movies, any recommendations?\"\n",
    "prefix=\"Instruct: Given a user query for movies, retrieve the relevant movie that can fulfill the query.\\nQuery: \"\n",
    "query_emb = generate_embeddings([query], embedding_model_string, prefix=prefix)[0]\n",
    "\n",
    "results = collection.aggregate([\n",
    "  {\n",
    "    \"$vectorSearch\": {\n",
    "      \"queryVector\": query_emb,\n",
    "      \"path\": vector_database_field_name,\n",
    "      \"numCandidates\": 100, # this should be 10-20x the limit\n",
    "      \"limit\": 10, # the number of documents to return in the results\n",
    "      \"index\": 'movie_index', # the index name you used in Step 4, here we default to basics\n",
    "    }\n",
    "  }\n",
    "])\n",
    "results_as_dict = {doc['title']: doc for doc in results}\n",
    "\n",
    "print(f\"From your query \\\"{query}\\\", the following movie listings were found:\\n\")\n",
    "print(\"\\n\".join([str(i+1) + \". \" + name for (i, name) in enumerate(results_as_dict.keys())]))\n"
   ]
  },
  {
   "cell_type": "markdown",
   "metadata": {},
   "source": [
    "## Generating Recommendations\n",
    "Finally, we use Fireworks' chat API to generate a personalized movie recommendation based on the user's query and preferences.\n",
    "\n"
   ]
  },
  {
   "cell_type": "code",
   "execution_count": 23,
   "metadata": {},
   "outputs": [],
   "source": [
    "your_task_prompt = (\n",
    "    \"From the given movie listing data, choose a great movie recommendation for superhero movies. \"\n",
    "    \"I don't like spider man though. \"\n",
    "    \"Tell me the name of the movie and why it works for me.\"\n",
    ")\n",
    "\n",
    "listing_data = \"\"\n",
    "for doc in results_as_dict.values():\n",
    "  listing_data += f\"Movie title: {doc['title']}\\n\"\n",
    "  for (k, v) in doc.items():\n",
    "    if not(k in keys_to_extract) or (\"embedding\" in k): continue\n",
    "    if k == \"name\": continue\n",
    "    listing_data += k + \": \" + str(v) + \"\\n\"\n",
    "  listing_data += \"\\n\"\n",
    "\n",
    "augmented_prompt = (\n",
    "    \"movie listing data:\\n\"\n",
    "    f\"{listing_data}\\n\\n\"\n",
    "    f\"{your_task_prompt}\"\n",
    ")\n"
   ]
  },
  {
   "cell_type": "code",
   "execution_count": 24,
   "metadata": {},
   "outputs": [
    {
     "name": "stdout",
     "output_type": "stream",
     "text": [
      "Based on your preference to exclude Spider-Man movies, I would recommend \"X-Men.\" This movie is a great choice for superhero fans as it features a team of mutants with unique abilities who fight to protect humanity from a dangerous terrorist organization. The film features impressive special effects, engaging action sequences, and well-developed characters, making it an exciting and entertaining viewing experience. Additionally, the themes of acceptance and prejudice add depth to the story, making it a great pick for those who enjoy thought-provoking superhero movies.\n"
     ]
    }
   ],
   "source": [
    "response = fw_client.chat.completions.create(\n",
    "  messages=[{\"role\": \"user\", \"content\": augmented_prompt}],\n",
    "  model=\"accounts/fireworks/models/mixtral-8x7b-instruct\",\n",
    ")\n",
    "\n",
    "print(response.choices[0].message.content)\n"
   ]
  },
  {
   "cell_type": "markdown",
   "metadata": {},
   "source": [
    "## Conclusion\n",
    "And that's it! You've successfully built a movie recommendation system using Fireworks, MongoDB, and the Mistral E5 embedding model. This system can be further customized and scaled to suit various needs.\n",
    "\n"
   ]
  }
 ],
 "metadata": {
  "kernelspec": {
   "display_name": ".venv",
   "language": "python",
   "name": "python3"
  },
  "language_info": {
   "codemirror_mode": {
    "name": "ipython",
    "version": 3
   },
   "file_extension": ".py",
   "mimetype": "text/x-python",
   "name": "python",
   "nbconvert_exporter": "python",
   "pygments_lexer": "ipython3",
   "version": "3.10.12"
  }
 },
 "nbformat": 4,
 "nbformat_minor": 2
}
