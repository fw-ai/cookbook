{
  "cells": [
    {
      "cell_type": "markdown",
      "source": [
        "[![Open in Colab](https://colab.research.google.com/assets/colab-badge.svg)](https://colab.research.google.com/github/fw-ai/cookbook/blob/main/examples/function_calling/fw_autogen_stock_chart.ipynb)"
      ],
      "metadata": {
        "id": "le6hjy5YGA7U"
      }
    },
    {
      "cell_type": "markdown",
      "source": [
        "## Preable - Install Deps\n",
        "\n",
        "There are only a few dependencies for this tutorial."
      ],
      "metadata": {
        "id": "OGGLSlI9C80P"
      }
    },
    {
      "cell_type": "code",
      "execution_count": null,
      "metadata": {
        "id": "S5MKzf6_tFAG"
      },
      "outputs": [],
      "source": [
        "!pip install pyautogen openai fireworks-ai matplotlib opencv-python yfinance"
      ]
    },
    {
      "cell_type": "markdown",
      "source": [
        "## Introduction -  Stock Chart Generator\n",
        "\n",
        "In this example we will use AutoGen framework to construct an agent that is capable of generating an stock price charts.\n",
        "\n",
        "For this demo, we are going to utilize [function calling](https://readme.fireworks.ai/docs/function-calling) feature launched by Fireworks. We initialize two agents - `UserProxyAgent` and `AssistantAgent`. The `AssistantAgent` is given the ability to issue a call for the provided functions but not execute them while `UserProxyAgent` is given the ability to execute the function calls issues by the `AssistantAgent`. In order to achieve this behaviour we use decorators provided by AutoGen library called `register_for_llm` and `register_for_execution`. Using these decorators allows us to easily define python functions and turn them into [JSON Spec](https://microsoft.github.io/autogen/docs/Use-Cases/agent_chat) needed by function calling API.\n",
        "\n",
        "Finally, we setup system prompt for both the agents. We ask the `AssistantAgent` to be a helpful agent & focus on generating the correct function calls and we leave `UserProxyAgent` as is. For more advanced use cases we can ask `UserProxyAgent` to be a plan generator."
      ],
      "metadata": {
        "id": "34MJ8aTW9ys1"
      }
    },
    {
      "cell_type": "code",
      "execution_count": 125,
      "metadata": {
        "id": "zAuynYvM2c3w"
      },
      "outputs": [],
      "source": [
        "import hashlib\n",
        "import json\n",
        "import os\n",
        "import re\n",
        "import uuid\n",
        "from pathlib import Path\n",
        "from typing import Any, Dict, List, Optional\n",
        "\n",
        "import autogen\n",
        "import pandas as pd\n",
        "import requests  # to perform HTTP requests\n",
        "import yfinance as yf\n",
        "from matplotlib import pyplot as plt\n",
        "from openai import OpenAI\n",
        "from typing_extensions import Annotated"
      ]
    },
    {
      "cell_type": "markdown",
      "source": [
        "## Setup\n",
        "\n",
        "In order to use the Fireworks AI function calling model, you must first obtain Fireworks API Keys. If you don't already have one, you can one by following the instructions [here](https://readme.fireworks.ai/docs/quickstart). Replace FW_API_KEY with your obtained key."
      ],
      "metadata": {
        "id": "ddA-KVZdMoN6"
      }
    },
    {
      "cell_type": "code",
      "execution_count": 128,
      "metadata": {
        "id": "FD9w-Ztt3Ssm"
      },
      "outputs": [],
      "source": [
        "FW_API_KEY = \"YOUR_API_KEY\"\n",
        "\n",
        "config_list = [\n",
        "    {\n",
        "        'api_key': FW_API_KEY,\n",
        "        'base_url': 'https://api.fireworks.ai/inference/v1',\n",
        "        'model': 'accounts/fireworks/models/firefunction-rc-v17'\n",
        "    }\n",
        "]"
      ]
    },
    {
      "cell_type": "markdown",
      "source": [
        "## Configure Tools\n",
        "\n",
        "For this notebook, we are going to use 2 sets of tools\n",
        "1. **Image Generation** - We will use [StableDiffusion XL](https://fireworks.ai/models/fireworks/stable-diffusion-xl-1024-v1-0) model on Fireworks platform to generate images for us given the prompt. The tool itself would save the file to a randomly generated file name.\n",
        "2. **Show Image** - This tool, given a valid file path, will display the image.\n",
        "\n",
        "\n",
        "Using the AutoGen framework we demonstrate the co-operative nature of agents working with each other to accomplish a complex task. This tutorial can be extended to perform more complicated tasks such as generating stock price charts etc."
      ],
      "metadata": {
        "id": "ZX3i43aUOBUf"
      }
    },
    {
      "cell_type": "code",
      "execution_count": 132,
      "metadata": {
        "id": "5G_iwAz_-NvY",
        "colab": {
          "base_uri": "https://localhost:8080/",
          "height": 1000
        },
        "outputId": "b05cc560-dfc0-4885-fd50-722b64430bf9"
      },
      "outputs": [
        {
          "output_type": "stream",
          "name": "stdout",
          "text": [
            "user_proxy (to chatbot):\n",
            "\n",
            "Plot time series chart of NVDA and TSLA stock price YTD.\n",
            "\n",
            "--------------------------------------------------------------------------------\n",
            "chatbot (to user_proxy):\n",
            "\n",
            "***** Suggested tool Call (call_Xt65sBL5fXcYTj5XEHmJa9Q4): get_prices *****\n",
            "Arguments: \n",
            "{\"ticker\": \"NVDA\", \"period\": \"ytd\"}\n",
            "***************************************************************************\n",
            "\n",
            "--------------------------------------------------------------------------------\n",
            "\n",
            ">>>>>>>> EXECUTING FUNCTION get_prices...\n",
            "user_proxy (to chatbot):\n",
            "\n",
            "user_proxy (to chatbot):\n",
            "\n",
            "***** Response from calling tool \"call_Xt65sBL5fXcYTj5XEHmJa9Q4\" *****\n",
            "/tmp/0eb52bf1-98dd-45a2-8c48-0c8cfefd3eec.csv\n",
            "**********************************************************************\n",
            "\n",
            "--------------------------------------------------------------------------------\n",
            "chatbot (to user_proxy):\n",
            "\n",
            " The stock price history of NVDA for the period YTD has been obtained and saved to the file /tmp/0eb52bf1-98dd-45a2-8c48-0c8cfefd3eec.csv. Now, let's get the stock price history of TSLA for the same period.\n",
            "\n",
            "--------------------------------------------------------------------------------\n",
            "user_proxy (to chatbot):\n",
            "\n",
            "\n",
            "\n",
            "--------------------------------------------------------------------------------\n",
            "chatbot (to user_proxy):\n",
            "\n",
            "***** Suggested tool Call (call_OkL7j9bEAcUUR5PuoB5tI51j): get_prices *****\n",
            "Arguments: \n",
            "{\"ticker\": \"TSLA\", \"period\": \"ytd\"}\n",
            "***************************************************************************\n",
            "\n",
            "--------------------------------------------------------------------------------\n",
            "\n",
            ">>>>>>>> EXECUTING FUNCTION get_prices...\n",
            "user_proxy (to chatbot):\n",
            "\n",
            "user_proxy (to chatbot):\n",
            "\n",
            "***** Response from calling tool \"call_OkL7j9bEAcUUR5PuoB5tI51j\" *****\n",
            "/tmp/daa4cbd7-d4be-4659-a3f0-cea0f312357d.csv\n",
            "**********************************************************************\n",
            "\n",
            "--------------------------------------------------------------------------------\n",
            "chatbot (to user_proxy):\n",
            "\n",
            " The stock price history of TSLA for the period YTD has been obtained and saved to the file /tmp/daa4cbd7-d4be-4659-a3f0-cea0f312357d.csv. Now, let's plot the time series chart of both NVDA and TSLA stock prices YTD.\n",
            "\n",
            "--------------------------------------------------------------------------------\n",
            "user_proxy (to chatbot):\n",
            "\n",
            "\n",
            "\n",
            "--------------------------------------------------------------------------------\n",
            "chatbot (to user_proxy):\n",
            "\n",
            "***** Suggested tool Call (call_stPptkdraxaLIrQEYHfMcxQn): draw_time_series *****\n",
            "Arguments: \n",
            "{\"title\": \"NVDA and TSLA Stock Prices YTD\", \"file_name\": \"nvda_tsla_ytd.png\", \"csv_files\": {\"NVDA\": \"/tmp/0eb52bf1-98dd-45a2-8c48-0c8cfefd3eec.csv\", \"TSLA\": \"/tmp/daa4cbd7-d4be-4659-a3f0-cea0f312357d.csv\"}, \"date_col\": \"Date\", \"price_col\": \"Close\"}\n",
            "*********************************************************************************\n",
            "\n",
            "--------------------------------------------------------------------------------\n",
            "\n",
            ">>>>>>>> EXECUTING FUNCTION draw_time_series...\n",
            "Plot saved to /tmp/nvda_tsla_ytd.png\n",
            "user_proxy (to chatbot):\n",
            "\n",
            "user_proxy (to chatbot):\n",
            "\n",
            "***** Response from calling tool \"call_stPptkdraxaLIrQEYHfMcxQn\" *****\n",
            "/tmp/nvda_tsla_ytd.png\n",
            "**********************************************************************\n",
            "\n",
            "--------------------------------------------------------------------------------\n",
            "chatbot (to user_proxy):\n",
            "\n",
            " The time series chart of NVDA and TSLA stock prices YTD has been successfully plotted and saved to the file /tmp/nvda_tsla_ytd.png. TERMINATE.\n",
            "\n",
            "--------------------------------------------------------------------------------\n"
          ]
        },
        {
          "output_type": "execute_result",
          "data": {
            "text/plain": [
              "ChatResult(chat_history=[{'content': 'Plot time series chart of NVDA and TSLA stock price YTD.', 'role': 'assistant'}, {'tool_calls': [{'id': 'call_Xt65sBL5fXcYTj5XEHmJa9Q4', 'function': {'arguments': '{\"ticker\": \"NVDA\", \"period\": \"ytd\"}', 'name': 'get_prices'}, 'type': 'function', 'index': 0}], 'content': None, 'role': 'assistant'}, {'content': '/tmp/0eb52bf1-98dd-45a2-8c48-0c8cfefd3eec.csv', 'tool_responses': [{'tool_call_id': 'call_Xt65sBL5fXcYTj5XEHmJa9Q4', 'role': 'tool', 'content': '/tmp/0eb52bf1-98dd-45a2-8c48-0c8cfefd3eec.csv'}], 'role': 'tool'}, {'content': \" The stock price history of NVDA for the period YTD has been obtained and saved to the file /tmp/0eb52bf1-98dd-45a2-8c48-0c8cfefd3eec.csv. Now, let's get the stock price history of TSLA for the same period.\", 'role': 'user'}, {'content': '', 'role': 'assistant'}, {'tool_calls': [{'id': 'call_OkL7j9bEAcUUR5PuoB5tI51j', 'function': {'arguments': '{\"ticker\": \"TSLA\", \"period\": \"ytd\"}', 'name': 'get_prices'}, 'type': 'function', 'index': 0}], 'content': None, 'role': 'assistant'}, {'content': '/tmp/daa4cbd7-d4be-4659-a3f0-cea0f312357d.csv', 'tool_responses': [{'tool_call_id': 'call_OkL7j9bEAcUUR5PuoB5tI51j', 'role': 'tool', 'content': '/tmp/daa4cbd7-d4be-4659-a3f0-cea0f312357d.csv'}], 'role': 'tool'}, {'content': \" The stock price history of TSLA for the period YTD has been obtained and saved to the file /tmp/daa4cbd7-d4be-4659-a3f0-cea0f312357d.csv. Now, let's plot the time series chart of both NVDA and TSLA stock prices YTD.\", 'role': 'user'}, {'content': '', 'role': 'assistant'}, {'tool_calls': [{'id': 'call_stPptkdraxaLIrQEYHfMcxQn', 'function': {'arguments': '{\"title\": \"NVDA and TSLA Stock Prices YTD\", \"file_name\": \"nvda_tsla_ytd.png\", \"csv_files\": {\"NVDA\": \"/tmp/0eb52bf1-98dd-45a2-8c48-0c8cfefd3eec.csv\", \"TSLA\": \"/tmp/daa4cbd7-d4be-4659-a3f0-cea0f312357d.csv\"}, \"date_col\": \"Date\", \"price_col\": \"Close\"}', 'name': 'draw_time_series'}, 'type': 'function', 'index': 0}], 'content': None, 'role': 'assistant'}, {'content': '/tmp/nvda_tsla_ytd.png', 'tool_responses': [{'tool_call_id': 'call_stPptkdraxaLIrQEYHfMcxQn', 'role': 'tool', 'content': '/tmp/nvda_tsla_ytd.png'}], 'role': 'tool'}, {'content': ' The time series chart of NVDA and TSLA stock prices YTD has been successfully plotted and saved to the file /tmp/nvda_tsla_ytd.png. TERMINATE.', 'role': 'user'}], summary=' The time series chart of NVDA and TSLA stock prices YTD has been successfully plotted and saved to the file /tmp/nvda_tsla_ytd.png. .', cost=({'total_cost': 0, 'accounts/fireworks/models/firefunction-rc-v17': {'cost': 0, 'prompt_tokens': 5581, 'completion_tokens': 421, 'total_tokens': 6002}}, {'total_cost': 0, 'accounts/fireworks/models/firefunction-rc-v17': {'cost': 0, 'prompt_tokens': 4876, 'completion_tokens': 391, 'total_tokens': 5267}}), human_input=[])"
            ]
          },
          "metadata": {},
          "execution_count": 132
        },
        {
          "output_type": "display_data",
          "data": {
            "text/plain": [
              "<Figure size 640x480 with 1 Axes>"
            ],
            "image/png": "[encoded data removed]"
          },
          "metadata": {}
        }
      ],
      "source": [
        "llm_config = {\n",
        "    \"config_list\": config_list,\n",
        "    \"timeout\": 120,\n",
        "    \"temperature\": 0\n",
        "}\n",
        "\n",
        "chatbot = autogen.AssistantAgent(\n",
        "    name=\"chatbot\",\n",
        "    system_message=\" If the user request HAS been addressed, respond with a summary of the result. The summary MUST end with the word TERMINATE. You are a helpful AI assistant with access to functions. Use them if required.\",\n",
        "    llm_config=llm_config,\n",
        ")\n",
        "\n",
        "# create a UserProxyAgent instance named \"user_proxy\"\n",
        "user_proxy = autogen.UserProxyAgent(\n",
        "    name=\"user_proxy\",\n",
        "    is_termination_msg=lambda x: x.get(\"content\", \"\")\n",
        "    and (\n",
        "        x.get(\"content\", \"\").rstrip().endswith(\"TERMINATE\")\n",
        "        or x.get(\"content\", \"\").rstrip().endswith(\"TERMINATE.\")\n",
        "    ),\n",
        "    human_input_mode=\"NEVER\",\n",
        "    max_consecutive_auto_reply=10,\n",
        "    code_execution_config={\"work_dir\": \"coding\"},\n",
        ")\n",
        "\n",
        "\n",
        "@user_proxy.register_for_execution()\n",
        "@chatbot.register_for_llm(\n",
        "    name=\"get_prices\",\n",
        "    description=\"Helper function to obtain stock price history of a company over specified period. The price information is written to a file and the path of the file is returned. The file is csv and contains following columns - Date,Open,High,Low,Close,Volume,Dividends,Stock Splits\",\n",
        ")\n",
        "def get_prices(\n",
        "    ticker: Annotated[str, \"Stock ticker for a company\"],\n",
        "    period: Annotated[\n",
        "        str,\n",
        "        \"data period to download (Either Use period parameter or use start and end) Valid periods are: 1d, 5d, 1mo, 3mo, 6mo, 1y, 2y, 5y, 10y, ytd, max\",\n",
        "    ],\n",
        ") -> Annotated[\n",
        "    str, \"File which contains the price of the a ticker, each price in a new line\"\n",
        "]:\n",
        "    # Generate a random UUID as the file name\n",
        "    file_name: str = \"/tmp/\" + str(uuid.uuid4()) + \".csv\"\n",
        "    file_path = Path(file_name)\n",
        "\n",
        "    tk = yf.Ticker(ticker=ticker)\n",
        "    prices = tk.history(period=period)\n",
        "\n",
        "    with open(file_path, \"w\") as f:\n",
        "        prices.to_csv(f)\n",
        "    return file_name\n",
        "\n",
        "@user_proxy.register_for_execution()\n",
        "@chatbot.register_for_llm(\n",
        "    name=\"draw_time_series\",\n",
        "    description=\"Plot time series chart given stock prices of multiple stock tickers in a csv file.\",\n",
        ")\n",
        "def plot_time_series(\n",
        "    title: Annotated[str, \"Title of the plot that is generated\"],\n",
        "    file_name: Annotated[str, \"File to which to save the chart\"],\n",
        "    csv_files: Annotated[\n",
        "        Dict[str, str],\n",
        "        \"Dictionary from stock ticker to CSV file that contain stock prices. The csv files should have schema - Date,Open,High,Low,Close,Volume,Dividends,Stock Splits\",\n",
        "    ],\n",
        "    date_col: Annotated[str, \"Column name in csv that contains the date\"] = \"Date\",\n",
        "    price_col: Annotated[str, \"Column name that contains the price\"] = \"Close\",\n",
        ") -> str:\n",
        "    file_name = \"/tmp/\" + file_name\n",
        "    for label, csv_file in csv_files.items():\n",
        "        # Load the data into pandas dataframes\n",
        "        price_data = pd.read_csv(csv_file, index_col=date_col, parse_dates=True)\n",
        "\n",
        "        # Plot NVDA stock price data\n",
        "        plt.plot(price_data.index, price_data[\"Close\"], label=label)\n",
        "\n",
        "    plt.xlabel(date_col)\n",
        "    plt.ylabel(price_col)\n",
        "    plt.title(title)\n",
        "    plt.legend()\n",
        "\n",
        "    # Save the plot to a file\n",
        "    plt.savefig(file_name)\n",
        "\n",
        "    print(f\"Plot saved to {file_name}\")\n",
        "\n",
        "    return file_name\n",
        "\n",
        "\n",
        "user_proxy.initiate_chat(\n",
        "    chatbot,\n",
        "    message=\"Plot time series chart of NVDA and TSLA stock price YTD.\",\n",
        "    clear_history=True\n",
        ")"
      ]
    },
    {
      "cell_type": "code",
      "source": [],
      "metadata": {
        "id": "5X34mNnSwmsl"
      },
      "execution_count": null,
      "outputs": []
    }
  ],
  "metadata": {
    "colab": {
      "provenance": []
    },
    "kernelspec": {
      "display_name": "Python 3",
      "name": "python3"
    },
    "language_info": {
      "name": "python"
    }
  },
  "nbformat": 4,
  "nbformat_minor": 0
}
