{
  "cells": [
    {
      "cell_type": "markdown",
      "source": [
        "[![Open in Colab](https://colab.research.google.com/assets/colab-badge.svg)](https://colab.research.google.com/github/fw-ai/cookbook/blob/main/examples/function_calling/fireworks_functions_information_extraction.ipynb)"
      ],
      "metadata": {
        "id": "5RMNS5ftnogb"
      }
    },
    {
      "cell_type": "markdown",
      "metadata": {
        "id": "8Ksv005GbN2w"
      },
      "source": [
        "# Summarize Anything - Information Extraction via [Fireworks Function Calling](https://readme.fireworks.ai/docs/function-calling)\n",
        "\n",
        "This is inspired by awesome colab notebook by [Deepset](https://colab.research.google.com/github/anakin87/notebooks/blob/main/information_extraction_via_llms.ipynb). Checkout there OSS LLM Orchestration framework [haystack](https://haystack.deepset.ai/).\n",
        "\n",
        "In this experiment, we will use function calling ability of [Fireworks Function Calling](https://readme.fireworks.ai/docs/function-calling) model to generate structured information from unstrucutred data.\n",
        "\n",
        "🎯 Goal: create an application that, given a text (or URL) and a specific structure provided by the user, extracts information from the source.\n",
        "\n",
        "\n",
        "The \"**function calling**\" capability first launched by [OpenAI](https://platform.openai.com/docs/guides/function-calling) unlocks this task: the user can describe a structure, by defining a fake function with all its typed and specific parameters. The LLM will prepare the data in this specific form and send it back to the user.\n",
        "\n",
        "**Fireworks Function Calling**\n",
        "\n",
        "Fireworks released a high quality function calling model which is capable of handling long tool context, multi turn conversations & interleaving tool invocations ith regular conversation. We are going to use this model today as our LLM to power our app.\n",
        "\n"
      ]
    },
    {
      "cell_type": "markdown",
      "source": [
        ">[Summarize Anything - Information Extraction via Fireworks Function Calling](#scrollTo=8Ksv005GbN2w)\n",
        "\n",
        ">>[Introduction](#scrollTo=cp4hJ34JivkB)\n",
        "\n",
        ">[Document Retrieval & Clean Up](#scrollTo=buM6rGqMwLZ4)\n",
        "\n",
        ">>>[Let's learn about Capybara](#scrollTo=0kVJ8IfSI-Dx)\n",
        "\n",
        ">>>[How about Yucatan Deer](#scrollTo=Tzz1LSS-JBk4)\n",
        "\n",
        ">>>[Something more massive - African Elephant](#scrollTo=B0M4NEm9JMAw)\n",
        "\n",
        ">>[Let's make example fun - News Summarization](#scrollTo=x7Y8_xmxDOKx)\n",
        "\n"
      ],
      "metadata": {
        "colab_type": "toc",
        "id": "w6TPh-3lOTDP"
      }
    },
    {
      "cell_type": "code",
      "source": [
        "!pip install openai"
      ],
      "metadata": {
        "id": "AqJAIhbKl8Vl"
      },
      "execution_count": null,
      "outputs": []
    },
    {
      "cell_type": "code",
      "execution_count": null,
      "metadata": {
        "id": "-_V9RbxafpdY"
      },
      "outputs": [],
      "source": [
        "import torch\n",
        "import json\n",
        "from typing import Dict\n",
        "import os\n",
        "import openai\n",
        "from IPython.display import HTML, display"
      ]
    },
    {
      "cell_type": "code",
      "source": [
        "model_name = \"accounts/fireworks/models/fw-function-call-34b-v0\"\n",
        "clinet = client = openai.OpenAI(\n",
        "    base_url = \"https://api.fireworks.ai/inference/v1\",\n",
        "    api_key = os.environ[\"FW_API_KEY\"],\n",
        ")"
      ],
      "metadata": {
        "id": "ZV8JGu4dtePQ"
      },
      "execution_count": null,
      "outputs": []
    },
    {
      "cell_type": "markdown",
      "metadata": {
        "id": "cp4hJ34JivkB"
      },
      "source": [
        "## Introduction\n",
        "\n",
        "The [documentation](https://readme.fireworks.ai/docs/function-calling) for FW function calling details the API we can use to specify the list of tools/functions available to the model. We will use the described API to test out the structured response usecase."
      ]
    },
    {
      "cell_type": "code",
      "execution_count": null,
      "metadata": {
        "id": "MdU98plyfdZ1"
      },
      "outputs": [],
      "source": [
        "tools = [\n",
        "  {\n",
        "    \"type\": \"function\",\n",
        "    \"function\": {\n",
        "      \"name\": \"uber.ride\",\n",
        "      \"description\": \"Find suitable ride for customers given the location, type of ride, and the amount of time the customer is willing to wait as parameters\",\n",
        "      \"parameters\": {\n",
        "          \"type\": \"object\",\n",
        "          \"properties\": {\n",
        "             \"loc\":  { \"type\": \"string\", \"description\": \"location of the starting place of the uber ride\"},\n",
        "             \"type\": { \"type\": \"enum\", \"enum\": [\"plus\", \"comfort\", \"black\"], \"description\": \"types of uber ride user is ordering\"},\n",
        "             \"time\": { \"type\": \"string\", \"description\": \"the amount of time in minutes the customer is willing to wait\"}\n",
        "          }\n",
        "      }\n",
        "    }\n",
        "  }\n",
        "]\n",
        "tool_choice = \"auto\"\n",
        "user_prompt = \"Call me an Uber ride type \\\"Plus\\\" in Berkeley at zipcode 94704 in 10 minute\"\n",
        "messages = [\n",
        "    {\n",
        "         \"role\": \"system\",\n",
        "         \"content\": \"You are a helpful assistant with access to tools. Use them wisely and don't image parameter values\",\n",
        "    },\n",
        "    {\n",
        "        \"role\": \"user\",\n",
        "        \"content\": user_prompt,\n",
        "    }\n",
        "]"
      ]
    },
    {
      "cell_type": "code",
      "execution_count": null,
      "metadata": {
        "id": "iPIqKQe8j2wX"
      },
      "outputs": [],
      "source": [
        "chat_completion = client.chat.completions.create(\n",
        "    model=model_name,\n",
        "    messages=messages,\n",
        "    tools=tools,\n",
        "    tool_choice=tool_choice,\n",
        "    temperature=0.1\n",
        ")"
      ]
    },
    {
      "cell_type": "code",
      "source": [
        "print(chat_completion.choices[0].message.model_dump_json(indent=4))"
      ],
      "metadata": {
        "colab": {
          "base_uri": "https://localhost:8080/"
        },
        "id": "UXjQHjr_ut2o",
        "outputId": "c1382298-8322-49e5-ef45-28a5f2f3c5b4"
      },
      "execution_count": null,
      "outputs": [
        {
          "output_type": "stream",
          "name": "stdout",
          "text": [
            "{\n",
            "    \"content\": \" \",\n",
            "    \"role\": \"assistant\",\n",
            "    \"function_call\": null,\n",
            "    \"tool_calls\": [\n",
            "        {\n",
            "            \"id\": \"call_m3SQZptP33ehkhux6ogd7zLC\",\n",
            "            \"function\": {\n",
            "                \"arguments\": \"{\\\"loc\\\": \\\"Berkeley\\\", \\\"type\\\": \\\"plus\\\", \\\"time\\\": \\\"10\\\"}\",\n",
            "                \"name\": \"uber.ride\"\n",
            "            },\n",
            "            \"type\": \"function\",\n",
            "            \"index\": 0\n",
            "        }\n",
            "    ]\n",
            "}\n"
          ]
        }
      ]
    },
    {
      "cell_type": "markdown",
      "metadata": {
        "id": "4zvaVXFcmy2v"
      },
      "source": [
        "All good! ✅"
      ]
    },
    {
      "cell_type": "markdown",
      "source": [
        "# Document Retrieval & Clean Up\n",
        "\n",
        "Before we can get started with extracting the right set of information. We need to first obtaint the document given a url & then clean it up. For cleaning up HTML, we will use [BeautifulSoup](https://beautiful-soup-4.readthedocs.io/en/latest/)."
      ],
      "metadata": {
        "id": "buM6rGqMwLZ4"
      }
    },
    {
      "cell_type": "code",
      "source": [
        "import requests\n",
        "from bs4 import BeautifulSoup"
      ],
      "metadata": {
        "id": "I944NYapyJJO"
      },
      "execution_count": null,
      "outputs": []
    },
    {
      "cell_type": "code",
      "source": [
        "url = \"https://www.rainforest-alliance.org/species/capybara/\"\n",
        "page = requests.get(url)\n",
        "\n",
        "# Import Module\n",
        "from bs4 import BeautifulSoup\n",
        "import requests\n",
        "\n",
        "# Website URL\n",
        "URL = 'https://www.geeksforgeeks.org/data-structures/'\n",
        "\n",
        "# Page content from Website URL\n",
        "page = requests.get(url)\n",
        "\n",
        "# Function to remove tags\n",
        "def remove_tags(html):\n",
        "\n",
        "    # parse html content\n",
        "    soup = BeautifulSoup(html, \"html.parser\")\n",
        "\n",
        "    for data in soup(['style', 'script']):\n",
        "        # Remove tags\n",
        "        data.decompose()\n",
        "    # return data by retrieving the tag content\n",
        "    return ' '.join(soup.stripped_strings)\n",
        "\n",
        "\n",
        "# Print the extracted data\n",
        "cleaned_content = remove_tags(page.content)"
      ],
      "metadata": {
        "id": "tqo8NjDLyMnA"
      },
      "execution_count": null,
      "outputs": []
    },
    {
      "cell_type": "code",
      "source": [
        "from typing import Dict, List, Any\n",
        "\n",
        "def extract_data(tools: List[Dict[str, Any]], url: str) -> str:\n",
        "  assert len(tools) == 1, \"Only one scehma can be selected for data extraction\"\n",
        "  tool_choice = {\n",
        "      \"type\": \"function\",\n",
        "      \"function\": {\n",
        "          \"name\": tools[0][\"function\"][\"name\"]\n",
        "      }\n",
        "  }\n",
        "  page = requests.get(url)\n",
        "  cleaned_content = remove_tags(page.content)\n",
        "\n",
        "  messages = [\n",
        "      {\n",
        "          \"role\": \"system\",\n",
        "          \"content\": f\"You are a helpful assistant with access to tools. Use them wisely and don't imageine parameter values.\"\n",
        "      },\n",
        "      {\n",
        "          \"role\": \"user\",\n",
        "          \"content\": f\"Extract data from the following text. START TEXT {cleaned_content} END TEXT.\"\n",
        "      }\n",
        "  ]\n",
        "\n",
        "  chat_completion = client.chat.completions.create(\n",
        "    model=model_name,\n",
        "    messages=messages,\n",
        "    tools=tools,\n",
        "    tool_choice=tool_choice,\n",
        "    temperature=0.0\n",
        "  )\n",
        "\n",
        "  def val_to_color(val):\n",
        "    \"\"\"\n",
        "    Helper function to return a color based on the type/value of a variable\n",
        "    \"\"\"\n",
        "    if isinstance(val, list):\n",
        "      return \"#FFFEE0\"\n",
        "    if val is True:\n",
        "      return \"#90EE90\"\n",
        "    if val is False:\n",
        "      return \"#FFCCCB\"\n",
        "    return \"\"\n",
        "\n",
        "  args = json.loads(chat_completion.choices[0].message.tool_calls[0].function.arguments)\n",
        "\n",
        "  # Convert data to HTML format\n",
        "  html_content = '<div style=\"border: 1px solid #ccc; padding: 10px; border-radius: 5px; background-color: #f9f9f9;\">'\n",
        "  for key, value in args.items():\n",
        "      html_content += f'<p><span style=\"font-family: Cursive; font-size: 30px;\">{key}:</span>'\n",
        "      html_content += f'&emsp;<span style=\"background-color:{val_to_color(value)}; font-family: Cursive; font-size: 20px;\">{value}</span></p>'\n",
        "  html_content += '</div>'\n",
        "\n",
        "  return {\"html_visualization\": html_content}"
      ],
      "metadata": {
        "id": "mbNg4iJV_Nru"
      },
      "execution_count": null,
      "outputs": []
    },
    {
      "cell_type": "code",
      "source": [
        "animal_info_tools = [\n",
        "{\n",
        "  \"type\": \"function\",\n",
        "  \"function\": {\n",
        "      \"name\": \"extract_data\",\n",
        "      \"description\": \"Extract data from text\",\n",
        "      \"parameters\": {\n",
        "          \"type\": \"object\",\n",
        "          \"properties\": {\n",
        "              \"about_animals\": {\n",
        "                  \"description\": \"Is the article about animals?\",\n",
        "                  \"type\": \"boolean\",\n",
        "              },\n",
        "              \"about_ai\": {\n",
        "                  \"description\": \"Is the article about artificial intelligence?\",\n",
        "                  \"type\": \"boolean\",\n",
        "              },\n",
        "              \"weight\": {\n",
        "                  \"description\": \"the weight of the animal in lbs\",\n",
        "                  \"type\": \"integer\",\n",
        "              },\n",
        "              \"habitat\": {\n",
        "                  \"description\": \"List of places where the animal lives\",\n",
        "                  \"type\": \"array\",\n",
        "                  \"items\": {\"type\": \"string\"},\n",
        "              },\n",
        "              \"diet\": {\n",
        "                  \"description\": \"What does the animal eat?\",\n",
        "                  \"type\": \"array\",\n",
        "                  \"items\": {\"type\": \"string\"},\n",
        "              },\n",
        "              \"predators\": {\n",
        "                  \"description\": \"What are the animals that threaten them?\",\n",
        "                  \"type\": \"array\",\n",
        "                  \"items\": {\"type\": \"string\"},\n",
        "              },\n",
        "          },\n",
        "          \"required\": [\"about_animals\", \"about_ai\", \"weight\", \"habitat\", \"diet\", \"predators\"],\n",
        "      }\n",
        "  }\n",
        "}\n",
        "]"
      ],
      "metadata": {
        "id": "979C7nJxD5Qt"
      },
      "execution_count": null,
      "outputs": []
    },
    {
      "cell_type": "markdown",
      "source": [
        "### Let's learn about Capybara"
      ],
      "metadata": {
        "id": "0kVJ8IfSI-Dx"
      }
    },
    {
      "cell_type": "code",
      "source": [
        "display(HTML(extract_data(animal_info_tools, url=\"https://www.rainforest-alliance.org/species/capybara/\")['html_visualization']))"
      ],
      "metadata": {
        "colab": {
          "base_uri": "https://localhost:8080/",
          "height": 304
        },
        "id": "Q5ZXOdLrA-a-",
        "outputId": "7b8fc2e7-4d6e-4f23-dc75-6b53a4c47642"
      },
      "execution_count": null,
      "outputs": [
        {
          "output_type": "display_data",
          "data": {
            "text/plain": [
              "<IPython.core.display.HTML object>"
            ],
            "text/html": [
              "<div style=\"border: 1px solid #ccc; padding: 10px; border-radius: 5px; background-color: #f9f9f9;\"><p><span style=\"font-family: Cursive; font-size: 30px;\">about_animals:</span>&emsp;<span style=\"background-color:#90EE90; font-family: Cursive; font-size: 20px;\">True</span></p><p><span style=\"font-family: Cursive; font-size: 30px;\">about_ai:</span>&emsp;<span style=\"background-color:#FFCCCB; font-family: Cursive; font-size: 20px;\">False</span></p><p><span style=\"font-family: Cursive; font-size: 30px;\">weight:</span>&emsp;<span style=\"background-color:; font-family: Cursive; font-size: 20px;\">100</span></p><p><span style=\"font-family: Cursive; font-size: 30px;\">habitat:</span>&emsp;<span style=\"background-color:#FFFEE0; font-family: Cursive; font-size: 20px;\">['Panama', 'Colombia', 'Venezuela', 'Guyana', 'Peru', 'Brazil', 'Paraguay', 'Northeast Argentina', 'Uruguay']</span></p><p><span style=\"font-family: Cursive; font-size: 30px;\">diet:</span>&emsp;<span style=\"background-color:#FFFEE0; font-family: Cursive; font-size: 20px;\">['grass', 'grains', 'melons', 'reeds', 'squashes']</span></p><p><span style=\"font-family: Cursive; font-size: 30px;\">predators:</span>&emsp;<span style=\"background-color:#FFFEE0; font-family: Cursive; font-size: 20px;\">['jaguars', 'caimans', 'anacondas', 'ocelots', 'harpy eagles']</span></p></div>"
            ]
          },
          "metadata": {}
        }
      ]
    },
    {
      "cell_type": "markdown",
      "source": [
        "### How about Yucatan Deer"
      ],
      "metadata": {
        "id": "Tzz1LSS-JBk4"
      }
    },
    {
      "cell_type": "code",
      "source": [
        "display(HTML(extract_data(animal_info_tools, url=\"https://www.rainforest-alliance.org/species/yucatan-deer/\")['html_visualization']))"
      ],
      "metadata": {
        "colab": {
          "base_uri": "https://localhost:8080/",
          "height": 304
        },
        "id": "cryg6li2Cxny",
        "outputId": "a6ecc7ed-a78c-43f3-fc34-e6a1a2096ad4"
      },
      "execution_count": null,
      "outputs": [
        {
          "output_type": "display_data",
          "data": {
            "text/plain": [
              "<IPython.core.display.HTML object>"
            ],
            "text/html": [
              "<div style=\"border: 1px solid #ccc; padding: 10px; border-radius: 5px; background-color: #f9f9f9;\"><p><span style=\"font-family: Cursive; font-size: 30px;\">about_animals:</span>&emsp;<span style=\"background-color:#90EE90; font-family: Cursive; font-size: 20px;\">True</span></p><p><span style=\"font-family: Cursive; font-size: 30px;\">about_ai:</span>&emsp;<span style=\"background-color:#FFCCCB; font-family: Cursive; font-size: 20px;\">False</span></p><p><span style=\"font-family: Cursive; font-size: 30px;\">weight:</span>&emsp;<span style=\"background-color:; font-family: Cursive; font-size: 20px;\">70</span></p><p><span style=\"font-family: Cursive; font-size: 30px;\">habitat:</span>&emsp;<span style=\"background-color:#FFFEE0; font-family: Cursive; font-size: 20px;\">['temperate and tropical deciduous forests', 'forest edges', 'open fields']</span></p><p><span style=\"font-family: Cursive; font-size: 30px;\">diet:</span>&emsp;<span style=\"background-color:#FFFEE0; font-family: Cursive; font-size: 20px;\">['grass', 'leaves', 'sprouts', 'lichens', 'mosses', 'tree bark', 'fruit']</span></p><p><span style=\"font-family: Cursive; font-size: 30px;\">predators:</span>&emsp;<span style=\"background-color:#FFFEE0; font-family: Cursive; font-size: 20px;\">['cougar', 'jaguar']</span></p></div>"
            ]
          },
          "metadata": {}
        }
      ]
    },
    {
      "cell_type": "markdown",
      "source": [
        "### Something more massive - African Elephant"
      ],
      "metadata": {
        "id": "B0M4NEm9JMAw"
      }
    },
    {
      "cell_type": "code",
      "source": [
        "display(HTML(extract_data(animal_info_tools, url=\"https://www.rainforest-alliance.org/species/african-elephants/\")['html_visualization']))"
      ],
      "metadata": {
        "colab": {
          "base_uri": "https://localhost:8080/",
          "height": 304
        },
        "id": "PGzkOpYTDOFf",
        "outputId": "b88d2e61-e35d-4740-974b-d0c5110e2e1c"
      },
      "execution_count": null,
      "outputs": [
        {
          "output_type": "display_data",
          "data": {
            "text/plain": [
              "<IPython.core.display.HTML object>"
            ],
            "text/html": [
              "<div style=\"border: 1px solid #ccc; padding: 10px; border-radius: 5px; background-color: #f9f9f9;\"><p><span style=\"font-family: Cursive; font-size: 30px;\">about_animals:</span>&emsp;<span style=\"background-color:#90EE90; font-family: Cursive; font-size: 20px;\">True</span></p><p><span style=\"font-family: Cursive; font-size: 30px;\">about_ai:</span>&emsp;<span style=\"background-color:#FFCCCB; font-family: Cursive; font-size: 20px;\">False</span></p><p><span style=\"font-family: Cursive; font-size: 30px;\">weight:</span>&emsp;<span style=\"background-color:; font-family: Cursive; font-size: 20px;\">14000</span></p><p><span style=\"font-family: Cursive; font-size: 30px;\">habitat:</span>&emsp;<span style=\"background-color:#FFFEE0; font-family: Cursive; font-size: 20px;\">['central and western Africa’s equatorial forests', 'grassy plains and bushlands of the continent']</span></p><p><span style=\"font-family: Cursive; font-size: 30px;\">diet:</span>&emsp;<span style=\"background-color:#FFFEE0; font-family: Cursive; font-size: 20px;\">['leaves and branches', 'grasses', 'fruit', 'bark']</span></p><p><span style=\"font-family: Cursive; font-size: 30px;\">predators:</span>&emsp;<span style=\"background-color:#FFFEE0; font-family: Cursive; font-size: 20px;\">['humans']</span></p></div>"
            ]
          },
          "metadata": {}
        }
      ]
    },
    {
      "cell_type": "markdown",
      "source": [
        "## Let's make example fun - News Summarization\n",
        "\n",
        "Now let's use a more fun example. In order for LLMs to leverage the world knowledge, they need to be able to organize unstructured sources like websites into more structured information. Let's take the example of a news article announcing the new funding round for the startup [Perplexity AI](https://www.perplexity.ai/). For our sample news summarization app, the user only specifies the small list of information that want from the article and then ask the LLM to generate the needed information for them."
      ],
      "metadata": {
        "id": "x7Y8_xmxDOKx"
      }
    },
    {
      "cell_type": "code",
      "source": [
        "# Detail the information needed\n",
        "news_info_tools = [\n",
        "  {\n",
        "    \"type\": \"function\",\n",
        "    \"function\": {\n",
        "        \"name\": \"extract_data\",\n",
        "        \"description\": \"Extract data from text\",\n",
        "        \"parameters\": {\n",
        "            \"type\": \"object\",\n",
        "            \"properties\": {\n",
        "                \"about_ai\": {\n",
        "                    \"description\": \"Is the article about artificial intelligence?\",\n",
        "                    \"type\": \"boolean\",\n",
        "                },\n",
        "                \"company_name\": {\n",
        "                    \"description\": \"The name of the company which is being referenced in document\",\n",
        "                    \"type\": \"string\",\n",
        "                },\n",
        "                \"valuation\": {\n",
        "                    \"description\": \"Valuation of the company which is being referenced in document\",\n",
        "                    \"type\": \"string\",\n",
        "                },\n",
        "                \"investors\": {\n",
        "                    \"description\": \"investors in the company being referenced in document\",\n",
        "                    \"type\": \"array\",\n",
        "                    \"items\": {\"type\": \"string\"},\n",
        "                },\n",
        "                \"competitors\": {\n",
        "                    \"description\": \"competitors of the company being referenced in document\",\n",
        "                    \"type\": \"array\",\n",
        "                    \"items\": {\"type\": \"string\"},\n",
        "                },\n",
        "            },\n",
        "            \"required\": [\"about_ai\", \"company_name\", \"valuation\", \"investors\", \"competitors\"],\n",
        "        }\n",
        "    }\n",
        "  }\n",
        "]"
      ],
      "metadata": {
        "id": "RwYrn5vWFZhD"
      },
      "execution_count": null,
      "outputs": []
    },
    {
      "cell_type": "code",
      "source": [
        "display(HTML(extract_data(news_info_tools, url=\"https://finance.yahoo.com/news/perplexity-ai-challenge-google-hinges-124622631.html\")['html_visualization']))"
      ],
      "metadata": {
        "colab": {
          "base_uri": "https://localhost:8080/",
          "height": 261
        },
        "id": "RTb7tdJhGxKy",
        "outputId": "52e208ea-70c9-4fb9-fd9b-f7555daa9a81"
      },
      "execution_count": null,
      "outputs": [
        {
          "output_type": "display_data",
          "data": {
            "text/plain": [
              "<IPython.core.display.HTML object>"
            ],
            "text/html": [
              "<div style=\"border: 1px solid #ccc; padding: 10px; border-radius: 5px; background-color: #f9f9f9;\"><p><span style=\"font-family: Cursive; font-size: 30px;\">about_ai:</span>&emsp;<span style=\"background-color:#90EE90; font-family: Cursive; font-size: 20px;\">True</span></p><p><span style=\"font-family: Cursive; font-size: 30px;\">company_name:</span>&emsp;<span style=\"background-color:; font-family: Cursive; font-size: 20px;\">Perplexity AI</span></p><p><span style=\"font-family: Cursive; font-size: 30px;\">valuation:</span>&emsp;<span style=\"background-color:; font-family: Cursive; font-size: 20px;\">$520 million</span></p><p><span style=\"font-family: Cursive; font-size: 30px;\">investors:</span>&emsp;<span style=\"background-color:#FFFEE0; font-family: Cursive; font-size: 20px;\">['IVP', 'NEA', 'NVIDIA', 'Databricks', 'Bessemer Venture Partners']</span></p><p><span style=\"font-family: Cursive; font-size: 30px;\">competitors:</span>&emsp;<span style=\"background-color:#FFFEE0; font-family: Cursive; font-size: 20px;\">['Google', 'Meta', 'Amazon', 'Anthropic', 'Open AI']</span></p></div>"
            ]
          },
          "metadata": {}
        }
      ]
    },
    {
      "cell_type": "code",
      "source": [],
      "metadata": {
        "id": "cJ3baFWLQg6L"
      },
      "execution_count": null,
      "outputs": []
    }
  ],
  "metadata": {
    "accelerator": "GPU",
    "colab": {
      "gpuType": "T4",
      "provenance": []
    },
    "kernelspec": {
      "display_name": "Python 3",
      "name": "python3"
    },
    "language_info": {
      "name": "python"
    }
  },
  "nbformat": 4,
  "nbformat_minor": 0
}