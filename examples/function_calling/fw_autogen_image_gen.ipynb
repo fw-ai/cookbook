{
  "cells": [
    {
      "cell_type": "markdown",
      "source": [
        "## Preable - Install Deps\n",
        "\n",
        "There are only a few dependencies for this tutorial."
      ],
      "metadata": {
        "id": "OGGLSlI9C80P"
      }
    },
    {
      "cell_type": "code",
      "execution_count": 1,
      "metadata": {
        "colab": {
          "base_uri": "https://localhost:8080/"
        },
        "id": "S5MKzf6_tFAG",
        "outputId": "f7c56c80-7293-4907-aaca-35d0f2bd3f87"
      },
      "outputs": [
        {
          "output_type": "stream",
          "name": "stdout",
          "text": [
            "Looking in indexes: https://pypi.org/simple, https://pypi.ngc.nvidia.com\r\n",
            "Requirement already satisfied: pyautogen in /usr/local/lib/python3.10/dist-packages (0.2.6)\r\n",
            "Requirement already satisfied: openai in /usr/local/lib/python3.10/dist-packages (1.7.2)\n",
            "Requirement already satisfied: diskcache in /usr/local/lib/python3.10/dist-packages (from pyautogen) (5.6.3)\n",
            "Requirement already satisfied: flaml in /usr/local/lib/python3.10/dist-packages (from pyautogen) (2.1.1)\n",
            "Requirement already satisfied: pydantic<3,>=1.10 in /usr/local/lib/python3.10/dist-packages (from pyautogen) (2.4.2)\n",
            "Requirement already satisfied: python-dotenv in /usr/local/lib/python3.10/dist-packages (from pyautogen) (1.0.0)\n",
            "Requirement already satisfied: termcolor in /usr/local/lib/python3.10/dist-packages (from pyautogen) (2.4.0)\n",
            "Requirement already satisfied: tiktoken in /usr/local/lib/python3.10/dist-packages (from pyautogen) (0.5.2)\n",
            "Requirement already satisfied: anyio<5,>=3.5.0 in /usr/local/lib/python3.10/dist-packages (from openai) (4.2.0)\n",
            "Requirement already satisfied: distro<2,>=1.7.0 in /usr/local/lib/python3.10/dist-packages (from openai) (1.8.0)\n",
            "Requirement already satisfied: httpx<1,>=0.23.0 in /usr/local/lib/python3.10/dist-packages (from openai) (0.25.2)\n",
            "Requirement already satisfied: sniffio in /usr/local/lib/python3.10/dist-packages (from openai) (1.3.0)\n",
            "Requirement already satisfied: tqdm>4 in /usr/local/lib/python3.10/dist-packages (from openai) (4.66.1)\n",
            "Requirement already satisfied: typing-extensions<5,>=4.7 in /usr/local/lib/python3.10/dist-packages (from openai) (4.9.0)\n",
            "Requirement already satisfied: idna>=2.8 in /usr/local/lib/python3.10/dist-packages (from anyio<5,>=3.5.0->openai) (3.4)\n",
            "Requirement already satisfied: exceptiongroup>=1.0.2 in /usr/local/lib/python3.10/dist-packages (from anyio<5,>=3.5.0->openai) (1.1.3)\n",
            "Requirement already satisfied: certifi in /usr/local/lib/python3.10/dist-packages (from httpx<1,>=0.23.0->openai) (2023.7.22)\n",
            "Requirement already satisfied: httpcore==1.* in /usr/local/lib/python3.10/dist-packages (from httpx<1,>=0.23.0->openai) (1.0.2)\n",
            "Requirement already satisfied: h11<0.15,>=0.13 in /usr/local/lib/python3.10/dist-packages (from httpcore==1.*->httpx<1,>=0.23.0->openai) (0.14.0)\n",
            "Requirement already satisfied: annotated-types>=0.4.0 in /usr/local/lib/python3.10/dist-packages (from pydantic<3,>=1.10->pyautogen) (0.5.0)\n",
            "Requirement already satisfied: pydantic-core==2.10.1 in /usr/local/lib/python3.10/dist-packages (from pydantic<3,>=1.10->pyautogen) (2.10.1)\n",
            "Requirement already satisfied: NumPy>=1.17.0rc1 in /usr/local/lib/python3.10/dist-packages (from flaml->pyautogen) (1.22.2)\n",
            "Requirement already satisfied: regex>=2022.1.18 in /usr/local/lib/python3.10/dist-packages (from tiktoken->pyautogen) (2023.10.3)\n",
            "Requirement already satisfied: requests>=2.26.0 in /usr/local/lib/python3.10/dist-packages (from tiktoken->pyautogen) (2.31.0)\n",
            "Requirement already satisfied: charset-normalizer<4,>=2 in /usr/local/lib/python3.10/dist-packages (from requests>=2.26.0->tiktoken->pyautogen) (3.2.0)\n",
            "Requirement already satisfied: urllib3<3,>=1.21.1 in /usr/local/lib/python3.10/dist-packages (from requests>=2.26.0->tiktoken->pyautogen) (2.1.0)\n",
            "\u001b[33mWARNING: Running pip as the 'root' user can result in broken permissions and conflicting behaviour with the system package manager. It is recommended to use a virtual environment instead: https://pip.pypa.io/warnings/venv\u001b[0m\u001b[33m\n",
            "\u001b[0m"
          ]
        }
      ],
      "source": [
        "!pip install pyautogen openai"
      ]
    },
    {
      "cell_type": "markdown",
      "source": [
        "## Introduction - Art Generator\n",
        "\n",
        "In this example we will use AutoGen framework to construct an agent that is capable of generating an image through DALLE-3 and saving it to local disk.\n",
        "\n",
        "For this demo, we are going to utilize [function calling](https://readme.fireworks.ai/docs/function-calling) feature launched by Fireworks. We initialize two agents - `UserProxyAgent` and `AssistantAgent`. The `AssistantAgent` is given the ability to issue a call for the provided functions but not execute them while `UserProxyAgent` is given the ability to execute the function calls issues by the `AssistantAgent`. In order to achieve this behaviour we use decorators provided by AutoGen library called `register_for_llm` and `register_for_execution`. Using these decorators allows us to easily define python functions and turn them into [JSON Spec](https://microsoft.github.io/autogen/docs/Use-Cases/agent_chat) needed by function calling API.\n",
        "\n",
        "Finally, we setup system prompt for both the agents. We ask the `AssistantAgent` to be a helpful agent & focus on generating the correct function calls and we leave `UserProxyAgent` as is. For more advanced use cases we can ask `UserProxyAgent` to be a plan generator.\n"
      ],
      "metadata": {
        "id": "34MJ8aTW9ys1"
      }
    },
    {
      "cell_type": "code",
      "execution_count": 17,
      "metadata": {
        "id": "zAuynYvM2c3w"
      },
      "outputs": [],
      "source": [
        "import autogen\n",
        "import os\n",
        "from IPython import get_ipython\n",
        "from typing_extensions import Annotated\n",
        "from typing import List\n",
        "import uuid\n",
        "import requests  # to perform HTTP requests\n",
        "from pathlib import Path\n",
        "from openai import OpenAI\n",
        "from matplotlib import pyplot as plt\n",
        "import cv2"
      ]
    },
    {
      "cell_type": "code",
      "execution_count": 12,
      "metadata": {
        "id": "FD9w-Ztt3Ssm"
      },
      "outputs": [],
      "source": [
        "config_list = autogen.config_list_from_dotenv(\n",
        "  dotenv_file_path=\"~/secret_keys.env\",\n",
        "  model_api_key_map={\n",
        "      #\"gpt-4\": {\n",
        "      #  \"api_key_env_var\": \"OPENAI_API_KEY\",\n",
        "      #},\n",
        "      \"accounts/fireworks/models/function-call-v1\": {\n",
        "          \"api_key_env_var\": \"FW_API_KEY\",\n",
        "          \"base_url\": \"https://api.fireworks.ai/inference/v1\",\n",
        "      },\n",
        "  },\n",
        "  filter_dict={\n",
        "      \"model\": {\n",
        "          #\"gpt-4\",\n",
        "          \"accounts/fireworks/models/function-call-v1\"\n",
        "      }\n",
        "  }\n",
        ")"
      ]
    },
    {
      "cell_type": "code",
      "execution_count": null,
      "metadata": {
        "id": "HHixu6bJ_seP"
      },
      "outputs": [],
      "source": [
        "config_list"
      ]
    },
    {
      "cell_type": "code",
      "execution_count": 14,
      "metadata": {
        "id": "5G_iwAz_-NvY"
      },
      "outputs": [],
      "source": [
        "llm_config = {\n",
        "    \"config_list\": config_list,\n",
        "    \"timeout\": 120,\n",
        "    \"temperature\": 0\n",
        "}\n",
        "chatbot = autogen.AssistantAgent(\n",
        "    name=\"chatbot\",\n",
        "    system_message=\"You are a helpful assistant that can use available functions when needed to solve problems. At each point, do your best to determine if the user's request has been addressed. If the request HAS been addressed, respond with a summary of the result. The summary must be written as a coherent helpful response to the user request e.g. 'Sure, here is result to your request ' or 'The tallest mountain in Africa is ..' etc. The summary MUST end with the word TERMINATE. If the  user request is pleasantry or greeting, you should respond with a pleasantry or greeting and TERMINATE.\",\n",
        "    llm_config=llm_config,\n",
        ")\n",
        "\n",
        "# create a UserProxyAgent instance named \"user_proxy\"\n",
        "user_proxy = autogen.UserProxyAgent(\n",
        "    name=\"user_proxy\",\n",
        "    is_termination_msg=lambda x: x.get(\"content\", \"\") and x.get(\"content\", \"\").rstrip().endswith(\"TERMINATE.\"),\n",
        "    human_input_mode=\"NEVER\",\n",
        "    max_consecutive_auto_reply=10,\n",
        "    code_execution_config={\"work_dir\": \"coding\"},\n",
        ")\n",
        "\n",
        "\n",
        "@user_proxy.register_for_execution()\n",
        "@chatbot.register_for_llm(name=\"generate_and_save_images\", description=\"Function to paint, draw or illustrate images based on the users query or request. Generates images from a given query using OpenAI's DALL-E model and saves them to disk. Use the code below anytime there is a request to create an image.\")\n",
        "def generate_and_save_images(query: Annotated[str, \"A natural language description of the image to be generated\"], image_size: Annotated[str, \"The size of the image to be generated. (default is '1024x1024')\"] = \"1024x1024\") -> List[str]:\n",
        "    \"\"\"\n",
        "    :param query: A natural language description of the image to be generated.\n",
        "    :param image_size: )\n",
        "    :return: A list of filenames for the saved images.\n",
        "    \"\"\"\n",
        "\n",
        "    client = OpenAI()  # Initialize the OpenAI client\n",
        "    response = client.images.generate(model=\"dall-e-3\", prompt=query, n=1, size=image_size)  # Generate images\n",
        "\n",
        "    # List to store the file names of saved images\n",
        "    saved_files = []\n",
        "\n",
        "    # Check if the response is successful\n",
        "    if response.data:\n",
        "        for image_data in response.data:\n",
        "            # Generate a random UUID as the file name\n",
        "            file_name = str(uuid.uuid4()) + \".png\"  # Assuming the image is a PNG\n",
        "            file_path = Path(file_name)\n",
        "\n",
        "            img_url = image_data.url\n",
        "            img_response = requests.get(img_url)\n",
        "            if img_response.status_code == 200:\n",
        "                # Write the binary content to a file\n",
        "                with open(file_path, \"wb\") as img_file:\n",
        "                    img_file.write(img_response.content)\n",
        "                    print(f\"Image saved to {file_path}\")\n",
        "                    saved_files.append(str(file_path))\n",
        "            else:\n",
        "                print(f\"Failed to download the image from {img_url}\")\n",
        "    else:\n",
        "        print(\"No image data found in the response!\")\n",
        "\n",
        "    # Return the list of saved files\n",
        "    return {\"path\": saved_files[0]}\n",
        "\n",
        "# Example usage of the function:\n",
        "# generate_and_save_images(\"A cute baby sea otter\")\n",
        "\n",
        "@user_proxy.register_for_execution()\n",
        "@chatbot.register_for_llm(name=\"show_image\", description=\"A function that is capable for displaying an image given path to a image file in png or jpg or jpeg.\")\n",
        "def show_image(path: Annotated[str, \"The path to the image file that needs to be displayed\"]) -> str:\n",
        "  img = cv2.imread(path,-1)\n",
        "  plt.imshow(img)\n",
        "  plt.axis(\"off\")\n",
        "  plt.show()\n",
        "  return \"\"\n",
        "\n"
      ]
    },
    {
      "cell_type": "code",
      "execution_count": null,
      "metadata": {
        "id": "KsvYJSLsQ1-x"
      },
      "outputs": [],
      "source": [
        "chatbot.llm_config"
      ]
    },
    {
      "cell_type": "code",
      "execution_count": null,
      "metadata": {
        "id": "11CtFkFWNv_l"
      },
      "outputs": [],
      "source": [
        "# start the conversation\n",
        "user_proxy.initiate_chat(\n",
        "    chatbot,\n",
        "    message=\"paint and show an image of a glass of ethiopian coffee, freshly brewed in a tall glass cup, on a table right in front of a lush green forest scenery.\",\n",
        ")"
      ]
    },
    {
      "cell_type": "code",
      "execution_count": 7,
      "metadata": {
        "id": "rR_HDevWQPQT"
      },
      "outputs": [],
      "source": []
    }
  ],
  "metadata": {
    "colab": {
      "provenance": []
    },
    "kernelspec": {
      "display_name": "Python 3",
      "name": "python3"
    },
    "language_info": {
      "name": "python"
    }
  },
  "nbformat": 4,
  "nbformat_minor": 0
}