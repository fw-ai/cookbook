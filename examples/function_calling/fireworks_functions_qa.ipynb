{
  "cells": [
    {
      "cell_type": "markdown",
      "id": "71a43144",
      "metadata": {
        "id": "71a43144"
      },
      "source": [
        "# Structure answers with Fireworks functions\n",
        "\n",
        "Fireworks (FW) function calling model allows has the ability to produced structured responses. This is often useful in question answering when you want to not only get the final answer but also supporting evidence, citation, etc.\n",
        "\n",
        "In this notebook we show how to use an LLM chain which uses FW functions as part of an overall retrieval pipeline."
      ]
    },
    {
      "cell_type": "code",
      "execution_count": 1,
      "id": "f059012e",
      "metadata": {
        "id": "f059012e"
      },
      "outputs": [],
      "source": [
        "import os\n",
        "import requests\n",
        "import re\n",
        "import openai"
      ]
    },
    {
      "cell_type": "code",
      "source": [
        "url = \"https://raw.githubusercontent.com/hwchase17/chat-your-data/master/state_of_the_union.txt\"\n",
        "content = requests.get(url).content\n",
        "content = str(content, \"utf-8\")"
      ],
      "metadata": {
        "id": "IcIybYoE35ro"
      },
      "id": "IcIybYoE35ro",
      "execution_count": 2,
      "outputs": []
    },
    {
      "cell_type": "code",
      "source": [
        "# Some clean up\n",
        "clean_content = content.replace(\"\\n\\n\", \"\\n\")"
      ],
      "metadata": {
        "id": "xTeisbO_4UI7"
      },
      "id": "xTeisbO_4UI7",
      "execution_count": 3,
      "outputs": []
    },
    {
      "cell_type": "code",
      "source": [
        "client = openai.OpenAI(\n",
        "    base_url = \"https://api.fireworks.ai/inference/v1\",\n",
        "    api_key = os.environ[\"FW_API_KEY\"],\n",
        ")\n",
        "model_name = \"accounts/fireworks/models/fw-function-call-34b-v0\""
      ],
      "metadata": {
        "id": "ZlTFlhtB5baq"
      },
      "id": "ZlTFlhtB5baq",
      "execution_count": 4,
      "outputs": []
    },
    {
      "cell_type": "code",
      "source": [
        "tools = [\n",
        "    {\n",
        "        \"type\": \"function\",\n",
        "        \"function\": {\n",
        "            \"name\": \"get_answer_with_sources\",\n",
        "            \"description\": \"Answer questions from the user while quoting sources.\",\n",
        "            \"parameters\": {\n",
        "                \"type\": \"object\",\n",
        "                \"properties\": {\n",
        "                  \"answer\": {\n",
        "                      \"type\": \"string\",\n",
        "                      \"description\": \"Answer to the question that was asked.\"\n",
        "                  },\n",
        "                  \"sources\": {\n",
        "                      \"type\": \"array\",\n",
        "                      \"items\": {\n",
        "                          \"type\": \"string\",\n",
        "                          \"description\": \"Source used to answer the question\"\n",
        "                      }\n",
        "                  }\n",
        "                },\n",
        "                \"required\": [\"answer\", \"sources\"],\n",
        "            }\n",
        "        }\n",
        "    }\n",
        "]\n",
        "tool_choice = {\"type\": \"function\", \"function\": {\"name\":\"get_answer_with_sources\"}}"
      ],
      "metadata": {
        "id": "Zj-9l4m283b4"
      },
      "id": "Zj-9l4m283b4",
      "execution_count": 6,
      "outputs": []
    },
    {
      "cell_type": "code",
      "source": [
        "messages = [\n",
        "    {\"role\": \"system\", \"content\": f\"You are a helpful assistant who is given document with following content: {clean_content}.\"\n",
        "     \t\t\t\t\t\t\t\t\t\t\t\t\t\t\t\"Please reply in succinct manner and be truthful in the reply.\"},\n",
        "    {\"role\": \"user\", \"content\": \"What did the president say about Ketanji Brown Jackson?\"}\n",
        "]\n"
      ],
      "metadata": {
        "id": "LcnDoz7H8jjE"
      },
      "id": "LcnDoz7H8jjE",
      "execution_count": 7,
      "outputs": []
    },
    {
      "cell_type": "code",
      "source": [
        "chat_completion = client.chat.completions.create(\n",
        "    model=model_name,\n",
        "    messages=messages,\n",
        "    tools=tools,\n",
        "    tool_choice=tool_choice,\n",
        "    temperature=0.1\n",
        ")"
      ],
      "metadata": {
        "id": "ENX3Fgcd_JfZ"
      },
      "id": "ENX3Fgcd_JfZ",
      "execution_count": 8,
      "outputs": []
    },
    {
      "cell_type": "code",
      "source": [
        "print(chat_completion.choices[0].message.model_dump_json(indent=4))"
      ],
      "metadata": {
        "colab": {
          "base_uri": "https://localhost:8080/"
        },
        "id": "0WzRJ5PgFAXc",
        "outputId": "928c1093-b360-4c29-92f2-b9ebdeefbbb2"
      },
      "id": "0WzRJ5PgFAXc",
      "execution_count": 9,
      "outputs": [
        {
          "output_type": "stream",
          "name": "stdout",
          "text": [
            "{\n",
            "    \"content\": null,\n",
            "    \"role\": \"assistant\",\n",
            "    \"function_call\": null,\n",
            "    \"tool_calls\": [\n",
            "        {\n",
            "            \"id\": \"call_Z7ha3Pg1yFDYIw0xSNFfsggz\",\n",
            "            \"function\": {\n",
            "                \"arguments\": \"{\\\"answer\\\": \\\"President Biden nominated Ketanji Brown Jackson to the Supreme Court on January 31, 2022. She is a Circuit Court of Appeals judge and a consensus builder. She has received a broad range of support from the Fraternal Order of Police to former judges appointed by Democrats and Republicans.\\\", \\\"sources\\\": [\\\"https://www.whitehouse.gov/briefing-room/statements-and-releases/2022/01/31/remarks-by-president-biden-announcing-his-nomination-of-ketanji-brown-jackson-to-the-supreme-court/\\\"]}\",\n",
            "                \"name\": \"get_answer_with_sources\"\n",
            "            },\n",
            "            \"type\": \"function\",\n",
            "            \"index\": 0\n",
            "        }\n",
            "    ]\n",
            "}\n"
          ]
        }
      ]
    },
    {
      "cell_type": "code",
      "source": [
        "agent_response = chat_completion.choices[0].message\n",
        "\n",
        "messages.append(\n",
        "    {\n",
        "        \"role\": agent_response.role,\n",
        "        \"content\": \"\",\n",
        "        \"tool_calls\": [\n",
        "            tool_call.model_dump()\n",
        "            for tool_call in agent_response.tool_calls\n",
        "        ]\n",
        "    }\n",
        ")"
      ],
      "metadata": {
        "id": "bF-o87oxD05g"
      },
      "id": "bF-o87oxD05g",
      "execution_count": 10,
      "outputs": []
    },
    {
      "cell_type": "markdown",
      "source": [
        "## Using Function Calling in Conversation\n",
        "\n",
        "Our model currently support multi-turn conversation when using function calling. You can reference previous completions generated by the model to ask more clarifying questions."
      ],
      "metadata": {
        "id": "oC2FSQjDAyL8"
      },
      "id": "oC2FSQjDAyL8"
    },
    {
      "cell_type": "code",
      "source": [
        "messages.append(\n",
        "    {\n",
        "        \"role\": \"user\",\n",
        "        \"content\": \"What did he say about her predecessor?\"\n",
        "    }\n",
        ")\n",
        "next_chat_completion = client.chat.completions.create(\n",
        "    model=model_name,\n",
        "    messages=messages,\n",
        "    tools=tools,\n",
        "    tool_choice=tool_choice,\n",
        "    temperature=0.1\n",
        ")"
      ],
      "metadata": {
        "id": "wYGPiSXfAysM"
      },
      "id": "wYGPiSXfAysM",
      "execution_count": 11,
      "outputs": []
    },
    {
      "cell_type": "code",
      "source": [
        "print(next_chat_completion.choices[0].message.model_dump_json(indent=4))"
      ],
      "metadata": {
        "colab": {
          "base_uri": "https://localhost:8080/"
        },
        "id": "UkWhQ4hPFMc_",
        "outputId": "34b9514d-312d-483c-81d1-83c928cea2ab"
      },
      "id": "UkWhQ4hPFMc_",
      "execution_count": 12,
      "outputs": [
        {
          "output_type": "stream",
          "name": "stdout",
          "text": [
            "{\n",
            "    \"content\": null,\n",
            "    \"role\": \"assistant\",\n",
            "    \"function_call\": null,\n",
            "    \"tool_calls\": [\n",
            "        {\n",
            "            \"id\": \"call_YIkwxMhBMXmospPHVT8Ue1wH\",\n",
            "            \"function\": {\n",
            "                \"arguments\": \"\\\"{\\\\\\\"answer\\\\\\\": \\\\\\\"President Biden said that Justice Breyer's legacy of excellence will be carried on by Ketanji Brown Jackson. Justice Breyer is an Army veteran, Constitutional scholar, and retiring Justice of the United States Supreme Court. He has served on the Supreme Court for 16 years.\\\\\\\", \\\\\\\"sources\\\\\\\": [\\\\\\\"https://www.whitehouse.gov/briefing-room/statements-and-releases/2022/01/31/remarks-by-president-biden-announcing-his-nomination-of-ketanji-brown-jackson-to-the-supreme-court/\\\\\\\"]}\\\"\",\n",
            "                \"name\": \"get_answer_with_sources\"\n",
            "            },\n",
            "            \"type\": \"function\",\n",
            "            \"index\": 0\n",
            "        }\n",
            "    ]\n",
            "}\n"
          ]
        }
      ]
    },
    {
      "cell_type": "markdown",
      "source": [
        "## Modifying the output format to more specific one\n",
        "\n",
        "During the conversation, some questions might need a more flexible response format. We have flexibility to change that during the conversation.\n",
        "\n"
      ],
      "metadata": {
        "id": "EU_U5Bm9GJNa"
      },
      "id": "EU_U5Bm9GJNa"
    },
    {
      "cell_type": "code",
      "source": [
        "tools = [\n",
        "    {\n",
        "        \"type\": \"function\",\n",
        "        \"function\": {\n",
        "            \"name\": \"get_answer_with_countries\",\n",
        "            \"description\": \"Answer questions from the user while quoting sources.\",\n",
        "            \"parameters\": {\n",
        "                \"type\": \"object\",\n",
        "                \"properties\": {\n",
        "                  \"answer\": {\n",
        "                      \"type\": \"string\",\n",
        "                      \"description\": \"Answer to the question that was asked.\"\n",
        "                  },\n",
        "                  \"countries\": {\n",
        "                      \"type\": \"array\",\n",
        "                      \"items\": {\n",
        "                          \"type\": \"string\",\n",
        "                      },\n",
        "                      \"description\": \"countries mentioned in the sources\"\n",
        "                  }\n",
        "                },\n",
        "                \"required\": [\"answer\", \"countries\"],\n",
        "            }\n",
        "        }\n",
        "    }\n",
        "]\n",
        "tool_choice = {\"type\": \"function\", \"function\": {\"name\":\"get_answer_with_countries\"}}"
      ],
      "metadata": {
        "id": "JxsGWpUcIGan"
      },
      "id": "JxsGWpUcIGan",
      "execution_count": 13,
      "outputs": []
    },
    {
      "cell_type": "code",
      "source": [
        "agent_response = next_chat_completion.choices[0].message\n",
        "\n",
        "messages.append(\n",
        "    {\n",
        "        \"role\": agent_response.role,\n",
        "        \"content\": \"\",\n",
        "        \"tool_calls\": [\n",
        "            tool_call.model_dump()\n",
        "            for tool_call in agent_response.tool_calls\n",
        "        ]\n",
        "    }\n",
        ")\n",
        "\n",
        "messages.append(\n",
        "    {\n",
        "        \"role\": \"user\",\n",
        "        \"content\": \"What did he say about human traffickers?\"\n",
        "    }\n",
        ")"
      ],
      "metadata": {
        "id": "g-CYqzXIIUIl"
      },
      "id": "g-CYqzXIIUIl",
      "execution_count": 14,
      "outputs": []
    },
    {
      "cell_type": "code",
      "source": [
        "chat_completion = client.chat.completions.create(\n",
        "    model=model_name,\n",
        "    messages=messages,\n",
        "    tools=tools,\n",
        "    tool_choice=tool_choice,\n",
        "    temperature=0.1\n",
        ")"
      ],
      "metadata": {
        "id": "RylJZ8BiIewx"
      },
      "id": "RylJZ8BiIewx",
      "execution_count": 15,
      "outputs": []
    },
    {
      "cell_type": "code",
      "source": [
        "print(chat_completion.choices[0].message.model_dump_json(indent=4))"
      ],
      "metadata": {
        "colab": {
          "base_uri": "https://localhost:8080/"
        },
        "id": "qi_gNf-qI-CG",
        "outputId": "d72f9c48-c888-44a0-caf9-115315d28192"
      },
      "id": "qi_gNf-qI-CG",
      "execution_count": 16,
      "outputs": [
        {
          "output_type": "stream",
          "name": "stdout",
          "text": [
            "{\n",
            "    \"content\": null,\n",
            "    \"role\": \"assistant\",\n",
            "    \"function_call\": null,\n",
            "    \"tool_calls\": [\n",
            "        {\n",
            "            \"id\": \"call_9iUHkOkoSIpef2HcPvaWHK1x\",\n",
            "            \"function\": {\n",
            "                \"arguments\": \"\\\"{\\\\\\\"answer\\\\\\\": \\\\\\\"President Biden said that we can do all this while keeping lit the torch of liberty that has led generations of immigrants to this land. He also said that we can't let the onslaught of state laws targeting transgender Americans and their families be wrong. We must protect access to health care, prevention, treatment, harm reduction, and recovery. We must get rid of outdated rules that stop doctors from prescribing treatments. And we must stop the flow of illicit drugs by working with state and local law enforcement to go after traffickers.\\\\\\\", \\\\\\\"countries\\\\\\\": [\\\\\\\"United States\\\\\\\"]}\\\"\",\n",
            "                \"name\": \"get_answer_with_countries\"\n",
            "            },\n",
            "            \"type\": \"function\",\n",
            "            \"index\": 0\n",
            "        }\n",
            "    ]\n",
            "}\n"
          ]
        }
      ]
    },
    {
      "cell_type": "code",
      "source": [],
      "metadata": {
        "id": "s9RBCjDHKr2Z"
      },
      "id": "s9RBCjDHKr2Z",
      "execution_count": 16,
      "outputs": []
    }
  ],
  "metadata": {
    "kernelspec": {
      "display_name": "Python 3 (ipykernel)",
      "language": "python",
      "name": "python3"
    },
    "language_info": {
      "codemirror_mode": {
        "name": "ipython",
        "version": 3
      },
      "file_extension": ".py",
      "mimetype": "text/x-python",
      "name": "python",
      "nbconvert_exporter": "python",
      "pygments_lexer": "ipython3",
      "version": "3.11.3"
    },
    "colab": {
      "provenance": []
    }
  },
  "nbformat": 4,
  "nbformat_minor": 5
}