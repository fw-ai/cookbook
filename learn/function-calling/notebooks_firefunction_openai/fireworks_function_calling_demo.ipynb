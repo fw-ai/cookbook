{
 "cells": [
  {
   "cell_type": "markdown",
   "id": "079d5a30",
   "metadata": {},
   "source": [
    "[![Open in Colab](https://colab.research.google.com/assets/colab-badge.svg)](https://colab.research.google.com/drive/1m7Bk1360CFI50y24KBVxRAKYuEU3pbPU?usp=sharing)"
   ]
  },
  {
   "cell_type": "markdown",
   "id": "51fd64a3",
   "metadata": {},
   "source": [
    "# Fireworks Function Calling API - Demo Notebook\n",
    "\n",
    "This notebook includes a complete example where the user asks for Nike's net income for 2022. The model decides to call the `get_financial_data` function, and the user manually executes the function call and provides the response."
   ]
  },
  {
   "cell_type": "markdown",
   "id": "d393e72c",
   "metadata": {},
   "source": [
    "## Setup Instructions\n",
    "\n",
    "### **Step 1: Create a Virtual Environment**\n",
    "\n",
    "To keep your dependencies isolated, create a virtual environment in your terminal:\n",
    "\n",
    "```bash\n",
    "python3 -m venv venv\n",
    "source venv/bin/activate  # On macOS/Linux\n",
    ".\\venv\\Scripts\\activate   # On Windows\n"
   ]
  },
  {
   "cell_type": "markdown",
   "id": "6e5d1d83",
   "metadata": {},
   "source": [
    "### Step 2: Install Required Libraries\n",
    "Install the necessary packages:\n",
    "```bash\n",
    "pip install jupyter openai python-dotenv\n",
    "```"
   ]
  },
  {
   "cell_type": "code",
   "execution_count": 25,
   "id": "1bfdf168",
   "metadata": {},
   "outputs": [],
   "source": [
    "import openai\n",
    "import json"
   ]
  },
  {
   "cell_type": "markdown",
   "id": "a45197f2",
   "metadata": {},
   "source": [
    "### Step 3: Set Up Your API Key\n",
    "You can set your API key in the terminal:\n",
    "- **On macOS/Linux**:\n",
    "  ```bash\n",
    "  export FIREWORKS_API_KEY=<YOUR_FIREWORKS_API_KEY>\n",
    "  ```\n",
    "- **On Windows**:\n",
    "  ```bash\n",
    "  set FIREWORKS_API_KEY=<YOUR_FIREWORKS_API_KEY>"
   ]
  },
  {
   "cell_type": "markdown",
   "id": "191b0a14",
   "metadata": {},
   "source": [
    "Alternatively, create a `.env` file in the project directory with:\n",
    "```\n",
    "FIREWORKS_API_KEY=<YOUR_FIREWORKS_API_KEY>\n",
    "```\n",
    "\n",
    "Load the `.env` file in your Python code with:\n",
    "```python\n",
    "from dotenv import load_dotenv\n",
    "load_dotenv()\n",
    "```"
   ]
  },
  {
   "cell_type": "markdown",
   "id": "68662d6d",
   "metadata": {},
   "source": [
    "### Step 4: Launch Jupyter Notebook\n",
    "Start the Jupyter Notebook server:\n",
    "```bash\n",
    "jupyter notebook\n",
    "```\n",
    "Open this notebook file (`fireworks_demo.ipynb`) and proceed to run the cells."
   ]
  },
  {
   "cell_type": "markdown",
   "id": "b3d1d114",
   "metadata": {},
   "source": [
    "## How Function Calling Works\n",
    "\n",
    "The function-calling process involves the following steps:\n",
    "\n",
    "1. **Define User Query and Tools**: Specify the user query and the available tools using the `messages` and `tools` arguments.\n",
    "2. **Model Decision**: The model determines whether to respond directly or generate a tool call based on the user query.\n",
    "3. **User Executes Tool Call**: If the model generates a tool call, the user must execute the function manually and provide the result back to the model.\n",
    "4. **Response Generation**: The model uses the tool call result to generate a final response.\n",
    "\n",
    "For more details, refer to:\n",
    "- [Fireworks Blog Post on FireFunction-v2](https://fireworks.ai/blog/firefunction-v2-launch-post)\n",
    "- [OpenAI Function Calling Guide](https://platform.openai.com/docs/guides/function-calling)"
   ]
  },
  {
   "cell_type": "markdown",
   "id": "b2131617",
   "metadata": {},
   "source": [
    "# 2. Initialize OpenAI Client"
   ]
  },
  {
   "cell_type": "markdown",
   "id": "c9c8eaad",
   "metadata": {},
   "source": [
    "The Fireworks API client is initialized using the base URL and the API key."
   ]
  },
  {
   "cell_type": "code",
   "execution_count": 26,
   "id": "6e1f22a8",
   "metadata": {},
   "outputs": [],
   "source": [
    "client = openai.OpenAI(\n",
    "    base_url = \"https://api.fireworks.ai/inference/v1\",\n",
    "    api_key = \"<YOUR_FIREWORKS_API_KEY>\"\n",
    ")"
   ]
  },
  {
   "cell_type": "markdown",
   "id": "125d160a",
   "metadata": {},
   "source": [
    "# 3. Define User and System Messages"
   ]
  },
  {
   "cell_type": "markdown",
   "id": "3ba77a27",
   "metadata": {},
   "source": [
    "- The system message sets the behavior of the assistant.\n",
    "- The user message asks about Nike's net income for the year 2022."
   ]
  },
  {
   "cell_type": "code",
   "execution_count": 27,
   "id": "0f6e951e",
   "metadata": {},
   "outputs": [],
   "source": [
    "messages = [\n",
    "    {\"role\": \"system\", \"content\": f\"You are a helpful assistant with access to functions. Use them if required.\"},\n",
    "    {\"role\": \"user\", \"content\": \"What are Nike's net income in 2022?\"}\n",
    "]"
   ]
  },
  {
   "cell_type": "markdown",
   "id": "d93b8272",
   "metadata": {},
   "source": [
    "# 4. Define Available Tools (Function Metadata)"
   ]
  },
  {
   "cell_type": "markdown",
   "id": "a7c08391",
   "metadata": {},
   "source": [
    "This defines a get_financial_data function with the required parameters (metric, financial_year, and company). This function is accessible to the model, which can invoke it if needed."
   ]
  },
  {
   "cell_type": "code",
   "execution_count": 28,
   "id": "eb849e97",
   "metadata": {},
   "outputs": [],
   "source": [
    "tools = [\n",
    "    {\n",
    "        \"type\": \"function\",\n",
    "        \"function\": {\n",
    "            # name of the function \n",
    "            \"name\": \"get_financial_data\",\n",
    "            # a good, detailed description for what the function is supposed to do\n",
    "            \"description\": \"Get financial data for a company given the metric and year.\",\n",
    "            # a well defined json schema: https://json-schema.org/learn/getting-started-step-by-step#define\n",
    "            \"parameters\": {\n",
    "                # for OpenAI compatibility, we always declare a top level object for the parameters of the function\n",
    "                \"type\": \"object\",\n",
    "                # the properties for the object would be any arguments you want to provide to the function\n",
    "                \"properties\": {\n",
    "                    \"metric\": {\n",
    "                        # JSON Schema supports string, number, integer, object, array, boolean and null\n",
    "                        # for more information, please check out https://json-schema.org/understanding-json-schema/reference/type\n",
    "                        \"type\": \"string\",\n",
    "                        # You can restrict the space of possible values in an JSON Schema\n",
    "                        # you can check out https://json-schema.org/understanding-json-schema/reference/enum for more examples on how enum works\n",
    "                        \"enum\": [\"net_income\", \"revenue\", \"ebdita\"],\n",
    "                    },\n",
    "                    \"financial_year\": {\n",
    "                        \"type\": \"integer\", \n",
    "                        # If the model does not understand how it is supposed to fill the field, a good description goes a long way \n",
    "                        \"description\": \"Year for which we want to get financial data.\"\n",
    "                    },\n",
    "                    \"company\": {\n",
    "                        \"type\": \"string\",\n",
    "                        \"description\": \"Name of the company for which we want to get financial data.\"\n",
    "                    }\n",
    "                },\n",
    "                # You can specify which of the properties from above are required\n",
    "                # for more info on `required` field, please check https://json-schema.org/understanding-json-schema/reference/object#required\n",
    "                \"required\": [\"metric\", \"financial_year\", \"company\"],\n",
    "            },\n",
    "        },\n",
    "    }\n",
    "]"
   ]
  },
  {
   "cell_type": "markdown",
   "id": "8318b579",
   "metadata": {},
   "source": [
    "# 5. Generate a Chat Completion"
   ]
  },
  {
   "cell_type": "markdown",
   "id": "07101276",
   "metadata": {},
   "source": [
    "- The model is called with the defined messages and tools.\n",
    "- The temperature parameter controls the randomness of the response (0.1 makes it deterministic).\n",
    "- The response will likely include a function call if the model decides the question requires invoking a tool."
   ]
  },
  {
   "cell_type": "code",
   "execution_count": 29,
   "id": "6373acd1",
   "metadata": {},
   "outputs": [],
   "source": [
    "chat_completion = client.chat.completions.create(\n",
    "    model=\"accounts/fireworks/models/firefunction-v2\",\n",
    "    messages=messages,\n",
    "    tools=tools,\n",
    "    temperature=0.1\n",
    ")"
   ]
  },
  {
   "cell_type": "markdown",
   "id": "5c39c60e",
   "metadata": {},
   "source": [
    "# 6. Inspect the Model's Response"
   ]
  },
  {
   "cell_type": "markdown",
   "id": "abc3ad1f",
   "metadata": {},
   "source": [
    "In our case, the model decides to invoke the tool get_financial_data with some specific set of arguments. Note: The model itself won’t invoke the tool. It just specifies the argument. When the model issues a function call - the completion reason would be set to tool_calls. The API caller is responsible for parsing the function name and arguments supplied by the model & invoking the appropriate tool."
   ]
  },
  {
   "cell_type": "code",
   "execution_count": 30,
   "id": "2c705bf5",
   "metadata": {},
   "outputs": [
    {
     "name": "stdout",
     "output_type": "stream",
     "text": [
      "{\n",
      "    \"content\": null,\n",
      "    \"refusal\": null,\n",
      "    \"role\": \"assistant\",\n",
      "    \"function_call\": null,\n",
      "    \"tool_calls\": [\n",
      "        {\n",
      "            \"id\": \"call_rRqaGO18caS3QXwJR5mW2pQx\",\n",
      "            \"function\": {\n",
      "                \"arguments\": \"{\\\"metric\\\": \\\"net_income\\\", \\\"financial_year\\\": 2022, \\\"company\\\": \\\"Nike\\\"}\",\n",
      "                \"name\": \"get_financial_data\"\n",
      "            },\n",
      "            \"type\": \"function\",\n",
      "            \"index\": 0\n",
      "        }\n",
      "    ]\n",
      "}\n"
     ]
    }
   ],
   "source": [
    "print(chat_completion.choices[0].message.model_dump_json(indent=4))"
   ]
  },
  {
   "cell_type": "code",
   "execution_count": 31,
   "id": "3b8f1629",
   "metadata": {},
   "outputs": [
    {
     "name": "stdout",
     "output_type": "stream",
     "text": [
      "metric='net_income' financial_year=2022 company='Nike'\n",
      "{'net_income': 6046000000}\n"
     ]
    }
   ],
   "source": [
    "def get_financial_data(metric: str, financial_year: int, company: str):\n",
    "    print(f\"{metric=} {financial_year=} {company=}\")\n",
    "    if metric == \"net_income\" and financial_year == 2022 and company == \"Nike\":\n",
    "        return {\"net_income\": 6_046_000_000}\n",
    "    else:\n",
    "        raise NotImplementedError()\n",
    "\n",
    "function_call = chat_completion.choices[0].message.tool_calls[0].function\n",
    "tool_response = locals()[function_call.name](**json.loads(function_call.arguments))\n",
    "print(tool_response)"
   ]
  },
  {
   "cell_type": "markdown",
   "id": "cc023269",
   "metadata": {},
   "source": [
    "The API caller obtains the response from the tool invocation & passes its response back to the model for generating a response."
   ]
  },
  {
   "cell_type": "code",
   "execution_count": 32,
   "id": "2db51424",
   "metadata": {},
   "outputs": [],
   "source": [
    "agent_response = chat_completion.choices[0].message"
   ]
  },
  {
   "cell_type": "code",
   "execution_count": 33,
   "id": "81a6b85b",
   "metadata": {},
   "outputs": [],
   "source": [
    "# Append the response from the agent\n",
    "messages.append(\n",
    "    {\n",
    "        \"role\": agent_response.role, \n",
    "        \"content\": \"\",\n",
    "        \"tool_calls\": [\n",
    "            tool_call.model_dump()\n",
    "            for tool_call in chat_completion.choices[0].message.tool_calls\n",
    "        ]\n",
    "    }\n",
    ")"
   ]
  },
  {
   "cell_type": "code",
   "execution_count": 34,
   "id": "a627e662",
   "metadata": {},
   "outputs": [],
   "source": [
    "# Append the response from the tool \n",
    "messages.append(\n",
    "    {\n",
    "        \"role\": \"tool\",\n",
    "        \"content\": json.dumps(tool_response)\n",
    "    }\n",
    ")"
   ]
  },
  {
   "cell_type": "code",
   "execution_count": 35,
   "id": "04a61324",
   "metadata": {},
   "outputs": [],
   "source": [
    "next_chat_completion = client.chat.completions.create(\n",
    "    model=\"accounts/fireworks/models/firefunction-v2\",\n",
    "    messages=messages,\n",
    "    tools=tools,\n",
    "    temperature=0.1\n",
    ")"
   ]
  },
  {
   "cell_type": "code",
   "execution_count": 36,
   "id": "cae8fcfd",
   "metadata": {},
   "outputs": [
    {
     "name": "stdout",
     "output_type": "stream",
     "text": [
      "Nike's net income in 2022 was 6.046 billion dollars.\n"
     ]
    }
   ],
   "source": [
    "print(next_chat_completion.choices[0].message.content)"
   ]
  }
 ],
 "metadata": {
  "kernelspec": {
   "display_name": "Python 3 (ipykernel)",
   "language": "python",
   "name": "python3"
  },
  "language_info": {
   "codemirror_mode": {
    "name": "ipython",
    "version": 3
   },
   "file_extension": ".py",
   "mimetype": "text/x-python",
   "name": "python",
   "nbconvert_exporter": "python",
   "pygments_lexer": "ipython3",
   "version": "3.12.6"
  }
 },
 "nbformat": 4,
 "nbformat_minor": 5
}
