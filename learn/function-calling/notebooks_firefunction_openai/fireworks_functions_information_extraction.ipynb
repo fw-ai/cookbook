{
  "cells": [
    {
      "cell_type": "markdown",
      "metadata": {
        "id": "5RMNS5ftnogb"
      },
      "source": [
        "[![Open in Colab](https://colab.research.google.com/assets/colab-badge.svg)](https://colab.research.google.com/drive/1SI6jz66k122vv641e8wDDI0Ujh4cwlUy?usp=sharing)"
      ]
    },
    {
      "cell_type": "markdown",
      "metadata": {
        "id": "8Ksv005GbN2w"
      },
      "source": [
        "# Summarize Anything - Information Extraction via [Fireworks Function Calling](https://readme.fireworks.ai/docs/function-calling)\n",
        "\n",
        "This is inspired by awesome colab notebook by [Deepset](https://colab.research.google.com/github/anakin87/notebooks/blob/main/information_extraction_via_llms.ipynb). Check out there OSS LLM Orchestration framework [haystack](https://haystack.deepset.ai/).\n",
        "\n",
        "In this experiment, we will use function calling ability of [Fireworks Function Calling](https://readme.fireworks.ai/docs/function-calling) model to generate structured information from unstructured data.\n",
        "\n",
        "🎯 Goal: create an application that, given a text (or URL) and a specific structure provided by the user, extracts information from the source.\n",
        "\n",
        "\n",
        "The \"**function calling**\" capability first launched by [OpenAI](https://platform.openai.com/docs/guides/function-calling) unlocks this task: the user can describe a structure, by defining a fake function with all its typed and specific parameters. The LLM will prepare the data in this specific form and send it back to the user.\n",
        "\n",
        "**Fireworks Function Calling**\n",
        "\n",
        "Fireworks released a high quality function calling model which is capable of handling long tool context, multi turn conversations & interleaving tool invocations ith regular conversation. We are going to use this model today as our LLM to power our app.\n",
        "\n"
      ]
    },
    {
      "cell_type": "markdown",
      "metadata": {
        "colab_type": "toc",
        "id": "w6TPh-3lOTDP"
      },
      "source": [
        ">[Summarize Anything - Information Extraction via Fireworks Function Calling](#scrollTo=8Ksv005GbN2w)\n",
        "\n",
        ">>[Introduction](#scrollTo=cp4hJ34JivkB)\n",
        "\n",
        ">[Document Retrieval & Clean Up](#scrollTo=buM6rGqMwLZ4)\n",
        "\n",
        ">>>[Let's learn about Capybara](#scrollTo=0kVJ8IfSI-Dx)\n",
        "\n",
        ">>>[How about Yucatan Deer](#scrollTo=Tzz1LSS-JBk4)\n",
        "\n",
        ">>>[Something more massive - African Elephant](#scrollTo=B0M4NEm9JMAw)\n",
        "\n",
        ">>[Let's make example fun - News Summarization](#scrollTo=x7Y8_xmxDOKx)\n",
        "\n"
      ]
    },
    {
      "cell_type": "markdown",
      "metadata": {},
      "source": [
        "# 🚀 Running This Notebook\n",
        "\n",
        "This notebook is designed to be run in **Google Colab** for the best experience. If you prefer to run it locally, please follow the setup instructions below.\n",
        "\n",
        "## 🛠️ Running Locally:\n",
        "\n",
        "1. **Set up a virtual environment:**\n",
        "   ```bash\n",
        "   python3 -m venv venv\n",
        "   source venv/bin/activate  # On macOS/Linux\n",
        "   .\\venv\\Scripts\\activate  # On Windows\n",
        "   ```\n",
        "\n",
        "2. **Install the required libraries:**\n",
        "   ```bash\n",
        "   pip install openai torch requests beautifulsoup4 ipython\n",
        "   ```\n",
        "\n",
        "3. **Configure your API key:**\n",
        "   Ensure you have a Fireworks API key and set it as an environment variable:\n",
        "   ```bash\n",
        "   export FW_API_KEY=your_api_key  # On macOS/Linux\n",
        "   set FW_API_KEY=your_api_key  # On Windows\n",
        "   ```\n",
        "\n",
        "4. **Launch the Jupyter Notebook:**\n",
        "   ```bash\n",
        "   jupyter notebook\n",
        "   ```\n",
        "\n",
        "5. **Open the notebook file** and proceed with the cells as usual.\n",
        "\n",
        "> **Note:** If you encounter any issues with dependencies, make sure your Python version is 3.8 or higher."
      ]
    },
    {
      "cell_type": "markdown",
      "metadata": {
        "id": "CuitKPhdd5Ze"
      },
      "source": [
        "## Setup\n",
        "Let's install the dependencies needed for the demo first and import any dependencies needed."
      ]
    },
    {
      "cell_type": "code",
      "execution_count": 13,
      "metadata": {
        "id": "AqJAIhbKl8Vl"
      },
      "outputs": [
        {
          "name": "stdout",
          "output_type": "stream",
          "text": [
            "Requirement already satisfied: openai in /Library/Frameworks/Python.framework/Versions/3.12/lib/python3.12/site-packages (1.47.0)\n",
            "Requirement already satisfied: bs4 in /Library/Frameworks/Python.framework/Versions/3.12/lib/python3.12/site-packages (0.0.2)\n",
            "Requirement already satisfied: anyio<5,>=3.5.0 in /Library/Frameworks/Python.framework/Versions/3.12/lib/python3.12/site-packages (from openai) (4.6.0)\n",
            "Requirement already satisfied: distro<2,>=1.7.0 in /Library/Frameworks/Python.framework/Versions/3.12/lib/python3.12/site-packages (from openai) (1.9.0)\n",
            "Requirement already satisfied: httpx<1,>=0.23.0 in /Library/Frameworks/Python.framework/Versions/3.12/lib/python3.12/site-packages (from openai) (0.27.2)\n",
            "Requirement already satisfied: jiter<1,>=0.4.0 in /Library/Frameworks/Python.framework/Versions/3.12/lib/python3.12/site-packages (from openai) (0.4.2)\n",
            "Requirement already satisfied: pydantic<3,>=1.9.0 in /Library/Frameworks/Python.framework/Versions/3.12/lib/python3.12/site-packages (from openai) (2.9.2)\n",
            "Requirement already satisfied: sniffio in /Library/Frameworks/Python.framework/Versions/3.12/lib/python3.12/site-packages (from openai) (1.3.1)\n",
            "Requirement already satisfied: tqdm>4 in /Library/Frameworks/Python.framework/Versions/3.12/lib/python3.12/site-packages (from openai) (4.66.5)\n",
            "Requirement already satisfied: typing-extensions<5,>=4.11 in /Library/Frameworks/Python.framework/Versions/3.12/lib/python3.12/site-packages (from openai) (4.12.2)\n",
            "Requirement already satisfied: beautifulsoup4 in /Library/Frameworks/Python.framework/Versions/3.12/lib/python3.12/site-packages (from bs4) (4.12.3)\n",
            "Requirement already satisfied: idna>=2.8 in /Library/Frameworks/Python.framework/Versions/3.12/lib/python3.12/site-packages (from anyio<5,>=3.5.0->openai) (3.10)\n",
            "Requirement already satisfied: certifi in /Library/Frameworks/Python.framework/Versions/3.12/lib/python3.12/site-packages (from httpx<1,>=0.23.0->openai) (2024.8.30)\n",
            "Requirement already satisfied: httpcore==1.* in /Library/Frameworks/Python.framework/Versions/3.12/lib/python3.12/site-packages (from httpx<1,>=0.23.0->openai) (1.0.5)\n",
            "Requirement already satisfied: h11<0.15,>=0.13 in /Library/Frameworks/Python.framework/Versions/3.12/lib/python3.12/site-packages (from httpcore==1.*->httpx<1,>=0.23.0->openai) (0.14.0)\n",
            "Requirement already satisfied: annotated-types>=0.6.0 in /Library/Frameworks/Python.framework/Versions/3.12/lib/python3.12/site-packages (from pydantic<3,>=1.9.0->openai) (0.7.0)\n",
            "Requirement already satisfied: pydantic-core==2.23.4 in /Library/Frameworks/Python.framework/Versions/3.12/lib/python3.12/site-packages (from pydantic<3,>=1.9.0->openai) (2.23.4)\n",
            "Requirement already satisfied: soupsieve>1.2 in /Library/Frameworks/Python.framework/Versions/3.12/lib/python3.12/site-packages (from beautifulsoup4->bs4) (2.6)\n",
            "\n",
            "\u001b[1m[\u001b[0m\u001b[34;49mnotice\u001b[0m\u001b[1;39;49m]\u001b[0m\u001b[39;49m A new release of pip is available: \u001b[0m\u001b[31;49m24.2\u001b[0m\u001b[39;49m -> \u001b[0m\u001b[32;49m24.3.1\u001b[0m\n",
            "\u001b[1m[\u001b[0m\u001b[34;49mnotice\u001b[0m\u001b[1;39;49m]\u001b[0m\u001b[39;49m To update, run: \u001b[0m\u001b[32;49mpip3 install --upgrade pip\u001b[0m\n"
          ]
        }
      ],
      "source": [
        "!pip3 install openai bs4"
      ]
    },
    {
      "cell_type": "code",
      "execution_count": 14,
      "metadata": {
        "id": "-_V9RbxafpdY"
      },
      "outputs": [],
      "source": [
        "import torch\n",
        "import json\n",
        "from typing import Dict\n",
        "import os\n",
        "import openai\n",
        "from IPython.display import HTML, display"
      ]
    },
    {
      "cell_type": "markdown",
      "metadata": {
        "id": "pLVxmW58eIIw"
      },
      "source": [
        "## Setup your API Key\n",
        "\n",
        "In order to use the Fireworks AI function calling model, you must first obtain Fireworks API Keys. If you don't already have one, you can one by following the instructions [here](https://readme.fireworks.ai/docs/quickstart)."
      ]
    },
    {
      "cell_type": "code",
      "execution_count": 15,
      "metadata": {
        "id": "ZV8JGu4dtePQ"
      },
      "outputs": [],
      "source": [
        "model_name = \"accounts/fireworks/models/firefunction-v2\"\n",
        "client = client = openai.OpenAI(\n",
        "    base_url = \"https://api.fireworks.ai/inference/v1\",\n",
        "    api_key = \"YOUR_FIREWORKS_API_KEY\",\n",
        ")"
      ]
    },
    {
      "cell_type": "markdown",
      "metadata": {
        "id": "cp4hJ34JivkB"
      },
      "source": [
        "## Introduction\n",
        "\n",
        "The [documentation](https://readme.fireworks.ai/docs/function-calling) for FW function calling details the API we can use to specify the list of tools/functions available to the model. We will use the described API to test out the structured response usecase.\n",
        "\n",
        "Before we can begin, let's give the function calling model a go with a simple toy example and examine it's output."
      ]
    },
    {
      "cell_type": "code",
      "execution_count": 16,
      "metadata": {
        "id": "MdU98plyfdZ1"
      },
      "outputs": [],
      "source": [
        "tools = [\n",
        "    {\n",
        "        \"type\": \"function\",\n",
        "        \"function\": {\n",
        "            \"name\": \"uber.ride\",\n",
        "            \"description\": \"Find a suitable ride for customers given the location, type of ride, and the amount of time the customer is willing to wait.\",\n",
        "            \"parameters\": {\n",
        "                \"type\": \"object\",\n",
        "                \"properties\": {\n",
        "                    \"loc\": {\n",
        "                        \"type\": \"string\",\n",
        "                        \"description\": \"Location of the starting place of the Uber ride.\"\n",
        "                    },\n",
        "                    \"type\": {\n",
        "                        \"type\": \"string\",\n",
        "                        \"enum\": [\"plus\", \"comfort\", \"black\"],\n",
        "                        \"description\": \"Type of Uber ride the user is ordering (e.g., plus, comfort, or black).\"\n",
        "                    },\n",
        "                    \"time\": {\n",
        "                        \"type\": \"string\",\n",
        "                        \"description\": \"The amount of time in minutes the customer is willing to wait.\"\n",
        "                    }\n",
        "                },\n",
        "                \"required\": [\"loc\", \"type\", \"time\"]\n",
        "            }\n",
        "        }\n",
        "    }\n",
        "]\n",
        "\n",
        "tool_choice = \"auto\"\n",
        "user_prompt = 'Call me an Uber ride type \"Plus\" in Berkeley at zipcode 94704 in 10 minutes.'\n",
        "\n",
        "messages = [\n",
        "    {\n",
        "        \"role\": \"system\",\n",
        "        \"content\": \"You are a helpful assistant with access to tools. Use them wisely and don't imagine parameter values.\",\n",
        "    },\n",
        "    {\n",
        "        \"role\": \"user\",\n",
        "        \"content\": user_prompt,\n",
        "    }\n",
        "]\n"
      ]
    },
    {
      "cell_type": "code",
      "execution_count": 17,
      "metadata": {
        "id": "iPIqKQe8j2wX"
      },
      "outputs": [],
      "source": [
        "chat_completion = client.chat.completions.create(\n",
        "    model=model_name,\n",
        "    messages=messages,\n",
        "    tools=tools,\n",
        "    tool_choice=tool_choice,\n",
        "    temperature=0.1\n",
        ")"
      ]
    },
    {
      "cell_type": "code",
      "execution_count": 18,
      "metadata": {
        "colab": {
          "base_uri": "https://localhost:8080/"
        },
        "id": "UXjQHjr_ut2o",
        "outputId": "5b9cb849-9721-4777-ecc0-259d68172c5f"
      },
      "outputs": [
        {
          "name": "stdout",
          "output_type": "stream",
          "text": [
            "{\n",
            "    \"content\": null,\n",
            "    \"refusal\": null,\n",
            "    \"role\": \"assistant\",\n",
            "    \"function_call\": null,\n",
            "    \"tool_calls\": [\n",
            "        {\n",
            "            \"id\": \"call_IU1yyD8YCD4PLpwdAdnHlM8D\",\n",
            "            \"function\": {\n",
            "                \"arguments\": \"{\\\"loc\\\": \\\"Berkeley, 94704\\\", \\\"type\\\": \\\"plus\\\", \\\"time\\\": \\\"10\\\"}\",\n",
            "                \"name\": \"uber.ride\"\n",
            "            },\n",
            "            \"type\": \"function\",\n",
            "            \"index\": 0\n",
            "        }\n",
            "    ]\n",
            "}\n"
          ]
        }
      ],
      "source": [
        "print(chat_completion.choices[0].message.model_dump_json(indent=4))"
      ]
    },
    {
      "cell_type": "markdown",
      "metadata": {
        "id": "4zvaVXFcmy2v"
      },
      "source": [
        "The model outputs the function that should be called along with arguments under the `tool_calls` field. This field contains the arguments to be used for calling the function as JSON Schema and the `name` field contains the name of the function to be called.\n",
        "\n",
        "\n",
        "The output demonstrates a sample input & output to function calling model. All good! ✅"
      ]
    },
    {
      "cell_type": "markdown",
      "metadata": {
        "id": "buM6rGqMwLZ4"
      },
      "source": [
        "## Document Retrieval & Clean Up\n",
        "\n",
        "Before we can get started with extracting the right set of information. We need to first obtaint the document given a url & then clean it up. For cleaning up HTML, we will use [BeautifulSoup](https://beautiful-soup-4.readthedocs.io/en/latest/)."
      ]
    },
    {
      "cell_type": "code",
      "execution_count": 19,
      "metadata": {
        "id": "I944NYapyJJO"
      },
      "outputs": [],
      "source": [
        "import requests\n",
        "from bs4 import BeautifulSoup"
      ]
    },
    {
      "cell_type": "code",
      "execution_count": 20,
      "metadata": {
        "id": "tqo8NjDLyMnA"
      },
      "outputs": [],
      "source": [
        "url = \"https://www.rainforest-alliance.org/species/capybara/\"\n",
        "\n",
        "# Page content from Website URL\n",
        "page = requests.get(url)\n",
        "\n",
        "# Function to remove tags\n",
        "def remove_tags(html):\n",
        "\n",
        "    # parse html content\n",
        "    soup = BeautifulSoup(html, \"html.parser\")\n",
        "\n",
        "    for data in soup(['style', 'script']):\n",
        "        # Remove tags\n",
        "        data.decompose()\n",
        "    # return data by retrieving the tag content\n",
        "    return ' '.join(soup.stripped_strings)\n",
        "\n",
        "\n",
        "# Print the extracted data\n",
        "cleaned_content = remove_tags(page.content)"
      ]
    },
    {
      "cell_type": "markdown",
      "metadata": {
        "id": "sGHBcM90gNTH"
      },
      "source": [
        "## Setup Information Extraction using Function Calling\n",
        "\n",
        "After we have obtained clean data from a html page given a url, we are going to send this data to function calling model. Along with sending the cleaned html, we are also going to send it the schema in which we expect the model to produce output. This schema is sent under the tool specification of chat completion call.\n",
        "\n",
        "For this notebook, we use the `info_tools` schema to extract information from species info pages of [Rain Forest Alliance](https://www.rainforest-alliance.org/). To make the task harder - we include another schema for extracting new information from news reports. There are several attributes about the animal we want the model to extract from the web page e.g. `weight`, `habitat`, `diet` etc. Additionally, we specify some attributes as `required` forcing the model to always output this information regardless of the input. Given, we would be supplying the model with species information pages, we expect this information to be always present.\n",
        "\n",
        "**NOTE** We set the temperature to 0.0 to get reliable and consistent output across calls. In this particular example, we want the model to produce the right answer rather than creative answer."
      ]
    },
    {
      "cell_type": "code",
      "execution_count": 21,
      "metadata": {
        "id": "mbNg4iJV_Nru"
      },
      "outputs": [],
      "source": [
        "from typing import Dict, List, Any\n",
        "\n",
        "def extract_data(tools: List[Dict[str, Any]], url: str) -> str:\n",
        "  tool_choice = {\n",
        "      \"type\": \"function\"\n",
        "  }\n",
        "  page = requests.get(url)\n",
        "  cleaned_content = remove_tags(page.content)\n",
        "\n",
        "  messages = [\n",
        "      {\n",
        "          \"role\": \"system\",\n",
        "          \"content\": f\"You are a helpful assistant with access to tools. Use them wisely and don't imageine parameter values.\"\n",
        "      },\n",
        "      {\n",
        "          \"role\": \"user\",\n",
        "          \"content\": f\"Extract data from the following text. START TEXT {cleaned_content} END TEXT.\"\n",
        "      }\n",
        "  ]\n",
        "\n",
        "  chat_completion = client.chat.completions.create(\n",
        "    model=model_name,\n",
        "    messages=messages,\n",
        "    tools=tools,\n",
        "    tool_choice=tool_choice,\n",
        "    temperature=0.0\n",
        "  )\n",
        "\n",
        "  def val_to_color(val):\n",
        "    \"\"\"\n",
        "    Helper function to return a color based on the type/value of a variable\n",
        "    \"\"\"\n",
        "    if isinstance(val, list):\n",
        "      return \"#FFFEE0\"\n",
        "    if val is True:\n",
        "      return \"#90EE90\"\n",
        "    if val is False:\n",
        "      return \"#FFCCCB\"\n",
        "    return \"\"\n",
        "\n",
        "  args = json.loads(chat_completion.choices[0].message.tool_calls[0].function.arguments)\n",
        "\n",
        "  # Convert data to HTML format\n",
        "  html_content = '<div style=\"border: 1px solid #ccc; padding: 10px; border-radius: 5px; background-color: #f9f9f9;\">'\n",
        "  for key, value in args.items():\n",
        "      html_content += f'<p><span style=\"font-family: Cursive; font-size: 30px;\">{key}:</span>'\n",
        "      html_content += f'&emsp;<span style=\"background-color:{val_to_color(value)}; font-family: Cursive; font-size: 20px;\">{value}</span></p>'\n",
        "  html_content += '</div>'\n",
        "\n",
        "  return {\"html_visualization\": html_content}"
      ]
    },
    {
      "cell_type": "markdown",
      "metadata": {
        "id": "Pq20pDl3O_5A"
      },
      "source": [
        "### Tool Schema\n",
        "\n",
        "Below we specify 2 kinds of schema for information extraction. We want the model to decide which schema best fits the situation and extract information accordingly. First we will try extracting information for animal from given text and then we'll try news articles."
      ]
    },
    {
      "cell_type": "code",
      "execution_count": 22,
      "metadata": {
        "id": "979C7nJxD5Qt"
      },
      "outputs": [],
      "source": [
        "info_tools = [\n",
        "{\n",
        "  \"type\": \"function\",\n",
        "  \"function\": {\n",
        "      \"name\": \"extract_animal_info\",\n",
        "      \"description\": \"Extract animal info from the text\",\n",
        "      \"parameters\": {\n",
        "          \"type\": \"object\",\n",
        "          \"properties\": {\n",
        "              \"about_animals\": {\n",
        "                  \"description\": \"Is the article about animals?\",\n",
        "                  \"type\": \"boolean\",\n",
        "              },\n",
        "              \"about_ai\": {\n",
        "                  \"description\": \"Is the article about artificial intelligence?\",\n",
        "                  \"type\": \"boolean\",\n",
        "              },\n",
        "              \"weight\": {\n",
        "                  \"description\": \"the weight of the animal in lbs\",\n",
        "                  \"type\": \"integer\",\n",
        "              },\n",
        "              \"habitat\": {\n",
        "                  \"description\": \"List of places where the animal lives\",\n",
        "                  \"type\": \"array\",\n",
        "                  \"items\": {\"type\": \"string\"},\n",
        "              },\n",
        "              \"diet\": {\n",
        "                  \"description\": \"What does the animal eat?\",\n",
        "                  \"type\": \"array\",\n",
        "                  \"items\": {\"type\": \"string\"},\n",
        "              },\n",
        "              \"predators\": {\n",
        "                  \"description\": \"What are the animals that threaten them?\",\n",
        "                  \"type\": \"array\",\n",
        "                  \"items\": {\"type\": \"string\"},\n",
        "              },\n",
        "          },\n",
        "          \"required\": [\"about_animals\", \"about_ai\", \"weight\", \"habitat\", \"diet\", \"predators\"],\n",
        "      }\n",
        "  }\n",
        "},\n",
        "{\n",
        "  \"type\": \"function\",\n",
        "  \"function\": {\n",
        "      \"name\": \"extract_news_info\",\n",
        "      \"description\": \"Extract news info from the text\",\n",
        "      \"parameters\": {\n",
        "          \"type\": \"object\",\n",
        "          \"properties\": {\n",
        "              \"about_ai\": {\n",
        "                  \"description\": \"Is the article about artificial intelligence?\",\n",
        "                  \"type\": \"boolean\",\n",
        "              },\n",
        "              \"company_name\": {\n",
        "                  \"description\": \"The name of the company which is being referenced in document\",\n",
        "                  \"type\": \"string\",\n",
        "              },\n",
        "              \"valuation\": {\n",
        "                  \"description\": \"Valuation of the company which is being referenced in document\",\n",
        "                  \"type\": \"string\",\n",
        "              },\n",
        "              \"investors\": {\n",
        "                  \"description\": \"investors in the company being referenced in document\",\n",
        "                  \"type\": \"array\",\n",
        "                  \"items\": {\"type\": \"string\"},\n",
        "              },\n",
        "              \"competitors\": {\n",
        "                  \"description\": \"competitors of the company being referenced in document\",\n",
        "                  \"type\": \"array\",\n",
        "                  \"items\": {\"type\": \"string\"},\n",
        "              },\n",
        "          },\n",
        "          \"required\": [\"about_ai\", \"company_name\", \"valuation\", \"investors\", \"competitors\"],\n",
        "      }\n",
        "  }\n",
        "}\n",
        "]"
      ]
    },
    {
      "cell_type": "markdown",
      "metadata": {
        "id": "0kVJ8IfSI-Dx"
      },
      "source": [
        "### Let's learn about Capybara\n",
        "\n",
        "Given the schema, we expect the model to produce some basic information like `weight`, `habitat`, `diet` & `predators` for Capybara. You can visit the [webpage](https://www.rainforest-alliance.org/species/capybara/) to see the source of the truth."
      ]
    },
    {
      "cell_type": "code",
      "execution_count": 23,
      "metadata": {
        "colab": {
          "base_uri": "https://localhost:8080/",
          "height": 304
        },
        "id": "Q5ZXOdLrA-a-",
        "outputId": "73c67b69-1e8b-4e17-ec11-e38cf50fa482"
      },
      "outputs": [
        {
          "data": {
            "text/html": [
              "<div style=\"border: 1px solid #ccc; padding: 10px; border-radius: 5px; background-color: #f9f9f9;\"><p><span style=\"font-family: Cursive; font-size: 30px;\">about_animals:</span>&emsp;<span style=\"background-color:#90EE90; font-family: Cursive; font-size: 20px;\">True</span></p><p><span style=\"font-family: Cursive; font-size: 30px;\">about_ai:</span>&emsp;<span style=\"background-color:#FFCCCB; font-family: Cursive; font-size: 20px;\">False</span></p><p><span style=\"font-family: Cursive; font-size: 30px;\">weight:</span>&emsp;<span style=\"background-color:; font-family: Cursive; font-size: 20px;\">100</span></p><p><span style=\"font-family: Cursive; font-size: 30px;\">habitat:</span>&emsp;<span style=\"background-color:#FFFEE0; font-family: Cursive; font-size: 20px;\">['Panama', 'Colombia', 'Venezuela', 'Guyana', 'Peru', 'Brazil', 'Paraguay', 'Northeast Argentina', 'Uruguay']</span></p><p><span style=\"font-family: Cursive; font-size: 30px;\">diet:</span>&emsp;<span style=\"background-color:#FFFEE0; font-family: Cursive; font-size: 20px;\">['vegetation', 'grains', 'melons', 'reeds', 'squashes']</span></p><p><span style=\"font-family: Cursive; font-size: 30px;\">predators:</span>&emsp;<span style=\"background-color:#FFFEE0; font-family: Cursive; font-size: 20px;\">['jaguars', 'caimans', 'anacondas', 'ocelots', 'harpy eagles']</span></p></div>"
            ],
            "text/plain": [
              "<IPython.core.display.HTML object>"
            ]
          },
          "metadata": {},
          "output_type": "display_data"
        }
      ],
      "source": [
        "display(HTML(extract_data(info_tools, url=\"https://www.rainforest-alliance.org/species/capybara/\")['html_visualization']))"
      ]
    },
    {
      "cell_type": "markdown",
      "metadata": {
        "id": "iiAq5zoSiy9C"
      },
      "source": [
        "You can see the model correctly identifies the correct weight - `100 lbs` for the Capybara even though the webpage mentions the weight in `kgs` too. It also identifies the correct habitat etc. for the animal.  "
      ]
    },
    {
      "cell_type": "markdown",
      "metadata": {
        "id": "Tzz1LSS-JBk4"
      },
      "source": [
        "### How about Yucatan Deer"
      ]
    },
    {
      "cell_type": "code",
      "execution_count": 24,
      "metadata": {
        "colab": {
          "base_uri": "https://localhost:8080/",
          "height": 304
        },
        "id": "cryg6li2Cxny",
        "outputId": "842858cd-bff6-4f1a-9c62-2c2d2096d2b6"
      },
      "outputs": [
        {
          "data": {
            "text/html": [
              "<div style=\"border: 1px solid #ccc; padding: 10px; border-radius: 5px; background-color: #f9f9f9;\"><p><span style=\"font-family: Cursive; font-size: 30px;\">about_animals:</span>&emsp;<span style=\"background-color:#90EE90; font-family: Cursive; font-size: 20px;\">True</span></p><p><span style=\"font-family: Cursive; font-size: 30px;\">about_ai:</span>&emsp;<span style=\"background-color:#FFCCCB; font-family: Cursive; font-size: 20px;\">False</span></p><p><span style=\"font-family: Cursive; font-size: 30px;\">weight:</span>&emsp;<span style=\"background-color:; font-family: Cursive; font-size: 20px;\">70</span></p><p><span style=\"font-family: Cursive; font-size: 30px;\">habitat:</span>&emsp;<span style=\"background-color:#FFFEE0; font-family: Cursive; font-size: 20px;\">['Central America', 'Mexico', 'South America']</span></p><p><span style=\"font-family: Cursive; font-size: 30px;\">diet:</span>&emsp;<span style=\"background-color:#FFFEE0; font-family: Cursive; font-size: 20px;\">['grass', 'leaves', 'sprouts', 'lichens', 'mosses', 'tree bark', 'fruit']</span></p><p><span style=\"font-family: Cursive; font-size: 30px;\">predators:</span>&emsp;<span style=\"background-color:#FFFEE0; font-family: Cursive; font-size: 20px;\">['cougar', 'jaguar', 'ticks', 'horseflies', 'mosquitoes']</span></p></div>"
            ],
            "text/plain": [
              "<IPython.core.display.HTML object>"
            ]
          },
          "metadata": {},
          "output_type": "display_data"
        }
      ],
      "source": [
        "display(HTML(extract_data(info_tools, url=\"https://www.rainforest-alliance.org/species/yucatan-deer/\")['html_visualization']))"
      ]
    },
    {
      "cell_type": "markdown",
      "metadata": {
        "id": "B0M4NEm9JMAw"
      },
      "source": [
        "### Something more massive - African Elephant"
      ]
    },
    {
      "cell_type": "code",
      "execution_count": 25,
      "metadata": {
        "colab": {
          "base_uri": "https://localhost:8080/",
          "height": 304
        },
        "id": "PGzkOpYTDOFf",
        "outputId": "1528f7d2-ef18-4182-c959-5cef06b3a07d"
      },
      "outputs": [
        {
          "data": {
            "text/html": [
              "<div style=\"border: 1px solid #ccc; padding: 10px; border-radius: 5px; background-color: #f9f9f9;\"><p><span style=\"font-family: Cursive; font-size: 30px;\">about_animals:</span>&emsp;<span style=\"background-color:#90EE90; font-family: Cursive; font-size: 20px;\">True</span></p><p><span style=\"font-family: Cursive; font-size: 30px;\">about_ai:</span>&emsp;<span style=\"background-color:#FFCCCB; font-family: Cursive; font-size: 20px;\">False</span></p><p><span style=\"font-family: Cursive; font-size: 30px;\">weight:</span>&emsp;<span style=\"background-color:; font-family: Cursive; font-size: 20px;\">5000</span></p><p><span style=\"font-family: Cursive; font-size: 30px;\">habitat:</span>&emsp;<span style=\"background-color:#FFFEE0; font-family: Cursive; font-size: 20px;\">['central and western Africa’s equatorial forests', 'grassy plains and bushlands of the continent']</span></p><p><span style=\"font-family: Cursive; font-size: 30px;\">diet:</span>&emsp;<span style=\"background-color:#FFFEE0; font-family: Cursive; font-size: 20px;\">['leaves and branches', 'grasses', 'fruit', 'bark']</span></p><p><span style=\"font-family: Cursive; font-size: 30px;\">predators:</span>&emsp;<span style=\"background-color:#FFFEE0; font-family: Cursive; font-size: 20px;\">['humans']</span></p></div>"
            ],
            "text/plain": [
              "<IPython.core.display.HTML object>"
            ]
          },
          "metadata": {},
          "output_type": "display_data"
        }
      ],
      "source": [
        "display(HTML(extract_data(info_tools, url=\"https://www.rainforest-alliance.org/species/african-elephants/\")['html_visualization']))"
      ]
    },
    {
      "cell_type": "markdown",
      "metadata": {
        "id": "x7Y8_xmxDOKx"
      },
      "source": [
        "## Let's make example fun - News Summarization\n",
        "\n",
        "Now let's use a more fun example. In order for LLMs to leverage the world knowledge, they need to be able to organize unstructured sources like websites into more structured information. Let's take the example of a news article announcing the new funding round for the startup [Perplexity AI](https://www.perplexity.ai/). For our sample news summarization app, the user only specifies the small list of information that want from the article and then ask the LLM to generate the needed information for them."
      ]
    },
    {
      "cell_type": "code",
      "execution_count": 26,
      "metadata": {
        "colab": {
          "base_uri": "https://localhost:8080/",
          "height": 261
        },
        "id": "RTb7tdJhGxKy",
        "outputId": "6e933767-ff74-4ca0-8f3c-07acc36a1f70"
      },
      "outputs": [
        {
          "data": {
            "text/html": [
              "<div style=\"border: 1px solid #ccc; padding: 10px; border-radius: 5px; background-color: #f9f9f9;\"><p><span style=\"font-family: Cursive; font-size: 30px;\">about_ai:</span>&emsp;<span style=\"background-color:#90EE90; font-family: Cursive; font-size: 20px;\">True</span></p><p><span style=\"font-family: Cursive; font-size: 30px;\">company_name:</span>&emsp;<span style=\"background-color:; font-family: Cursive; font-size: 20px;\">Perplexity AI</span></p><p><span style=\"font-family: Cursive; font-size: 30px;\">valuation:</span>&emsp;<span style=\"background-color:; font-family: Cursive; font-size: 20px;\">520M</span></p><p><span style=\"font-family: Cursive; font-size: 30px;\">investors:</span>&emsp;<span style=\"background-color:#FFFEE0; font-family: Cursive; font-size: 20px;\">['IVP', 'NEA', 'Databricks Ventures', 'Elad Gil', 'Tobi Lutke', 'Nat Friedman', 'Guillermo Rauch', 'Nvidia', 'Jeff Bezos']</span></p><p><span style=\"font-family: Cursive; font-size: 30px;\">competitors:</span>&emsp;<span style=\"background-color:#FFFEE0; font-family: Cursive; font-size: 20px;\">['Google', 'Microsoft', 'You.com']</span></p></div>"
            ],
            "text/plain": [
              "<IPython.core.display.HTML object>"
            ]
          },
          "metadata": {},
          "output_type": "display_data"
        }
      ],
      "source": [
        "display(HTML(extract_data(info_tools, url=\"https://techcrunch.com/2024/01/04/ai-powered-search-engine-perplexity-ai-now-valued-at-520m-raises-70m\")['html_visualization']))"
      ]
    },
    {
      "cell_type": "markdown",
      "metadata": {
        "id": "cJ3baFWLQg6L"
      },
      "source": []
    }
  ],
  "metadata": {
    "colab": {
      "provenance": []
    },
    "kernelspec": {
      "display_name": "Python 3",
      "name": "python3"
    },
    "language_info": {
      "codemirror_mode": {
        "name": "ipython",
        "version": 3
      },
      "file_extension": ".py",
      "mimetype": "text/x-python",
      "name": "python",
      "nbconvert_exporter": "python",
      "pygments_lexer": "ipython3",
      "version": "3.12.6"
    }
  },
  "nbformat": 4,
  "nbformat_minor": 0
}
