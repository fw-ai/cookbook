{
  "cells": [
    {
      "cell_type": "markdown",
      "source": [
        "[![Open in Colab](https://colab.research.google.com/assets/colab-badge.svg)](https://colab.research.google.com/drive/1zBK1nDITDNOx7oRWxh19C5_sNSh64PKM?usp=sharing)"
      ],
      "metadata": {
        "id": "Ugp7Lst-Zqjk"
      },
      "id": "Ugp7Lst-Zqjk"
    },
    {
      "cell_type": "markdown",
      "source": [
        "# Introduction to Structured Responses for Computer System Specifications\n",
        "\n",
        "This script demonstrates how to use **structured responses** with DeepSeek Models (V3 and R1) on Fireworks AI to generate reliable and structured computer system specifications.\n",
        "\n",
        "\n",
        "### Why Use Structured Responses?\n",
        "- **Predictability**: Enforces hardware constraints to prevent illogical specifications.\n",
        "- **Automation**: Structured outputs can be directly used in PC builders, recommendation engines, and procurement systems.\n",
        "- **Integration**: JSON and Grammar Mode allow seamless integration into applications that require structured PC configurations.\n",
        "\n",
        "### What You'll Learn\n",
        "1. **Basic API Setup**: Connecting to Fireworks AI and using DeepSeek v3 and R1.\n",
        "2. **Grammar Mode**: Generating computer specifications within predefined constraints.\n",
        "3. **JSON Mode**: Ensuring machine-readable structured responses.\n",
        "4. **Reasoning JSON Mode**: Capturing the model's thought process alongside structured responses."
      ],
      "metadata": {
        "id": "ab9Fdg11wDUb"
      },
      "id": "ab9Fdg11wDUb"
    },
    {
      "cell_type": "markdown",
      "id": "TWZqnPr0pcv8",
      "metadata": {
        "id": "TWZqnPr0pcv8"
      },
      "source": [
        "### Setup\n",
        "\n",
        "Install all the dependencies and import the required python modules."
      ]
    },
    {
      "cell_type": "code",
      "execution_count": 45,
      "id": "YYRdRzHuHkjz",
      "metadata": {
        "id": "YYRdRzHuHkjz"
      },
      "outputs": [],
      "source": [
        "!pip3 install --upgrade fireworks-ai pydantic python-dotenv > /dev/null"
      ]
    },
    {
      "cell_type": "markdown",
      "id": "sV4u2hezqV4X",
      "metadata": {
        "id": "sV4u2hezqV4X"
      },
      "source": [
        "### Setup your API Key\n",
        "\n",
        "In order to use the DeepSeek models, you must first obtain Fireworks API Keys. If you don't already have one, create a [Fireworks AI](https://fireworks.ai) account. Under Account Settings, click on [API Keys](https://fireworks.ai/api-keys) to create one."
      ]
    },
    {
      "cell_type": "code",
      "execution_count": 46,
      "id": "M9EtJxjJrlyD",
      "metadata": {
        "id": "M9EtJxjJrlyD"
      },
      "outputs": [],
      "source": [
        "from fireworks.client import Fireworks\n",
        "import os\n",
        "from dotenv import load_dotenv  # Import dotenv\n",
        "\n",
        "# Load environment variables from .env file\n",
        "load_dotenv()\n",
        "\n",
        "# Initialize Fireworks client using API key from .env\n",
        "client = Fireworks(api_key=os.getenv(\"FIREWORKS_API_KEY\"))"
      ]
    },
    {
      "cell_type": "markdown",
      "id": "FrFtrGQ6r-Mk",
      "metadata": {
        "id": "FrFtrGQ6r-Mk"
      },
      "source": [
        "# 0️⃣ **Basic API Call to DeepSeek v3**"
      ]
    },
    {
      "cell_type": "markdown",
      "id": "TVGsp9wvtO2Q",
      "metadata": {
        "id": "TVGsp9wvtO2Q"
      },
      "source": [
        "### Chat Completions API\n",
        "This is a simple test call to ensure the Fireworks API is working correctly."
      ]
    },
    {
      "cell_type": "code",
      "execution_count": 47,
      "id": "DHAgBTk8Hpg_",
      "metadata": {
        "colab": {
          "base_uri": "https://localhost:8080/"
        },
        "id": "DHAgBTk8Hpg_",
        "outputId": "751e3311-ef2a-4b56-e82f-53b489e4ec02"
      },
      "outputs": [
        {
          "output_type": "stream",
          "name": "stdout",
          "text": [
            "As of 2023, the gaming PC hardware landscape continues to evolve rapidly, driven by advancements in technology and increasing demand for high-performance gaming experiences. Here are some of the latest trends in gaming PC hardware:\n",
            "\n",
            "### 1. **Next-Gen GPUs (Graphics Processing Units)**\n",
            "   - **NVIDIA's GeForce RTX 40 Series**: Built on the Ada Lovelace architecture, these GPUs offer significant performance improvements, especially in ray tracing and AI-driven features like DLSS 3.0.\n",
            "   - **AMD's Radeon RX 7000 Series**: Based on the RDNA 3 architecture, these GPUs provide competitive performance and efficiency, with a focus on 4K gaming and ray tracing capabilities.\n",
            "\n",
            "### 2. **CPUs (Central Processing Units)**\n",
            "   - **Intel's 13th Gen Raptor Lake**: Featuring a hybrid architecture with Performance and Efficient cores, these CPUs deliver excellent gaming and multitasking performance.\n",
            "   - **AMD's Ryzen 7000 Series**: Utilizing the Zen 4 architecture, these CPUs support DDR5 memory and PCIe 5.0, offering top-tier performance for gaming and productivity.\n",
            "\n",
            "### 3. **DDR5 Memory**\n",
            "   - DDR5 RAM is becoming the new standard, offering higher speeds and bandwidth compared to DDR4. This leads to better overall system performance, particularly in memory-intensive games and applications.\n",
            "\n",
            "### 4. **PCIe 5.0**\n",
            "   - The latest generation of PCIe technology doubles the bandwidth of PCIe 4.0, allowing for faster data transfer rates. This is particularly beneficial for high-speed SSDs and next-gen GPUs.\n",
            "\n",
            "### 5. **High-Speed SSDs**\n",
            "   - **NVMe SSDs with PCIe 4.0 and 5.0 Support**: These SSDs offer blistering read/write speeds, drastically reducing load times and improving the overall responsiveness of gaming systems.\n",
            "   - **DirectStorage Technology**: As games become more data-intensive, DirectStorage allows for faster asset loading directly from the SSD to the GPU, bypassing the CPU for better performance.\n",
            "\n",
            "### 6. **Advanced Cooling Solutions**\n",
            "   - **AIO (All-In-One) Liquid Coolers**: These are becoming more popular for high-performance CPUs, offering better cooling efficiency compared to traditional air coolers.\n",
            "   - **Custom Water Cooling Loops**: Enthusiasts are increasingly opting for custom loops for both CPUs and GPUs to achieve maximum thermal performance and quieter operation.\n",
            "\n",
            "### 7. **High Refresh Rate Monitors**\n",
            "   - **4K and Beyond**: Monitors with 4K resolution at 144Hz or higher are becoming more common, offering incredibly sharp visuals and smooth gameplay.\n",
            "   - **Ultrawide and Curved Displays**: These provide a more immersive gaming experience, especially in open-world and simulation games.\n",
            "\n",
            "### 8. **Ray Tracing and AI Enhancements**\n",
            "   - **Ray Tracing**: This technology is becoming more mainstream, offering realistic lighting, shadows, and reflections in games.\n",
            "   - **AI-Powered Upscaling (DLSS, FSR)**: Technologies like NVIDIA's DLSS and AMD's FSR use AI to upscale lower-resolution images, providing better performance without sacrificing visual quality.\n",
            "\n",
            "### 9. **Form Factor Trends**\n",
            "   - **Small Form Factor (SFF) PCs**: Compact gaming PCs are gaining popularity, offering powerful hardware in a more portable and space-efficient design.\n",
            "   - **Modular Components**: More components are being designed with modularity in mind, allowing for easier upgrades and customizations.\n",
            "\n",
            "### 10. **Power Supply Units (PSUs)**\n",
            "   - **Higher Wattage**: As GPUs and CPUs become more power-hungry, PSUs with higher wattage (850W and above) are becoming more common.\n",
            "   - **Efficiency Ratings**: There is a growing demand for PSUs with higher efficiency ratings (80+ Gold, Platinum, Titanium) to ensure stable and efficient power delivery.\n",
            "\n",
            "### 11. **RGB and Aesthetics**\n",
            "   - **Customizable RGB Lighting**: RGB lighting continues to be a popular trend, with more components offering customizable lighting effects to personalize the look of gaming rigs.\n",
            "   - **Sleek, Minimalist Designs**: While RGB is popular, there is also a trend towards sleek, minimalist designs with clean lines and neutral colors.\n",
            "\n",
            "### 12. **Ecosystem Integration**\n",
            "   - **Unified Software Ecosystems**: Companies like NVIDIA, AMD, and Intel are developing unified software ecosystems to control and optimize gaming hardware performance, lighting, and other features from a single interface.\n",
            "\n",
            "These trends reflect the ongoing push towards higher performance, better efficiency, and more immersive gaming experiences. As technology continues to advance, we can expect even more innovations in gaming PC hardware in the near future.\n"
          ]
        }
      ],
      "source": [
        "model_name = \"accounts/fireworks/models/deepseek-v3\"\n",
        "\n",
        "response = client.chat.completions.create(\n",
        "    model=model_name,\n",
        "    messages=[\n",
        "        {\"role\": \"user\", \"content\": \"What are the latest trends in gaming PC hardware?\"},\n",
        "    ],\n",
        ")\n",
        "print(response.choices[0].message.content)"
      ]
    },
    {
      "cell_type": "markdown",
      "id": "kOX8MZQttBq8",
      "metadata": {
        "id": "kOX8MZQttBq8"
      },
      "source": [
        "# 1️⃣ **Grammar Mode with BNF for Computer Specifications**\n",
        "\n",
        "### **What is Grammar Mode?**\n",
        "Grammar Mode ensures that the model outputs responses that conform to a strict structure, preventing unexpected variations in responses. This is particularly useful for generating structured data, such as hardware specifications.\n",
        "\n",
        "#### **How Grammar Mode Works**\n",
        "- Uses a **GBNF (Grammar-Based Normal Form)** to constrain the model's output.\n",
        "- Ensures the output adheres to predefined rules for valid computer system specifications.\n",
        "\n",
        "Read more about [GBNF](https://github.com/ggerganov/llama.cpp/tree/master/grammars), and how to [use it](https://docs.fireworks.ai/structured-responses/structured-output-grammar-based).\n"
      ]
    },
    {
      "cell_type": "code",
      "execution_count": 48,
      "id": "NmZJRcvK-DTJ",
      "metadata": {
        "id": "NmZJRcvK-DTJ"
      },
      "outputs": [],
      "source": [
        "computer_system_grammar = \"\"\"\n",
        "root ::= system-description\n",
        "\n",
        "system-description ::= \"Processor: \" processor \"Memory: \" memory \"Storage: \" storage \"GPU: \" gpu \"Motherboard: \" motherboard \"Cooling: \" cooling \"Networking: \" networking \"Ports: \" ports \"OS: \" os\n",
        "\n",
        "processor ::= cpu-type \" \" cores \" cores @ \" clock-speed \"GHz\\n\"\n",
        "cpu-type ::= (\"Intel Core i\" (\"5\" | \"7\" | \"9\") | \"AMD Ryzen \" (\"5\" | \"7\" | \"9\"))\n",
        "cores ::= (\"4\" | \"6\" | \"8\" | \"12\" | \"16\")\n",
        "clock-speed ::= (\"2.5\" | \"3.0\" | \"3.5\" | \"4.0\" | \"4.5\")\n",
        "\n",
        "memory ::= ram-size \"GB \" ram-type \"RAM \\n\"\n",
        "ram-size ::= (\"8\" | \"16\" | \"32\" | \"64\" | \"128\")\n",
        "ram-type ::= (\"DDR4\" | \"DDR5\")\n",
        "\n",
        "storage ::= storage-type \" \" storage-capacity \"TB\\n\"\n",
        "storage-type ::= (\"SSD\" | \"HDD\" | \"NVMe SSD\")\n",
        "storage-capacity ::= (\"0.5\" | \"1\" | \"2\" | \"4\" | \"8\")\n",
        "\n",
        "gpu ::= gpu-brand \" \" gpu-model \"\\n\"\n",
        "gpu-brand ::= (\"NVIDIA\" | \"AMD\")\n",
        "gpu-model ::= (\"RTX \" (\"3060\" | \"3070\" | \"3080\" | \"3090\") | \"RX \" (\"6600\" | \"6700\" | \"6800\" | \"6900\"))\n",
        "\n",
        "motherboard ::= (\"ATX\" | \"Micro-ATX\" | \"Mini-ITX\")\n",
        "cooling ::= (\"Air-cooled\" | \"Liquid-cooled\")\n",
        "networking ::= (\"WiFi 6\" | \"WiFi 6E\" | \"Gigabit Ethernet\" | \"2.5G Ethernet\")\n",
        "ports ::= (\"USB-C, HDMI, Thunderbolt 4\" | \"USB-A, DisplayPort, Ethernet\" | \"USB 3.0, VGA, HDMI\")\n",
        "\n",
        "os ::= operating-system \"\\n\"\n",
        "operating-system ::= (\"Windows 11\" | \"macOS Sonoma\" | \"Ubuntu 22.04\" | \"Fedora 38\")\n",
        "\"\"\""
      ]
    },
    {
      "cell_type": "code",
      "source": [
        "chat_completion = client.chat.completions.create(\n",
        "    model=model_name,\n",
        "    response_format={\"type\": \"grammar\", \"grammar\": computer_system_grammar},\n",
        "    messages=[\n",
        "        {\"role\": \"system\", \"content\": \"Generate a structured computer system specification.\"},\n",
        "        {\"role\": \"user\", \"content\": \"I need a high-performance gaming PC with lots of RAM and a powerful NVIDIA GPU.\"},\n",
        "    ],\n",
        ")\n",
        "print(chat_completion.choices[0].message.content)"
      ],
      "metadata": {
        "colab": {
          "base_uri": "https://localhost:8080/"
        },
        "id": "PQbZ52mTw8MP",
        "outputId": "7fc20475-e13e-4875-c549-4b87d25963fe"
      },
      "id": "PQbZ52mTw8MP",
      "execution_count": 49,
      "outputs": [
        {
          "output_type": "stream",
          "name": "stdout",
          "text": [
            "Processor: Intel Core i9 8 cores @ 4.5GHz\n",
            "Memory: 32GB DDR5RAM \n",
            "Storage: SSD 1TB\n",
            "GPU: NVIDIA RTX 3080\n",
            "Motherboard: ATXCooling: Liquid-cooledNetworking: WiFi 6EPorts: USB-A, DisplayPort, EthernetOS: Windows 11\n",
            "\n"
          ]
        }
      ]
    },
    {
      "cell_type": "markdown",
      "id": "O5i7rqkhJQJN",
      "metadata": {
        "id": "O5i7rqkhJQJN"
      },
      "source": [
        "# 2️⃣ **JSON Mode for Computer System Specifications**\n",
        "\n",
        "JSON mode is a subset of grammar mode and is a feature that allows you to specify a JSON schema to force a language model to respond in a structured JSON format. This has several benefits:\n",
        "\n",
        "* Clarity and precision in responses\n",
        "* Easy parsing and processing of output\n",
        "* Improved integration with other systems and applications\n",
        "* Standardized format for consistent data handling\n",
        "\n",
        "By using JSON mode, developers can ensure more predictable and easily manageable outputs from AI models, making it easier to incorporate AI capabilities into existing workflows and applications."
      ]
    },
    {
      "cell_type": "code",
      "execution_count": 50,
      "id": "wcOA_lp1B9lD",
      "metadata": {
        "id": "wcOA_lp1B9lD"
      },
      "outputs": [],
      "source": [
        "from pydantic import BaseModel, Field\n",
        "from typing import List"
      ]
    },
    {
      "cell_type": "code",
      "execution_count": 51,
      "id": "D9xgnLuGCAQi",
      "metadata": {
        "id": "D9xgnLuGCAQi"
      },
      "outputs": [],
      "source": [
        "class Processor(BaseModel):\n",
        "    brand: str = Field(pattern=\"^(Intel|AMD)$\")\n",
        "    model: str\n",
        "    cores: int = Field(ge=2, le=32)\n",
        "    clock_speed_ghz: float = Field(ge=1.0, le=6.0)\n",
        "\n",
        "class Memory(BaseModel):\n",
        "    size_gb: int = Field(ge=4, le=256)\n",
        "    type: str = Field(pattern=\"^(DDR4|DDR5)$\")\n",
        "\n",
        "class Storage(BaseModel):\n",
        "    type: str = Field(pattern=\"^(SSD|HDD|NVMe SSD)$\")\n",
        "    capacity_tb: float = Field(ge=0.5, le=10)\n",
        "\n",
        "class GPU(BaseModel):\n",
        "    brand: str = Field(pattern=\"^(NVIDIA|AMD)$\")\n",
        "    model: str\n",
        "\n",
        "class ComputerSystemSpecs(BaseModel):\n",
        "    processor: Processor\n",
        "    memory: Memory\n",
        "    storage: Storage\n",
        "    gpu: GPU\n",
        "    motherboard: str = Field(pattern=\"^(ATX|Micro-ATX|Mini-ITX)$\")\n",
        "    cooling: str = Field(pattern=\"^(Air-cooled|Liquid-cooled)$\")\n",
        "    networking: str = Field(pattern=\"^(WiFi 6|WiFi 6E|Gigabit Ethernet|2.5G Ethernet)$\")\n",
        "    ports: List[str] = Field(min_items=1, max_items=5)\n",
        "    os: str = Field(pattern=\"^(Windows 11|macOS Sonoma|Ubuntu 22.04|Fedora 38)$\")\n"
      ]
    },
    {
      "cell_type": "code",
      "execution_count": 52,
      "id": "7X2lAQdWCKZI",
      "metadata": {
        "id": "7X2lAQdWCKZI",
        "colab": {
          "base_uri": "https://localhost:8080/"
        },
        "outputId": "cc8d1875-1f73-414e-8d7c-48a02966c941"
      },
      "outputs": [
        {
          "output_type": "stream",
          "name": "stdout",
          "text": [
            "{\"processor\": {\"brand\": \"AMD\", \"model\": \"Ryzen 9 7950X\", \"cores\": 16, \"clock_speed_ghz\": 4.5}, \"memory\": {\"size_gb\": 32, \"type\": \"DDR5\"}, \"storage\": {\"type\": \"NVMe SSD\", \"capacity_tb\": 2}, \"gpu\": {\"brand\": \"NVIDIA\", \"model\": \"GeForce RTX 4090\"}, \"motherboard\": \"ASUS ROG Crosshair X670E Hero\", \"cooling\": \"NZXT Kraken X73 360mm\", \"networking\": \"Intel Wi-Fi 6E AX210\", \"ports\": [ \"USB Type-C\", \"HDMI\", \"DisplayPort\", \"Ethernet\"], \"os\": \"Windows 11 Pro\"}\n"
          ]
        }
      ],
      "source": [
        "chat_completion = client.chat.completions.create(\n",
        "    model=model_name,\n",
        "    response_format={\"type\": \"json_object\", \"schema\": ComputerSystemSpecs.model_json_schema()},\n",
        "    messages=[\n",
        "        {\"role\": \"user\", \"content\": \"Generate a high-performance gaming PC specification with the latest AMD processor, 32GB DDR5 RAM, and a powerful NVIDIA GPU.\"},\n",
        "    ]\n",
        ")\n",
        "print(chat_completion.choices[0].message.content)"
      ]
    },
    {
      "cell_type": "markdown",
      "source": [
        "# 3️⃣ **Reasoning Model JSON Mode for Computer Specifications**"
      ],
      "metadata": {
        "id": "Q1A8enFSzrB7"
      },
      "id": "Q1A8enFSzrB7"
    },
    {
      "cell_type": "markdown",
      "source": [
        "### 🧠 **Reasoning Model JSON Mode for Computer Specifications**  \n",
        "\n",
        "#### 🔹 **What is Reasoning JSON Mode?**  \n",
        "Reasoning JSON Mode extends structured JSON generation by adding an **explanation of the model’s decision-making process**. This is done by generating a **reasoning section enclosed within `<think>...</think>` tags**, followed by a structured JSON response.  \n",
        "\n",
        "This approach enhances transparency and interpretability by providing insight into **why** the model chose specific components when generating PC specifications.\n",
        "\n",
        "---\n",
        "\n",
        "#### 🔹 **How Does It Work?**  \n",
        "When using Reasoning JSON Mode, the model outputs:  \n",
        "1. A **reasoning block** inside `<think>...</think>`, explaining the thought process.  \n",
        "2. A **valid JSON object** containing structured specifications that adhere to the predefined schema.  \n",
        "\n",
        "This ensures that the **reasoning and structured response remain distinct**, making it easy to extract insights while maintaining machine-readable outputs.\n",
        "\n",
        "---\n",
        "\n",
        "#### 🔹 **Why Use Reasoning JSON Mode for PC Specifications?**  \n",
        "For tasks like generating **gaming PC configurations**, **server builds**, or **custom hardware recommendations**, Reasoning JSON Mode provides:  \n",
        "✅ **Explainability** → Understand why each component was selected.  \n",
        "✅ **Debugging Capability** → Identify model errors by checking its reasoning.  \n",
        "✅ **Structured Data** → JSON output is ready for downstream processing.  \n",
        "\n",
        "For example, instead of simply outputting:\n",
        "```json\n",
        "{ \"processor\": \"AMD Ryzen 9 7950X\", \"gpu\": \"NVIDIA RTX 3090\" }\n",
        "```\n",
        "The model also includes:\n",
        "\n",
        "```\n",
        "The user requested a high-performance gaming PC, so I chose the Ryzen 9 7950X for its high core count and strong gaming performance. The RTX 3090 is selected because it balances price and power for 4K gaming.\n",
        "</think>\n",
        "```\n",
        "This helps developers validate the AI's decision-making while maintaining structured responses.\n",
        "\n",
        "#### 🔹 **How is Reasoning JSON Mode Different from Standard JSON Mode?**  \n",
        "| Feature  | Standard JSON Mode  | Reasoning JSON Mode |\n",
        "|----------|--------------------|---------------------|\n",
        "| **Structured Output** | ✅ Yes | ✅ Yes |\n",
        "| **Model Explainability** | ❌ No | ✅ Yes |\n",
        "| **Debugging Insights** | ❌ No | ✅ Yes |\n",
        "| **Separation of Reasoning & JSON** | ❌ No | ✅ Yes |\n",
        "\n",
        "Reasoning JSON Mode is particularly useful when **generating recommendations, debugging AI outputs, or ensuring trust in AI-driven decisions**.\n",
        "\n"
      ],
      "metadata": {
        "id": "6M6OAI92JYNX"
      },
      "id": "6M6OAI92JYNX"
    },
    {
      "cell_type": "code",
      "source": [
        "import json\n",
        "import re\n",
        "from pydantic import BaseModel\n",
        "import os"
      ],
      "metadata": {
        "id": "yL_Yce9pzszZ"
      },
      "id": "yL_Yce9pzszZ",
      "execution_count": 53,
      "outputs": []
    },
    {
      "cell_type": "code",
      "source": [
        "# Define the output schema using Pydantic\n",
        "class ComputerSpec(BaseModel):\n",
        "    processor: str\n",
        "    memory: str\n",
        "    storage: str\n",
        "    gpu: str\n",
        "    motherboard: str\n",
        "    cooling: str\n",
        "    networking: str\n",
        "    ports: str\n",
        "    os: str"
      ],
      "metadata": {
        "id": "TGzbOdt-25Oa"
      },
      "id": "TGzbOdt-25Oa",
      "execution_count": 54,
      "outputs": []
    },
    {
      "cell_type": "code",
      "source": [
        "# Prepare the user input\n",
        "user_input = \"Generate a high-performance gaming PC specification with an AMD Ryzen 9 processor, 64GB DDR5 RAM, and an NVIDIA RTX 3090 GPU.\"\n",
        "\n",
        "# Construct the messages payload\n",
        "messages = [{\"role\": \"user\", \"content\": user_input}]\n",
        "\n",
        "print(messages)"
      ],
      "metadata": {
        "colab": {
          "base_uri": "https://localhost:8080/"
        },
        "id": "ByWblYbY17LH",
        "outputId": "724f1ddd-ed69-480f-c7ba-631df0fd45e8"
      },
      "id": "ByWblYbY17LH",
      "execution_count": 55,
      "outputs": [
        {
          "output_type": "stream",
          "name": "stdout",
          "text": [
            "[{'role': 'user', 'content': 'Generate a high-performance gaming PC specification with an AMD Ryzen 9 processor, 64GB DDR5 RAM, and an NVIDIA RTX 3090 GPU.'}]\n"
          ]
        }
      ]
    },
    {
      "cell_type": "code",
      "source": [
        "# Make the API call to the model\n",
        "response = client.chat.completions.create(\n",
        "    model=\"accounts/fireworks/models/deepseek-r1\",\n",
        "    messages=messages,\n",
        "    response_format={\"type\": \"json_object\", \"schema\": ComputerSpec.model_json_schema()},\n",
        "    max_tokens=3000,\n",
        ")\n",
        "\n",
        "# Extract the content of the response\n",
        "response_content = response.choices[0].message.content\n",
        "print(response_content)\n"
      ],
      "metadata": {
        "colab": {
          "base_uri": "https://localhost:8080/"
        },
        "id": "UhJlkEpp192v",
        "outputId": "8feb60a8-39ae-4cfd-e3a5-3be8b616850b"
      },
      "id": "UhJlkEpp192v",
      "execution_count": 56,
      "outputs": [
        {
          "output_type": "stream",
          "name": "stdout",
          "text": [
            "<think>\n",
            "Okay, I need to create a high-performance gaming PC build with an AMD Ryzen 9 processor, 64GB DDR5 RAM, and an NVIDIA RTX 3090 GPU. Let me start by breaking down each component. \n",
            "\n",
            "First, the AMD Ryzen 9. The latest generation for Ryzen processors is the 7000 series, so the Ryzen 9 7950X seems like a good choice. It's a 16-core, 32-thread CPU with high clock speeds, which is great for gaming and multitasking. But wait, do gamers really need 16 cores? Maybe a Ryzen 9 7900X (12-core) is more than enough. However, since the user specified \"high-performance,\" the 7950X might be better to showcase top-tier specs.\n",
            "\n",
            "Next, the motherboard. It needs to support DDR5 and have an AM5 socket for the Ryzen 7000 series. X670E chipsets are high-end and offer PCIe 5.0 support. Brands like ASUS, MSI, or Gigabyte. The ASUS ROG Crosshair X670E Hero comes to mind. It has good VRM cooling, multiple M.2 slots, and robust build quality. It's a bit pricey, but suitable for a high-end build.\n",
            "\n",
            "RAM: 64GB of DDR5. Most gaming rigs use 32GB, but since the user asked for 64GB, I need to find a kit. DDR5-6000 CL36 is a sweet spot for Ryzen 7000, as they work best with 6000MHz. G.Skill Trident Z5 or Kingston Fury Beast maybe. Let's go with G.Skill Trident Z5 RGB 64GB (2x32GB) DDR5-6000 CL36. Make sure it's a dual-channel kit, even though 64GB might sometimes come as quad, but 2x32 is better for stability and performance on AM5.\n",
            "\n",
            "GPU: NVIDIA RTX 3090. Wait, the 40 series is out (like the 4090), but the user specifically wants a 3090. Might be due to availability or personal preference. The RTX 3090 has 24GB VRAM, which is great for 4K gaming. Brands like ASUS ROG Strix, MSI Suprim X, or EVGA FTW3. Let's choose the ASUS ROG Strix RTX 3090 OC for its cooling and performance.\n",
            "\n",
            "Storage: High-speed NVMe SSDs. A 2TB primary drive for OS and games. Maybe a Samsung 990 Pro 2TB PCIe 4.0, which is one of the fastest. A secondary 4TB SSD for more storage. The Crucial P3 Plus 4TB is a good value PCIe 4.0 drive. Alternatively, maybe a WD Black SN850X for the secondary, but keep costs in check.\n",
            "\n",
            "Power Supply: The RTX 3090 is power-hungry. The system would need at least 850W, but to be safe, 1000W. A Corsair RM1000x (2021) is a fully modular 80+ Gold PSU. Alternatively, an 80+ Platinum like the SeaSonic PRIME PX-1000 for efficiency.\n",
            "\n",
            "Cooling: The Ryzen 9 7950X runs hot. A high-end AIO liquid cooler would be ideal. The NZXT Kraken Z73 360mm with an LCD display or the Corsair iCUE H150i Elite Capellix. Let's go with the NZXT Kraken Z73 for aesthetics and performance. Ensure the case supports 360mm radiators.\n",
            "\n",
            "Case: Needs good airflow, space for components. Lian Li PC-O11 Dynamic is popular, supports multiple radiators. Or the Corsair 5000D Airflow. Choose the Lian Li O11 Dynamic EVO, supports 360mm AIO, has good cable management.\n",
            "\n",
            "Optional: Additional case fans for airflow. Lian Li UNI FAN SL-INF 120 for aesthetics and performance. Also, maybe a fan controller.\n",
            "\n",
            "OS: Windows 11 Home for gaming. Pro is optional if needed for other features, but Home is sufficient.\n",
            "\n",
            "Peripherals: If included, a high-refresh monitor, 4K 144Hz with G-Sync. ASUS ROG Swift PG32UQX. Mechanical keyboard and gaming mouse. Monitor might not be requested, but just in case, mention.\n",
            "\n",
            "Dual monitor setup? The user didn't mention, but maybe suggest if in budget.\n",
            "\n",
            "Check compatibility: The motherboard supports DDR5-6000, and the CPU is AM5. The GPU size fits in the case. The PSU has enough PCIe connectors for the 3090 (it uses 2x 8-pin or 3x?). The ASUS ROG Strix 3090 requires 3x 8-pin connectors. The Corsair RM1000x has enough cables. Cable extensions for aesthetics?\n",
            "\n",
            "Wait, price isn't mentioned, but since it's high-performance, probably no budget constraints, but balance between top parts without overkill where unnecessary.\n",
            "\n",
            "Double-checking all components: CPU, Mobo, RAM, GPU, Storage, PSU, Cooling, Case, OS.\n",
            "\n",
            "Any potential bottlenecks? The 7950X and 3090 are top-tier, no bottlenecks. 64GB RAM is more than needed, but user specified. For gaming, even 32GB is plenty, but content creation would use 64GB.\n",
            "\n",
            "Any other components like thermal paste? The AIO comes with pre-applied thermal paste. Extra case fans. Mention additional fans if not included.\n",
            "\n",
            "Total estimated cost: Around $3500-$4000+ depending on parts and region.\n",
            "\n",
            "Conclusion: Compile all the components, ensuring they're compatible and meet the user's requirements. Provide a rationale for each part to explain the choices.\n",
            "</think>\n",
            "{\"processor\":\"AMD Ryzen 9 7950X 4.5GHz 16-Core (Boost: 5.7GHz)\", \"memory\":\"64GB G.Skill Trident Z5 RGB DDR5-6000 CL36 (2x32GB)\", \"storage\":\"Primary: 2TB Samsung 990 Pro NVMe PCIe 4.0 | Secondary: 4TB Crucial P3 Plus NVMe PCIe 4.0\", \"gpu\":\"ASUS ROG Strix GeForce RTX 3090 OC 24GB GDDR6X\", \"motherboard\":\"ASUS ROG Crosshair X670E Hero (Wi-Fi 6E, PCIe 5.0)\", \"cooling\":\"NZXT Kraken Z73 360mm AIO Liquid Cooler\", \"networking\":\"Motherboard-integrated Wi-Fi 6E | 10G LAN\", \"ports\":\"USB4 (Type-C), 12x USB 3.2, HDMI 2.1\", \"os\":\"Windows 11 Home 64-bit (optimized for DirectStorage and gaming)\"} \n"
          ]
        }
      ]
    },
    {
      "cell_type": "code",
      "source": [
        "# Extract the reasoning part enclosed in <think>...</think> tags\n",
        "reasoning_match = re.search(r\"<think>(.*?)</think>\", response_content, re.DOTALL)\n",
        "reasoning = reasoning_match.group(1).strip() if reasoning_match else \"No reasoning provided.\"\n"
      ],
      "metadata": {
        "id": "MV9_4pkm1_fr"
      },
      "id": "MV9_4pkm1_fr",
      "execution_count": 57,
      "outputs": []
    },
    {
      "cell_type": "code",
      "source": [
        "# Extract the JSON part that follows after the reasoning\n",
        "json_match = re.search(r\"</think>\\s*(\\{.*\\})\", response_content, re.DOTALL)\n",
        "json_str = json_match.group(1).strip() if json_match else \"{}\"\n",
        "\n",
        "print(json_str)"
      ],
      "metadata": {
        "colab": {
          "base_uri": "https://localhost:8080/"
        },
        "id": "CbdrmW5I2BL2",
        "outputId": "4efb5d28-6108-432f-c2f2-97e3492159e1"
      },
      "id": "CbdrmW5I2BL2",
      "execution_count": 58,
      "outputs": [
        {
          "output_type": "stream",
          "name": "stdout",
          "text": [
            "{\"processor\":\"AMD Ryzen 9 7950X 4.5GHz 16-Core (Boost: 5.7GHz)\", \"memory\":\"64GB G.Skill Trident Z5 RGB DDR5-6000 CL36 (2x32GB)\", \"storage\":\"Primary: 2TB Samsung 990 Pro NVMe PCIe 4.0 | Secondary: 4TB Crucial P3 Plus NVMe PCIe 4.0\", \"gpu\":\"ASUS ROG Strix GeForce RTX 3090 OC 24GB GDDR6X\", \"motherboard\":\"ASUS ROG Crosshair X670E Hero (Wi-Fi 6E, PCIe 5.0)\", \"cooling\":\"NZXT Kraken Z73 360mm AIO Liquid Cooler\", \"networking\":\"Motherboard-integrated Wi-Fi 6E | 10G LAN\", \"ports\":\"USB4 (Type-C), 12x USB 3.2, HDMI 2.1\", \"os\":\"Windows 11 Home 64-bit (optimized for DirectStorage and gaming)\"}\n"
          ]
        }
      ]
    },
    {
      "cell_type": "code",
      "source": [
        "# Parse the JSON string directly into a Pydantic model using model_validate_json\n",
        "computer_spec = ComputerSpec.model_validate_json(json_str)\n",
        "print(computer_spec)"
      ],
      "metadata": {
        "colab": {
          "base_uri": "https://localhost:8080/"
        },
        "id": "G2JcWRvX2C0f",
        "outputId": "af422869-efcb-496e-f574-b5a2ec5cc7ca"
      },
      "id": "G2JcWRvX2C0f",
      "execution_count": 59,
      "outputs": [
        {
          "output_type": "stream",
          "name": "stdout",
          "text": [
            "processor='AMD Ryzen 9 7950X 4.5GHz 16-Core (Boost: 5.7GHz)' memory='64GB G.Skill Trident Z5 RGB DDR5-6000 CL36 (2x32GB)' storage='Primary: 2TB Samsung 990 Pro NVMe PCIe 4.0 | Secondary: 4TB Crucial P3 Plus NVMe PCIe 4.0' gpu='ASUS ROG Strix GeForce RTX 3090 OC 24GB GDDR6X' motherboard='ASUS ROG Crosshair X670E Hero (Wi-Fi 6E, PCIe 5.0)' cooling='NZXT Kraken Z73 360mm AIO Liquid Cooler' networking='Motherboard-integrated Wi-Fi 6E | 10G LAN' ports='USB4 (Type-C), 12x USB 3.2, HDMI 2.1' os='Windows 11 Home 64-bit (optimized for DirectStorage and gaming)'\n"
          ]
        }
      ]
    },
    {
      "cell_type": "code",
      "source": [
        "# Output the reasoning and the parsed JSON data\n",
        "print(\"Reasoning:\")\n",
        "print(reasoning)\n"
      ],
      "metadata": {
        "colab": {
          "base_uri": "https://localhost:8080/"
        },
        "id": "qeSC5woG2D6l",
        "outputId": "8135d27d-f6f6-40dc-837c-52e94a53bb69"
      },
      "id": "qeSC5woG2D6l",
      "execution_count": 60,
      "outputs": [
        {
          "output_type": "stream",
          "name": "stdout",
          "text": [
            "Reasoning:\n",
            "Okay, I need to create a high-performance gaming PC build with an AMD Ryzen 9 processor, 64GB DDR5 RAM, and an NVIDIA RTX 3090 GPU. Let me start by breaking down each component. \n",
            "\n",
            "First, the AMD Ryzen 9. The latest generation for Ryzen processors is the 7000 series, so the Ryzen 9 7950X seems like a good choice. It's a 16-core, 32-thread CPU with high clock speeds, which is great for gaming and multitasking. But wait, do gamers really need 16 cores? Maybe a Ryzen 9 7900X (12-core) is more than enough. However, since the user specified \"high-performance,\" the 7950X might be better to showcase top-tier specs.\n",
            "\n",
            "Next, the motherboard. It needs to support DDR5 and have an AM5 socket for the Ryzen 7000 series. X670E chipsets are high-end and offer PCIe 5.0 support. Brands like ASUS, MSI, or Gigabyte. The ASUS ROG Crosshair X670E Hero comes to mind. It has good VRM cooling, multiple M.2 slots, and robust build quality. It's a bit pricey, but suitable for a high-end build.\n",
            "\n",
            "RAM: 64GB of DDR5. Most gaming rigs use 32GB, but since the user asked for 64GB, I need to find a kit. DDR5-6000 CL36 is a sweet spot for Ryzen 7000, as they work best with 6000MHz. G.Skill Trident Z5 or Kingston Fury Beast maybe. Let's go with G.Skill Trident Z5 RGB 64GB (2x32GB) DDR5-6000 CL36. Make sure it's a dual-channel kit, even though 64GB might sometimes come as quad, but 2x32 is better for stability and performance on AM5.\n",
            "\n",
            "GPU: NVIDIA RTX 3090. Wait, the 40 series is out (like the 4090), but the user specifically wants a 3090. Might be due to availability or personal preference. The RTX 3090 has 24GB VRAM, which is great for 4K gaming. Brands like ASUS ROG Strix, MSI Suprim X, or EVGA FTW3. Let's choose the ASUS ROG Strix RTX 3090 OC for its cooling and performance.\n",
            "\n",
            "Storage: High-speed NVMe SSDs. A 2TB primary drive for OS and games. Maybe a Samsung 990 Pro 2TB PCIe 4.0, which is one of the fastest. A secondary 4TB SSD for more storage. The Crucial P3 Plus 4TB is a good value PCIe 4.0 drive. Alternatively, maybe a WD Black SN850X for the secondary, but keep costs in check.\n",
            "\n",
            "Power Supply: The RTX 3090 is power-hungry. The system would need at least 850W, but to be safe, 1000W. A Corsair RM1000x (2021) is a fully modular 80+ Gold PSU. Alternatively, an 80+ Platinum like the SeaSonic PRIME PX-1000 for efficiency.\n",
            "\n",
            "Cooling: The Ryzen 9 7950X runs hot. A high-end AIO liquid cooler would be ideal. The NZXT Kraken Z73 360mm with an LCD display or the Corsair iCUE H150i Elite Capellix. Let's go with the NZXT Kraken Z73 for aesthetics and performance. Ensure the case supports 360mm radiators.\n",
            "\n",
            "Case: Needs good airflow, space for components. Lian Li PC-O11 Dynamic is popular, supports multiple radiators. Or the Corsair 5000D Airflow. Choose the Lian Li O11 Dynamic EVO, supports 360mm AIO, has good cable management.\n",
            "\n",
            "Optional: Additional case fans for airflow. Lian Li UNI FAN SL-INF 120 for aesthetics and performance. Also, maybe a fan controller.\n",
            "\n",
            "OS: Windows 11 Home for gaming. Pro is optional if needed for other features, but Home is sufficient.\n",
            "\n",
            "Peripherals: If included, a high-refresh monitor, 4K 144Hz with G-Sync. ASUS ROG Swift PG32UQX. Mechanical keyboard and gaming mouse. Monitor might not be requested, but just in case, mention.\n",
            "\n",
            "Dual monitor setup? The user didn't mention, but maybe suggest if in budget.\n",
            "\n",
            "Check compatibility: The motherboard supports DDR5-6000, and the CPU is AM5. The GPU size fits in the case. The PSU has enough PCIe connectors for the 3090 (it uses 2x 8-pin or 3x?). The ASUS ROG Strix 3090 requires 3x 8-pin connectors. The Corsair RM1000x has enough cables. Cable extensions for aesthetics?\n",
            "\n",
            "Wait, price isn't mentioned, but since it's high-performance, probably no budget constraints, but balance between top parts without overkill where unnecessary.\n",
            "\n",
            "Double-checking all components: CPU, Mobo, RAM, GPU, Storage, PSU, Cooling, Case, OS.\n",
            "\n",
            "Any potential bottlenecks? The 7950X and 3090 are top-tier, no bottlenecks. 64GB RAM is more than needed, but user specified. For gaming, even 32GB is plenty, but content creation would use 64GB.\n",
            "\n",
            "Any other components like thermal paste? The AIO comes with pre-applied thermal paste. Extra case fans. Mention additional fans if not included.\n",
            "\n",
            "Total estimated cost: Around $3500-$4000+ depending on parts and region.\n",
            "\n",
            "Conclusion: Compile all the components, ensuring they're compatible and meet the user's requirements. Provide a rationale for each part to explain the choices.\n"
          ]
        }
      ]
    },
    {
      "cell_type": "code",
      "source": [
        "print(\"\\nComputer Specification (JSON Data):\")\n",
        "print(computer_spec.model_dump_json(indent=4))"
      ],
      "metadata": {
        "colab": {
          "base_uri": "https://localhost:8080/"
        },
        "id": "b2XNuJgZ5Z_V",
        "outputId": "2d34961d-8bdd-44f8-fec8-81d0d58f245c"
      },
      "id": "b2XNuJgZ5Z_V",
      "execution_count": 61,
      "outputs": [
        {
          "output_type": "stream",
          "name": "stdout",
          "text": [
            "\n",
            "Computer Specification (JSON Data):\n",
            "{\n",
            "    \"processor\": \"AMD Ryzen 9 7950X 4.5GHz 16-Core (Boost: 5.7GHz)\",\n",
            "    \"memory\": \"64GB G.Skill Trident Z5 RGB DDR5-6000 CL36 (2x32GB)\",\n",
            "    \"storage\": \"Primary: 2TB Samsung 990 Pro NVMe PCIe 4.0 | Secondary: 4TB Crucial P3 Plus NVMe PCIe 4.0\",\n",
            "    \"gpu\": \"ASUS ROG Strix GeForce RTX 3090 OC 24GB GDDR6X\",\n",
            "    \"motherboard\": \"ASUS ROG Crosshair X670E Hero (Wi-Fi 6E, PCIe 5.0)\",\n",
            "    \"cooling\": \"NZXT Kraken Z73 360mm AIO Liquid Cooler\",\n",
            "    \"networking\": \"Motherboard-integrated Wi-Fi 6E | 10G LAN\",\n",
            "    \"ports\": \"USB4 (Type-C), 12x USB 3.2, HDMI 2.1\",\n",
            "    \"os\": \"Windows 11 Home 64-bit (optimized for DirectStorage and gaming)\"\n",
            "}\n"
          ]
        }
      ]
    },
    {
      "cell_type": "markdown",
      "id": "sDoxKlYwDORC",
      "metadata": {
        "id": "sDoxKlYwDORC"
      },
      "source": [
        "# **Conclusion**\n",
        "\n",
        "\n",
        "\n",
        "To learn more, visit [Fireworks AI Docs](https://docs.fireworks.ai) or join our [Discord community](https://discord.gg/fireworks-ai)."
      ]
    }
  ],
  "metadata": {
    "colab": {
      "provenance": []
    },
    "kernelspec": {
      "display_name": "Python 3 (ipykernel)",
      "language": "python",
      "name": "python3"
    },
    "language_info": {
      "codemirror_mode": {
        "name": "ipython",
        "version": 3
      },
      "file_extension": ".py",
      "mimetype": "text/x-python",
      "name": "python",
      "nbconvert_exporter": "python",
      "pygments_lexer": "ipython3",
      "version": "3.12.6"
    }
  },
  "nbformat": 4,
  "nbformat_minor": 5
}