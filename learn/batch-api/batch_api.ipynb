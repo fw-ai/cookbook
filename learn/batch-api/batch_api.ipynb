{
 "cells": [
  {
   "cell_type": "markdown",
   "metadata": {},
   "source": [
    "# Get Started with Batch API\n",
    "\n",
    "In this notebook, you will learn how to:\n",
    "\n",
    "*  Submit a batch processing request to an existing service;\n",
    "*  Check the status and retrieve results of a batch request;\n",
    "\n",
    "Important: The endpoint_id must be compatible with the model type being used. For example, when using the transcription service, if you select endpoint_id audio-turbo, you must use model whisper-v3-turbo. Mismatched configurations will result in processing errors.\n",
    "\n"
   ]
  },
  {
   "cell_type": "markdown",
   "metadata": {},
   "source": [
    "## Install dependencies"
   ]
  },
  {
   "cell_type": "code",
   "execution_count": null,
   "metadata": {},
   "outputs": [],
   "source": [
    "!pip3 install requests"
   ]
  },
  {
   "cell_type": "markdown",
   "metadata": {},
   "source": [
    "## 1. Prepare audio Sample\n",
    "\n",
    "In this example, we will download a pre-recorded audio file and then use it to test the batch inference API with transcription requests."
   ]
  },
  {
   "cell_type": "code",
   "execution_count": null,
   "metadata": {},
   "outputs": [],
   "source": [
    "!curl -L -o \"audio.flac\" \"https://tinyurl.com/4997djsh\""
   ]
  },
  {
   "cell_type": "markdown",
   "metadata": {},
   "source": [
    "## 2. Set up API credentials\n",
    "\n",
    "To use the Fireworks Batch API, you'll need your API key. For security reasons, we'll get it from environment variables.\n",
    "\n",
    "You can set your API key in the notebook by running:"
   ]
  },
  {
   "cell_type": "code",
   "execution_count": null,
   "metadata": {},
   "outputs": [],
   "source": [
    "import os\n",
    "os.environ[\"FIREWORKS_API_KEY\"] = \"your-api-key-here\""
   ]
  },
  {
   "cell_type": "markdown",
   "metadata": {},
   "source": [
    "## 3. Submitting a Batch Processing Request\n",
    "\n",
    "This section demonstrates how to submit a new request to the Batch API.\n",
    "\n",
    "When constructing your request, you'll need to define several parameters. Here are some key ones:\n",
    "\n",
    "*   **`resource_path`**: Specifies the target API operation. Common paths include:\n",
    "    *   `\"v1/audio/transcriptions\"`\n",
    "    *   `\"v1/audio/translations\"`\n",
    "*   **`endpoint_id`**: Identifies the processing endpoint to use (e.g., `\"audio-prod\"`, `\"audio-turbo\"`). Ensure this matches the model type if applicable.\n",
    "*   **`data`**: Contains the configuration specific to the chosen `resource_path`. The required fields and structure are the same as the corresponding synchronous API endpoint.\n"
   ]
  },
  {
   "cell_type": "markdown",
   "metadata": {},
   "source": [
    "\n",
    "The following example demonstrates how to send a batch processing request for the transcription service."
   ]
  },
  {
   "cell_type": "code",
   "execution_count": null,
   "metadata": {},
   "outputs": [],
   "source": [
    "import os\n",
    "import requests\n",
    "\n",
    "\n",
    "# API endpoint configuration\n",
    "API_KEY = os.environ.get(\"FIREWORKS_API_KEY\")\n",
    "BATCH_URL = \"https://batch.us-nevada-1.direct.fireworks.ai/\"\n",
    "# the following setting can be changed\n",
    "AUDIO_FILE_PATH = \"audio.flac\"\n",
    "resource_path = \"v1/audio/transcriptions\"\n",
    "endpoint_id = \"audio-prod\"\n",
    "data = {\"model\": \"whisper-v3\",\n",
    "          \"response_format\": \"verbose_json\",\n",
    "          \"timestamp_granularities\": \"word\",\n",
    "          \"diarize\": \"true\"\n",
    "          }\n",
    "\n",
    "URL = BATCH_URL + resource_path\n",
    "PARAMS = {\"endpoint_id\": endpoint_id}\n",
    "\n",
    "response_batch_id = None\n",
    "\n",
    "try:\n",
    "    # Check if audio file exists\n",
    "    if not os.path.exists(AUDIO_FILE_PATH):\n",
    "        print(f\"Error: Audio file {AUDIO_FILE_PATH} not found.\")\n",
    "    else:\n",
    "        # Prepare the request\n",
    "        files = {\n",
    "            \"file\": open(AUDIO_FILE_PATH, \"rb\"),\n",
    "        }\n",
    "        headers = {\n",
    "            \"Authorization\": API_KEY,\n",
    "        }\n",
    "    \n",
    "        # Send POST request\n",
    "        response = requests.post(URL, files=files, data=data, headers=headers, params=PARAMS)\n",
    "        \n",
    "        # Check if the request was successful\n",
    "        if response.status_code == 200:\n",
    "            result = response.json()\n",
    "            response_batch_id = result.get(\"batch_id\")\n",
    "            print(f\"Batch request successful. Batch ID: {response_batch_id}\")\n",
    "        else:\n",
    "            print(f\"Error: {response.status_code} - {response.text}\")\n",
    "except Exception as e:\n",
    "    print(f\"Error: {str(e)}\")\n"
   ]
  },
  {
   "cell_type": "markdown",
   "metadata": {},
   "source": [
    "## 3. Check Batch Request Status or Results\n",
    "\n",
    "To check the status or retrieve the results of a batch request, you'll need to query the API. Due to confidentiality, each query requires your specific `account_id` and the `batch_id` of the request you want to check.\n",
    "*   `account_id`: Find this on your Fireworks AI account homepage: https://fireworks.ai/account/home\n",
    "*   `batch_id`: This ID was provided in the response when you initially submitted the batch request."
   ]
  },
  {
   "cell_type": "code",
   "execution_count": null,
   "metadata": {},
   "outputs": [],
   "source": [
    "import requests\n",
    "\n",
    "account_id = \"\" # input your account_id here\n",
    "batch_id = response_batch_id # or you can input your own batch_id here\n",
    "url = f\"https://batch.us-nevada-1.direct.fireworks.ai/v1/accounts/{account_id}/batch_job/{batch_id}\"\n",
    "headers = {\"Authorization\": API_KEY}\n",
    "try:\n",
    "    response = requests.get(url, headers=headers)\n",
    "    response.raise_for_status()\n",
    "    print(response.json())  # Pretty-print JSON response\n",
    "except requests.exceptions.RequestException as e:\n",
    "    print(f\"Request failed: {e}\")"
   ]
  },
  {
   "cell_type": "markdown",
   "metadata": {},
   "source": [
    "## Conclusion\n",
    "\n",
    "In this notebook, you learned how to use the Fireworks Batch API to process requests asynchronously. You've seen how to submit batch jobs, check their status, and retrieve results when processing is complete.\n",
    "\n",
    "Explore the community or reach out to us in [discord](https://discord.gg/fireworks-ai)."
   ]
  }
 ],
 "metadata": {
  "language_info": {
   "name": "python"
  }
 },
 "nbformat": 4,
 "nbformat_minor": 2
}
