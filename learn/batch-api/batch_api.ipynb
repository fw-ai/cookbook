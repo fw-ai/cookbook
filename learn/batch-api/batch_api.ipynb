{
 "cells": [
  {
   "cell_type": "markdown",
   "metadata": {},
   "source": [
    "[![Open in Colab](https://colab.research.google.com/assets/colab-badge.svg)](https://colab.research.google.com/github/fw-ai/cookbook/blob/main/learn/batch-api/batch_api.ipynb)"
   ]
  },
  {
   "cell_type": "markdown",
   "metadata": {},
   "source": [
    "# Get Started with Batch API\n",
    "\n",
    "## Introduction\n",
    "\n",
    "The Batch API is designed for asynchronous processing of long-running API tasks by offloading execution and storing results for later retrieval. This architecture is ideal for workloads such as media processing, transcription, translation, and other time-intensive operations that benefit from deferred, non-blocking execution.\n",
    "\n",
    "Clients submit requests synchronously over HTTP, specifying a target endpoint_id and path that define the backend service and API route. The server then processes these requests asynchronously in the background. Clients can check request status at any time and retrieve results once processing is complete. The system is fully endpoint-agnostic, allowing it to seamlessly route and support a wide range of backend services across Fireworks.AI's infrastructure.\n",
    "\n",
    "For more information on Batch API parameters, including endpoint_id, path, and others, please refer to the link below:\n",
    "\n",
    "- [Create Batch Request – Fireworks Docs](https://docs.fireworks.ai/api-reference/create-batch-request)  \n",
    "- [Check Batch Status – Fireworks Docs](https://docs.fireworks.ai/api-reference/get-batch-status)\n",
    "\n",
    "In this notebook, you will learn how to:\n",
    "\n",
    "*  Submit a batch processing request to a backend service;\n",
    "*  Check the status of your request and retrieve the results once processing is complete"
   ]
  },
  {
   "cell_type": "markdown",
   "metadata": {},
   "source": [
    "## Install dependencies"
   ]
  },
  {
   "cell_type": "code",
   "execution_count": null,
   "metadata": {},
   "outputs": [],
   "source": [
    "!pip3 install requests"
   ]
  },
  {
   "cell_type": "markdown",
   "metadata": {},
   "source": [
    "## 1. Prepare audio Sample\n",
    "\n",
    "In this example, we'll download a pre-recorded audio file and use it to test the Batch Inference API with a transcription request."
   ]
  },
  {
   "cell_type": "code",
   "execution_count": null,
   "metadata": {},
   "outputs": [],
   "source": [
    "!curl -L -o \"audio.flac\" \"https://tinyurl.com/4997djsh\""
   ]
  },
  {
   "cell_type": "markdown",
   "metadata": {},
   "source": [
    "## 2. Set up API credentials\n",
    "\n",
    "To use the Fireworks Batch API, you'll need your API key. For security reasons, we'll get it from environment variables.\n",
    "\n",
    "You can set your API key in the notebook by running:"
   ]
  },
  {
   "cell_type": "code",
   "execution_count": null,
   "metadata": {},
   "outputs": [],
   "source": [
    "import os\n",
    "os.environ[\"FIREWORKS_API_KEY\"] = \"your-api-key-here\""
   ]
  },
  {
   "cell_type": "markdown",
   "metadata": {},
   "source": [
    "## 3. Submitting a Batch Processing Request\n",
    "\n",
    "This section demonstrates how to submit a new request to the Batch API for asynchronous processing.\n",
    "\n",
    "When constructing your request, you’ll need to specify the following key parameters:\n",
    "\n",
    "* **`endpoint_id`**: Identifies the target backend service or model to handle the request (e.g., `\"audio-prod\"`, `\"audio-turbo\"`). This must be compatible with the selected operation or model type. You can refer to the [official documentation](https://docs.fireworks.ai/api-reference/create-batch-request) for a complete list of supported `endpoint_id`s and their corresponding services.\n",
    "\n",
    "* **`path`**: The relative route of the target API operation (e.g., `\"v1/audio/transcriptions\"`, `\"v1/audio/translations\"`). This should correspond to a valid route supported by the backend service.\n",
    "\n",
    "* **`payload`**: Contains the input data and configuration specific to the selected API route. Its structure should match the schema expected by the corresponding synchronous API.\n",
    "\n"
   ]
  },
  {
   "cell_type": "markdown",
   "metadata": {},
   "source": [
    "\n",
    "The following example demonstrates how to send a batch processing request for the transcription service."
   ]
  },
  {
   "cell_type": "code",
   "execution_count": null,
   "metadata": {},
   "outputs": [],
   "source": [
    "import os\n",
    "import requests\n",
    "\n",
    "# === [Required by User] Define your input ===\n",
    "audio_file_path = \"audio.flac\"\n",
    "resource_path = \"v1/audio/transcriptions\"\n",
    "endpoint_id = \"audio-prod\"\n",
    "payload = {\n",
    "    \"model\": \"whisper-v3\",\n",
    "    \"response_format\": \"verbose_json\",\n",
    "    \"timestamp_granularities\": \"word\",\n",
    "    \"diarize\": \"true\"\n",
    "}\n",
    "\n",
    "# === [Environment and system settings] ===\n",
    "api_key = os.environ.get(\"FIREWORKS_API_KEY\")\n",
    "batch_url = \"https://batch.us-nevada-1.direct.fireworks.ai/\"\n",
    "url = batch_url + resource_path\n",
    "params = {\"endpoint_id\": endpoint_id}\n",
    "\n",
    "# === [Execution logic] Submit request and handle response ===\n",
    "\n",
    "try:\n",
    "    if not os.path.exists(audio_file_path):\n",
    "        print(f\"Error: Audio file '{audio_file_path}' not found.\")\n",
    "    else:\n",
    "        files = {\"file\": open(audio_file_path, \"rb\")}\n",
    "        headers = {\"Authorization\": api_key}\n",
    "\n",
    "        response = requests.post(\n",
    "            url,\n",
    "            files=files,\n",
    "            data=payload,\n",
    "            headers=headers,\n",
    "            params=params\n",
    "        )\n",
    "\n",
    "        if response.status_code == 200:\n",
    "            result = response.json()\n",
    "            batch_id = result.get(\"batch_id\")\n",
    "            print(f\"Batch request successful. Batch ID: {batch_id}\")\n",
    "        else:\n",
    "            print(f\"Error: {response.status_code} - {response.text}\")\n",
    "\n",
    "except Exception as e:\n",
    "    print(f\"Unexpected error: {str(e)}\")\n",
    "\n"
   ]
  },
  {
   "cell_type": "markdown",
   "metadata": {},
   "source": [
    "## 4. Check Batch Request Status or Retrieve Results\n",
    "\n",
    "To check the status or retrieve the results of a batch request, you’ll need to query the Batch API using your unique identifiers. Each request must include:\n",
    "\n",
    "- **`account_id`**: This can be found on your [Fireworks AI account homepage](https://fireworks.ai/account/home)\n",
    "\n",
    "- **`batch_id`**: This was returned in the response when you initially submitted the batch request"
   ]
  },
  {
   "cell_type": "code",
   "execution_count": null,
   "metadata": {},
   "outputs": [],
   "source": [
    "import os\n",
    "import requests\n",
    "import json\n",
    "\n",
    "# === [Required by User] Define your input ===\n",
    "account_id = \"<your_account_id>\"\n",
    "batch_id = \"<your_batch_id>\"\n",
    "\n",
    "# === [System constants] ===\n",
    "api_key = os.environ.get(\"FIREWORKS_API_KEY\")\n",
    "url = f\"https://batch.us-nevada-1.direct.fireworks.ai/v1/accounts/{account_id}/batch_job/{batch_id}\"\n",
    "headers = {\"Authorization\": api_key}\n",
    "\n",
    "# === [Request] Fetch batch status or result ===\n",
    "try:\n",
    "    response = requests.get(url, headers=headers)\n",
    "    response.raise_for_status()\n",
    "\n",
    "    result = response.json()\n",
    "    print(\"Batch Status:\", result.get(\"status\"))\n",
    "    print(\"Full Response:\")\n",
    "    print(json.dumps(result, indent=2))\n",
    "\n",
    "except requests.exceptions.RequestException as e:\n",
    "    print(f\"Request failed: {e}\")"
   ]
  },
  {
   "cell_type": "markdown",
   "metadata": {},
   "source": [
    "## Conclusion\n",
    "\n",
    "In this notebook, you learned how to use the Fireworks.AI Batch API to process long-running requests asynchronously.\n",
    "We covered how to submit batch jobs, check their status, and retrieve results once processing is complete.\n",
    "\n",
    "This approach is especially useful for tasks such as transcription, translation, and other media-related workloads that benefit from deferred execution.\n",
    "\n",
    "For more information, see:\n",
    "\n",
    "- [Create Batch Request – Fireworks Docs](https://docs.fireworks.ai/api-reference/create-batch-request)  \n",
    "- [Check Batch Status – Fireworks Docs](https://docs.fireworks.ai/api-reference/get-batch-status)\n",
    "\n",
    "Explore the community or reach out to us in [discord](https://discord.gg/fireworks-ai)."
   ]
  }
 ],
 "metadata": {
  "language_info": {
   "name": "python"
  }
 },
 "nbformat": 4,
 "nbformat_minor": 2
}
