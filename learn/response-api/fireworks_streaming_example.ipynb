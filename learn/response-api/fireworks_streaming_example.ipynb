{
 "cells": [
  {
   "cell_type": "code",
   "execution_count": 1,
   "id": "9f0432c3-72b7-4ce0-9150-5168c142bd70",
   "metadata": {},
   "outputs": [
    {
     "name": "stdout",
     "output_type": "stream",
     "text": [
      "Requirement already satisfied: openai in /Library/Frameworks/Python.framework/Versions/3.10/lib/python3.10/site-packages (1.86.0)\n",
      "Requirement already satisfied: anyio<5,>=3.5.0 in /Library/Frameworks/Python.framework/Versions/3.10/lib/python3.10/site-packages (from openai) (4.9.0)\n",
      "Requirement already satisfied: distro<2,>=1.7.0 in /Library/Frameworks/Python.framework/Versions/3.10/lib/python3.10/site-packages (from openai) (1.9.0)\n",
      "Requirement already satisfied: httpx<1,>=0.23.0 in /Library/Frameworks/Python.framework/Versions/3.10/lib/python3.10/site-packages (from openai) (0.27.2)\n",
      "Requirement already satisfied: jiter<1,>=0.4.0 in /Library/Frameworks/Python.framework/Versions/3.10/lib/python3.10/site-packages (from openai) (0.10.0)\n",
      "Requirement already satisfied: pydantic<3,>=1.9.0 in /Library/Frameworks/Python.framework/Versions/3.10/lib/python3.10/site-packages (from openai) (2.9.2)\n",
      "Requirement already satisfied: sniffio in /Library/Frameworks/Python.framework/Versions/3.10/lib/python3.10/site-packages (from openai) (1.3.1)\n",
      "Requirement already satisfied: tqdm>4 in /Library/Frameworks/Python.framework/Versions/3.10/lib/python3.10/site-packages (from openai) (4.66.5)\n",
      "Requirement already satisfied: typing-extensions<5,>=4.11 in /Library/Frameworks/Python.framework/Versions/3.10/lib/python3.10/site-packages (from openai) (4.12.2)\n",
      "Requirement already satisfied: exceptiongroup>=1.0.2 in /Library/Frameworks/Python.framework/Versions/3.10/lib/python3.10/site-packages (from anyio<5,>=3.5.0->openai) (1.2.2)\n",
      "Requirement already satisfied: idna>=2.8 in /Library/Frameworks/Python.framework/Versions/3.10/lib/python3.10/site-packages (from anyio<5,>=3.5.0->openai) (3.10)\n",
      "Requirement already satisfied: certifi in /Library/Frameworks/Python.framework/Versions/3.10/lib/python3.10/site-packages (from httpx<1,>=0.23.0->openai) (2024.8.30)\n",
      "Requirement already satisfied: httpcore==1.* in /Library/Frameworks/Python.framework/Versions/3.10/lib/python3.10/site-packages (from httpx<1,>=0.23.0->openai) (1.0.6)\n",
      "Requirement already satisfied: h11<0.15,>=0.13 in /Library/Frameworks/Python.framework/Versions/3.10/lib/python3.10/site-packages (from httpcore==1.*->httpx<1,>=0.23.0->openai) (0.14.0)\n",
      "Requirement already satisfied: annotated-types>=0.6.0 in /Library/Frameworks/Python.framework/Versions/3.10/lib/python3.10/site-packages (from pydantic<3,>=1.9.0->openai) (0.7.0)\n",
      "Requirement already satisfied: pydantic-core==2.23.4 in /Library/Frameworks/Python.framework/Versions/3.10/lib/python3.10/site-packages (from pydantic<3,>=1.9.0->openai) (2.23.4)\n",
      "\n",
      "\u001b[1m[\u001b[0m\u001b[34;49mnotice\u001b[0m\u001b[1;39;49m]\u001b[0m\u001b[39;49m A new release of pip is available: \u001b[0m\u001b[31;49m24.2\u001b[0m\u001b[39;49m -> \u001b[0m\u001b[32;49m25.1.1\u001b[0m\n",
      "\u001b[1m[\u001b[0m\u001b[34;49mnotice\u001b[0m\u001b[1;39;49m]\u001b[0m\u001b[39;49m To update, run: \u001b[0m\u001b[32;49mpip install --upgrade pip\u001b[0m\n"
     ]
    }
   ],
   "source": [
    "# pip install all the dependencies\n",
    "!pip install openai"
   ]
  },
  {
   "cell_type": "code",
   "execution_count": 4,
   "id": "57273129-1409-4b54-8b2d-e09edac74e7f",
   "metadata": {},
   "outputs": [
    {
     "name": "stdout",
     "output_type": "stream",
     "text": [
      "✅ Fireworks client initialized!\n",
      "Base URL: https://api.fireworks.ai/inference/v1/\n",
      "✅ Successfully connected to Fireworks API!\n",
      "Found 28 available models\n"
     ]
    }
   ],
   "source": [
    "# Setup and Installation\n",
    "import os\n",
    "from openai import OpenAI\n",
    "import json\n",
    "from pprint import pprint\n",
    "\n",
    "# First, let's install the required packages\n",
    "# !pip install openai\n",
    "\n",
    "# Initialize the Fireworks client\n",
    "client = OpenAI(\n",
    "    base_url=\"https://api.fireworks.ai/inference/v1\",\n",
    "    api_key=os.getenv(\"FIREWORKS_API_KEY\", \"Enter your api key here\")\n",
    ")\n",
    "\n",
    "print(\"✅ Fireworks client initialized!\")\n",
    "print(f\"Base URL: {client.base_url}\")\n",
    "\n",
    "# Verify we can connect to the API\n",
    "try:\n",
    "    models = client.models.list()\n",
    "    print(f\"✅ Successfully connected to Fireworks API!\")\n",
    "    print(f\"Found {len(models.data)} available models\")\n",
    "except Exception as e:\n",
    "    print(f\"❌ Error connecting to Fireworks API: {e}\")\n",
    "    print(\"Please check your FIREWORKS_API_KEY environment variable\")"
   ]
  },
  {
   "cell_type": "code",
   "execution_count": 11,
   "id": "95b56a77-f2a8-432c-a292-5a65d0acb5ca",
   "metadata": {},
   "outputs": [
    {
     "name": "stdout",
     "output_type": "stream",
     "text": [
      "🌻 20-word poem about a sunflower:\n",
      "============================================================\n",
      "ResponseCreatedEvent(response=Response(id='resp_33e3f57dd17e449690a44903430ab192', created_at=1750216721.0, error=None, incomplete_details=None, instructions=None, metadata={}, model='accounts/fireworks/models/llama-v3p1-8b-instruct', object='response', output=[], parallel_tool_calls=True, temperature=1.0, tool_choice='auto', tools=[], top_p=1.0, background=None, max_output_tokens=None, previous_response_id=None, reasoning=None, service_tier=None, status='in_progress', text=None, truncation='disabled', usage=None, user=None, store=True), sequence_number=0, type='response.created')\n",
      "ResponseInProgressEvent(response=Response(id='resp_33e3f57dd17e449690a44903430ab192', created_at=1750216721.0, error=None, incomplete_details=None, instructions=None, metadata={}, model='accounts/fireworks/models/llama-v3p1-8b-instruct', object='response', output=[], parallel_tool_calls=True, temperature=1.0, tool_choice='auto', tools=[], top_p=1.0, background=None, max_output_tokens=None, previous_response_id=None, reasoning=None, service_tier=None, status='in_progress', text=None, truncation='disabled', usage=None, user=None, store=True), sequence_number=1, type='response.in_progress')\n",
      "ResponseOutputItemAddedEvent(item=ResponseOutputMessage(id='msg_b9061182b68143d791dd6144cfea8e02', content=[], role='assistant', status='in_progress', type='message', function=None, mcp=None), output_index=0, sequence_number=2, type='response.output_item.added')\n",
      "ResponseContentPartAddedEvent(content_index=0, item_id='msg_b9061182b68143d791dd6144cfea8e02', output_index=0, part=ResponseOutputText(annotations=None, text='', type='output_text', logprobs=None), sequence_number=3, type='response.content_part.added')\n",
      "ResponseTextDeltaEvent(content_index=0, delta=\"Here's\", item_id='msg_b9061182b68143d791dd6144cfea8e02', output_index=0, sequence_number=4, type='response.output_text.delta')\n",
      "ResponseTextDeltaEvent(content_index=0, delta=' a 20', item_id='msg_b9061182b68143d791dd6144cfea8e02', output_index=0, sequence_number=5, type='response.output_text.delta')\n",
      "ResponseTextDeltaEvent(content_index=0, delta='-word poem', item_id='msg_b9061182b68143d791dd6144cfea8e02', output_index=0, sequence_number=6, type='response.output_text.delta')\n",
      "ResponseTextDeltaEvent(content_index=0, delta=' about a sun', item_id='msg_b9061182b68143d791dd6144cfea8e02', output_index=0, sequence_number=7, type='response.output_text.delta')\n",
      "ResponseTextDeltaEvent(content_index=0, delta='flower, one word at a', item_id='msg_b9061182b68143d791dd6144cfea8e02', output_index=0, sequence_number=8, type='response.output_text.delta')\n",
      "ResponseTextDeltaEvent(content_index=0, delta=' time:\\n\\n1. Towering', item_id='msg_b9061182b68143d791dd6144cfea8e02', output_index=0, sequence_number=9, type='response.output_text.delta')\n",
      "ResponseTextDeltaEvent(content_index=0, delta='\\n2. yellow\\n3. petals\\n4. unfold\\n5', item_id='msg_b9061182b68143d791dd6144cfea8e02', output_index=0, sequence_number=10, type='response.output_text.delta')\n",
      "ResponseTextDeltaEvent(content_index=0, delta='. like\\n6. trumpets\\n7. stretching\\n8. towards\\n', item_id='msg_b9061182b68143d791dd6144cfea8e02', output_index=0, sequence_number=11, type='response.output_text.delta')\n",
      "ResponseTextDeltaEvent(content_index=0, delta='9. radiant\\n10. sunbeams\\n11. drinking\\n12.', item_id='msg_b9061182b68143d791dd6144cfea8e02', output_index=0, sequence_number=12, type='response.output_text.delta')\n",
      "ResponseTextDeltaEvent(content_index=0, delta=' in\\n13. pure\\n14. golden\\n15. light\\n16.', item_id='msg_b9061182b68143d791dd6144cfea8e02', output_index=0, sequence_number=13, type='response.output_text.delta')\n",
      "ResponseTextDeltaEvent(content_index=0, delta=' that\\n17. nourishes\\n18. its\\n19. vibrant\\n20', item_id='msg_b9061182b68143d791dd6144cfea8e02', output_index=0, sequence_number=14, type='response.output_text.delta')\n",
      "ResponseTextDeltaEvent(content_index=0, delta='. spirit.', item_id='msg_b9061182b68143d791dd6144cfea8e02', output_index=0, sequence_number=15, type='response.output_text.delta')\n",
      "ResponseTextDoneEvent(content_index=0, item_id='msg_b9061182b68143d791dd6144cfea8e02', output_index=0, sequence_number=16, text=\"Here's a 20-word poem about a sunflower, one word at a time:\\n\\n1. Towering\\n2. yellow\\n3. petals\\n4. unfold\\n5. like\\n6. trumpets\\n7. stretching\\n8. towards\\n9. radiant\\n10. sunbeams\\n11. drinking\\n12. in\\n13. pure\\n14. golden\\n15. light\\n16. that\\n17. nourishes\\n18. its\\n19. vibrant\\n20. spirit.\", type='response.output_text.done')\n",
      "ResponseContentPartDoneEvent(content_index=0, item_id='msg_b9061182b68143d791dd6144cfea8e02', output_index=0, part=ResponseOutputText(annotations=None, text=\"Here's a 20-word poem about a sunflower, one word at a time:\\n\\n1. Towering\\n2. yellow\\n3. petals\\n4. unfold\\n5. like\\n6. trumpets\\n7. stretching\\n8. towards\\n9. radiant\\n10. sunbeams\\n11. drinking\\n12. in\\n13. pure\\n14. golden\\n15. light\\n16. that\\n17. nourishes\\n18. its\\n19. vibrant\\n20. spirit.\", type='output_text', logprobs=None), sequence_number=17, type='response.content_part.done')\n",
      "ResponseOutputItemDoneEvent(item=ResponseOutputMessage(id='msg_b9061182b68143d791dd6144cfea8e02', content=[ResponseOutputText(annotations=None, text=\"Here's a 20-word poem about a sunflower, one word at a time:\\n\\n1. Towering\\n2. yellow\\n3. petals\\n4. unfold\\n5. like\\n6. trumpets\\n7. stretching\\n8. towards\\n9. radiant\\n10. sunbeams\\n11. drinking\\n12. in\\n13. pure\\n14. golden\\n15. light\\n16. that\\n17. nourishes\\n18. its\\n19. vibrant\\n20. spirit.\", type='output_text', logprobs=None)], role='assistant', status='completed', type='message', function=None, mcp=None), output_index=0, sequence_number=18, type='response.output_item.done')\n",
      "ResponseCompletedEvent(response=Response(id='resp_33e3f57dd17e449690a44903430ab192', created_at=1750216722.0, error=None, incomplete_details=None, instructions=None, metadata={}, model='accounts/fireworks/models/llama-v3p1-8b-instruct', object='response', output=[ResponseOutputMessage(id='msg_b9061182b68143d791dd6144cfea8e02', content=[ResponseOutputText(annotations=None, text=\"Here's a 20-word poem about a sunflower, one word at a time:\\n\\n1. Towering\\n2. yellow\\n3. petals\\n4. unfold\\n5. like\\n6. trumpets\\n7. stretching\\n8. towards\\n9. radiant\\n10. sunbeams\\n11. drinking\\n12. in\\n13. pure\\n14. golden\\n15. light\\n16. that\\n17. nourishes\\n18. its\\n19. vibrant\\n20. spirit.\", type='output_text', logprobs=None)], role='assistant', status='completed', type='message')], parallel_tool_calls=True, temperature=1.0, tool_choice='auto', tools=[], top_p=1.0, background=None, max_output_tokens=None, previous_response_id=None, reasoning=None, service_tier=None, status='completed', text=None, truncation='disabled', usage=ResponseUsage(input_tokens=None, input_tokens_details=None, output_tokens=None, output_tokens_details=None, total_tokens=131, prompt_tokens=27, completion_tokens=104), user=None, store=True), sequence_number=19, type='response.completed')\n",
      "============================================================\n"
     ]
    }
   ],
   "source": [
    "\n",
    "# First call: ask for 5 interesting facts\n",
    "print(\"🌻 20-word poem about a sunflower:\")\n",
    "print(\"=\" * 60)\n",
    "\n",
    "first_stream = client.responses.create(\n",
    "    model=\"accounts/fireworks/models/llama-v3p1-8b-instruct\",\n",
    "    input=\"Write a 20-word poem about a sunflower, one word at a time.\",\n",
    "    stream=True\n",
    ")\n",
    "\n",
    "# Print each event object as it arrives\n",
    "first_response_id = None\n",
    "\n",
    "for chunk in first_stream:\n",
    "    print(chunk)  # This will print the full event object\n",
    "    \n",
    "    # Still capture response ID for follow-up\n",
    "    if hasattr(chunk, 'response') and chunk.response and chunk.response.id:\n",
    "        first_response_id = chunk.response.id\n",
    "\n",
    "print(\"=\" * 60)"
   ]
  },
  {
   "cell_type": "code",
   "execution_count": null,
   "id": "cacc53ed-5b39-4e10-92a3-695aa2d96370",
   "metadata": {},
   "outputs": [],
   "source": []
  }
 ],
 "metadata": {
  "kernelspec": {
   "display_name": "Python 3 (ipykernel)",
   "language": "python",
   "name": "python3"
  },
  "language_info": {
   "codemirror_mode": {
    "name": "ipython",
    "version": 3
   },
   "file_extension": ".py",
   "mimetype": "text/x-python",
   "name": "python",
   "nbconvert_exporter": "python",
   "pygments_lexer": "ipython3",
   "version": "3.10.11"
  }
 },
 "nbformat": 4,
 "nbformat_minor": 5
}
