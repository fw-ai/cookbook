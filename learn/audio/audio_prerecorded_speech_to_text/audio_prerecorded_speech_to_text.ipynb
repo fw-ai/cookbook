{
  "cells": [
    {
      "cell_type": "markdown",
      "id": "d2a32163",
      "metadata": {},
      "source": [
        "[![Open in Colab](https://colab.research.google.com/assets/colab-badge.svg)](https://colab.research.google.com/github/fw-ai/cookbook/blob/main/learn/audio/audio_streaming_speech_to_text/audio_streaming_speech_to_text.ipynb)"
      ]
    },
    {
      "cell_type": "markdown",
      "id": "71a43144",
      "metadata": {
        "id": "71a43144"
      },
      "source": [
        "# Get Started with Prerecorded Speech-to-Text\n",
        "\n",
        "In this notebook, you will learn how to transcribe prerecorded audio using Fireworks Prerecorded Speech-to-Text API."
      ]
    },
    {
      "cell_type": "markdown",
      "id": "9c8f3392",
      "metadata": {},
      "source": [
        "## Install dependencies\n",
        "\n"
      ]
    },
    {
      "cell_type": "code",
      "execution_count": null,
      "id": "bdd35b36",
      "metadata": {},
      "outputs": [],
      "source": [
        "!pip3 install requests"
      ]
    },
    {
      "cell_type": "markdown",
      "id": "7ced89a3",
      "metadata": {},
      "source": [
        "## 1. Download audio\n",
        "\n",
        "In this example, we will download a public pre-recorded audio file. "
      ]
    },
    {
      "cell_type": "code",
      "execution_count": null,
      "id": "YYRdRzHuHkjz",
      "metadata": {
        "colab": {
          "base_uri": "https://localhost:8080/"
        },
        "id": "YYRdRzHuHkjz",
        "outputId": "c497ab98-5b58-44cc-e1ef-3a67c65a4e7e"
      },
      "outputs": [],
      "source": [
        "import requests\n",
        "\n",
        "response = requests.get(\"https://storage.googleapis.com/fireworks-public/test/30s.flac\")\n",
        "audio_bytes = response.content\n",
        "print(f\"Downloaded audio file size: {len(audio_bytes)} bytes\")"
      ]
    },
    {
      "cell_type": "markdown",
      "id": "sV4u2hezqV4X",
      "metadata": {
        "id": "sV4u2hezqV4X"
      },
      "source": [
        "## 2. Call API"
      ]
    },
    {
      "cell_type": "code",
      "execution_count": null,
      "id": "8f93fe37",
      "metadata": {},
      "outputs": [],
      "source": [
        "import json\n",
        "import time\n",
        "from google.colab import userdata\n",
        "\n",
        "\n",
        "URL = \"https://audio-prod.us-virginia-1.direct.fireworks.ai/v1/audio/transcriptions\"\n",
        "FIREWORKS_API_KEY = userdata.get(\"FIREWORKS_API_KEY\")\n",
        "\n",
        "def call_api():\n",
        "    headers = {\n",
        "        \"Authorization\": f\"Bearer {FIREWORKS_API_KEY}\",\n",
        "    }\n",
        "    files = {\n",
        "        \"file\": (\"audio.flac\", audio_bytes),\n",
        "        \"model\": (None, \"whisper-v3\"),\n",
        "        \"language\": (None, \"en\"),\n",
        "        \"response_format\": (None, \"verbose_json\"),\n",
        "        \"timestamp_granularities[]\": (None, \"word,segment\"),\n",
        "        \"diarize\": (None, \"true\"),\n",
        "    }\n",
        "    start = time.time()\n",
        "    response = requests.post(URL, headers=headers, files=files)\n",
        "    if response.status_code == 200:\n",
        "        took = time.time() - start\n",
        "        text = response.json()\n",
        "        print(f\"Request took {took:.2f}s.\\nText: {json.dumps(text, indent=2)}\")\n",
        "    else:\n",
        "        print(f\"Request failed {response.status_code}: {response.text}\")\n",
        "\n",
        "call_api()"
      ]
    },
    {
      "cell_type": "markdown",
      "id": "sDoxKlYwDORC",
      "metadata": {
        "id": "sDoxKlYwDORC"
      },
      "source": [
        "## Conclusion\n",
        "\n",
        "In this notebook, you learned how to transcribe a prerecorded audio using fireworks API.\n",
        "\n",
        "For more information visit [docs.fireworks.ai](https://docs.fireworks.ai/api-reference/audio-transcriptions).\n",
        "\n",
        "Explore the community or reach out to us in [discord](https://discord.gg/fireworks-ai)."
      ]
    }
  ],
  "metadata": {
    "colab": {
      "provenance": [],
      "toc_visible": true
    },
    "kernelspec": {
      "display_name": "Python 3",
      "language": "python",
      "name": "python3"
    },
    "language_info": {
      "codemirror_mode": {
        "name": "ipython",
        "version": 3
      },
      "file_extension": ".py",
      "mimetype": "text/x-python",
      "name": "python",
      "nbconvert_exporter": "python",
      "pygments_lexer": "ipython3",
      "version": "3.12.3"
    }
  },
  "nbformat": 4,
  "nbformat_minor": 5
}
