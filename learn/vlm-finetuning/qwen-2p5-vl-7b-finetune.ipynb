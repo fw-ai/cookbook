{
 "cells": [
  {
   "cell_type": "markdown",
   "metadata": {},
   "source": [
    "# How to Finetune Qwen 2.5 VL 7B and deploy to fireworks\n",
    "\n",
    "### Pre-requisites\n",
    "- 1 H100 GPU\n",
    "  - Should work on 1 A100 GPU as well\n",
    "- python"
   ]
  },
  {
   "cell_type": "code",
   "execution_count": 9,
   "metadata": {},
   "outputs": [
    {
     "name": "stdout",
     "output_type": "stream",
     "text": [
      "Collecting uv\n",
      "  Using cached uv-0.7.3-py3-none-macosx_11_0_arm64.whl.metadata (11 kB)\n",
      "Using cached uv-0.7.3-py3-none-macosx_11_0_arm64.whl (15.6 MB)\n",
      "Installing collected packages: uv\n",
      "Successfully installed uv-0.7.3\n",
      "Note: you may need to restart the kernel to use updated packages.\n",
      "\u001b[2mUsing Python 3.10.16 environment at: /Users/aidando/miniconda3/envs/finetune-env-3\u001b[0m\n",
      "\u001b[2mAudited \u001b[1m3 packages\u001b[0m \u001b[2min 41ms\u001b[0m\u001b[0m\n",
      "Note: you may need to restart the kernel to use updated packages.\n"
     ]
    }
   ],
   "source": [
    "# Install dependencies\n",
    "%pip install uv\n",
    "%uv pip install datasets pillow scikit-learn"
   ]
  },
  {
   "cell_type": "markdown",
   "metadata": {},
   "source": [
    "In this example we'll fine-tune a model to classify apparel whether it's a shirt, pants, shoe, watches etc.\n",
    "\n",
    "We'll use the [Fashion Product Images (Small)](https://www.kaggle.com/datasets/paramaggarwal/fashion-product-images-small) dataset to do this. We'll use only 500 rows for the train set, 100 rows for the test set, and 100 rows for validation to demonstrate you don't need a huge amount of data to get results with fine-tuning."
   ]
  },
  {
   "cell_type": "code",
   "execution_count": 10,
   "metadata": {},
   "outputs": [
    {
     "data": {
      "text/plain": [
       "{'id': 15970,\n",
       " 'gender': 'Men',\n",
       " 'masterCategory': 'Apparel',\n",
       " 'subCategory': 'Topwear',\n",
       " 'articleType': 'Shirts',\n",
       " 'baseColour': 'Navy Blue',\n",
       " 'season': 'Fall',\n",
       " 'year': 2011.0,\n",
       " 'usage': 'Casual',\n",
       " 'productDisplayName': 'Turtle Check Men Navy Blue Shirt',\n",
       " 'image': <PIL.JpegImagePlugin.JpegImageFile image mode=RGB size=60x80>}"
      ]
     },
     "metadata": {},
     "output_type": "display_data"
    },
    {
     "data": {
      "image/jpeg": "[encoded data removed]",
      "image/png": "[encoded data removed]",
      "text/plain": [
       "<PIL.JpegImagePlugin.JpegImageFile image mode=RGB size=60x80>"
      ]
     },
     "execution_count": 10,
     "metadata": {},
     "output_type": "execute_result"
    }
   ],
   "source": [
    "# Load dataset\n",
    "from datasets import load_dataset\n",
    "from IPython.display import display\n",
    "\n",
    "dataset = load_dataset(\"ashraq/fashion-product-images-small\")\n",
    "\n",
    "# Sample a random row\n",
    "display(dataset[\"train\"][0])\n",
    "dataset[\"train\"][0]['image']"
   ]
  },
  {
   "cell_type": "code",
   "execution_count": 13,
   "metadata": {},
   "outputs": [
    {
     "name": "stdout",
     "output_type": "stream",
     "text": [
      "Original dataset size: 44072\n"
     ]
    },
    {
     "data": {
      "text/html": [
       "<div>\n",
       "<style scoped>\n",
       "    .dataframe tbody tr th:only-of-type {\n",
       "        vertical-align: middle;\n",
       "    }\n",
       "\n",
       "    .dataframe tbody tr th {\n",
       "        vertical-align: top;\n",
       "    }\n",
       "\n",
       "    .dataframe thead th {\n",
       "        text-align: right;\n",
       "    }\n",
       "</style>\n",
       "<table border=\"1\" class=\"dataframe\">\n",
       "  <thead>\n",
       "    <tr style=\"text-align: right;\">\n",
       "      <th></th>\n",
       "      <th>id</th>\n",
       "      <th>gender</th>\n",
       "      <th>masterCategory</th>\n",
       "      <th>subCategory</th>\n",
       "      <th>articleType</th>\n",
       "      <th>baseColour</th>\n",
       "      <th>season</th>\n",
       "      <th>year</th>\n",
       "      <th>usage</th>\n",
       "      <th>productDisplayName</th>\n",
       "      <th>image</th>\n",
       "    </tr>\n",
       "  </thead>\n",
       "  <tbody>\n",
       "    <tr>\n",
       "      <th>23665</th>\n",
       "      <td>4712</td>\n",
       "      <td>Unisex</td>\n",
       "      <td>Accessories</td>\n",
       "      <td>Watches</td>\n",
       "      <td>Watches</td>\n",
       "      <td>Black</td>\n",
       "      <td>Winter</td>\n",
       "      <td>2016.0</td>\n",
       "      <td>Sports</td>\n",
       "      <td>ADIDAS Unisex Cambridge Analogue Black Dial Watch</td>\n",
       "      <td>&lt;PIL.Image.Image image mode=RGB size=60x80 at ...</td>\n",
       "    </tr>\n",
       "    <tr>\n",
       "      <th>25543</th>\n",
       "      <td>10495</td>\n",
       "      <td>Women</td>\n",
       "      <td>Apparel</td>\n",
       "      <td>Topwear</td>\n",
       "      <td>Shirts</td>\n",
       "      <td>Blue</td>\n",
       "      <td>Fall</td>\n",
       "      <td>2011.0</td>\n",
       "      <td>Casual</td>\n",
       "      <td>Flying Machine Women HS Blue Shirt</td>\n",
       "      <td>&lt;PIL.JpegImagePlugin.JpegImageFile image mode=...</td>\n",
       "    </tr>\n",
       "    <tr>\n",
       "      <th>31934</th>\n",
       "      <td>49924</td>\n",
       "      <td>Women</td>\n",
       "      <td>Apparel</td>\n",
       "      <td>Saree</td>\n",
       "      <td>Sarees</td>\n",
       "      <td>Green</td>\n",
       "      <td>Fall</td>\n",
       "      <td>2012.0</td>\n",
       "      <td>Ethnic</td>\n",
       "      <td>Fabindia Green Maheshwari Maheshwari Zari Saree</td>\n",
       "      <td>&lt;PIL.Image.Image image mode=RGB size=60x80 at ...</td>\n",
       "    </tr>\n",
       "    <tr>\n",
       "      <th>40422</th>\n",
       "      <td>42669</td>\n",
       "      <td>Women</td>\n",
       "      <td>Apparel</td>\n",
       "      <td>Topwear</td>\n",
       "      <td>Kurtas</td>\n",
       "      <td>Black</td>\n",
       "      <td>Summer</td>\n",
       "      <td>2012.0</td>\n",
       "      <td>Ethnic</td>\n",
       "      <td>Alma Women Black &amp; White Kurta</td>\n",
       "      <td>&lt;PIL.JpegImagePlugin.JpegImageFile image mode=...</td>\n",
       "    </tr>\n",
       "    <tr>\n",
       "      <th>40669</th>\n",
       "      <td>21304</td>\n",
       "      <td>Women</td>\n",
       "      <td>Accessories</td>\n",
       "      <td>Eyewear</td>\n",
       "      <td>Sunglasses</td>\n",
       "      <td>Brown</td>\n",
       "      <td>Winter</td>\n",
       "      <td>2016.0</td>\n",
       "      <td>Casual</td>\n",
       "      <td>Celine Dion Women Brown Frame Sunglasses</td>\n",
       "      <td>&lt;PIL.Image.Image image mode=RGB size=60x80 at ...</td>\n",
       "    </tr>\n",
       "  </tbody>\n",
       "</table>\n",
       "</div>"
      ],
      "text/plain": [
       "          id  gender masterCategory subCategory articleType baseColour  \\\n",
       "23665   4712  Unisex    Accessories     Watches     Watches      Black   \n",
       "25543  10495   Women        Apparel     Topwear      Shirts       Blue   \n",
       "31934  49924   Women        Apparel       Saree      Sarees      Green   \n",
       "40422  42669   Women        Apparel     Topwear      Kurtas      Black   \n",
       "40669  21304   Women    Accessories     Eyewear  Sunglasses      Brown   \n",
       "\n",
       "       season    year   usage  \\\n",
       "23665  Winter  2016.0  Sports   \n",
       "25543    Fall  2011.0  Casual   \n",
       "31934    Fall  2012.0  Ethnic   \n",
       "40422  Summer  2012.0  Ethnic   \n",
       "40669  Winter  2016.0  Casual   \n",
       "\n",
       "                                      productDisplayName  \\\n",
       "23665  ADIDAS Unisex Cambridge Analogue Black Dial Watch   \n",
       "25543                 Flying Machine Women HS Blue Shirt   \n",
       "31934    Fabindia Green Maheshwari Maheshwari Zari Saree   \n",
       "40422                     Alma Women Black & White Kurta   \n",
       "40669           Celine Dion Women Brown Frame Sunglasses   \n",
       "\n",
       "                                                   image  \n",
       "23665  <PIL.Image.Image image mode=RGB size=60x80 at ...  \n",
       "25543  <PIL.JpegImagePlugin.JpegImageFile image mode=...  \n",
       "31934  <PIL.Image.Image image mode=RGB size=60x80 at ...  \n",
       "40422  <PIL.JpegImagePlugin.JpegImageFile image mode=...  \n",
       "40669  <PIL.Image.Image image mode=RGB size=60x80 at ...  "
      ]
     },
     "execution_count": 13,
     "metadata": {},
     "output_type": "execute_result"
    }
   ],
   "source": [
    "train_size=500\n",
    "test_size=100\n",
    "val_size=100\n",
    "\n",
    "import pandas as pd\n",
    "import numpy as np\n",
    "\n",
    "# Convert to pandas for easier manipulation\n",
    "df = pd.DataFrame(dataset[\"train\"])\n",
    "print(f\"Original dataset size: {len(df)}\")\n",
    "\n",
    "# Set seed for reproducibility\n",
    "np.random.seed(42)\n",
    "\n",
    "# Simple random sampling\n",
    "sample_df = df.sample(n=700)  # 500 + 100 + 100\n",
    "\n",
    "# Split into train, test, and validation sets\n",
    "train_df = sample_df.iloc[:train_size]\n",
    "test_df = sample_df.iloc[train_size:train_size+test_size]\n",
    "val_df = sample_df.iloc[train_size+test_size:train_size+test_size+val_size]\n",
    "\n",
    "train_df.head()"
   ]
  },
  {
   "cell_type": "code",
   "execution_count": null,
   "metadata": {},
   "outputs": [],
   "source": []
  }
 ],
 "metadata": {
  "kernelspec": {
   "display_name": "finetune-env-3",
   "language": "python",
   "name": "python3"
  },
  "language_info": {
   "codemirror_mode": {
    "name": "ipython",
    "version": 3
   },
   "file_extension": ".py",
   "mimetype": "text/x-python",
   "name": "python",
   "nbconvert_exporter": "python",
   "pygments_lexer": "ipython3",
   "version": "3.10.16"
  }
 },
 "nbformat": 4,
 "nbformat_minor": 2
}
