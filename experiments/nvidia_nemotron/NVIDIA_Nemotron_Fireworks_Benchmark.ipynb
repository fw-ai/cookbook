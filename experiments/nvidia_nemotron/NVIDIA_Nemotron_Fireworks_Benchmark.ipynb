{
 "cells": [
  {
   "cell_type": "code",
   "execution_count": null,
   "id": "6df2cc73",
   "metadata": {
    "vscode": {
     "languageId": "plaintext"
    }
   },
   "outputs": [],
   "source": [
    "Intro"
   ]
  },
  {
   "cell_type": "markdown",
   "id": "fdda2430",
   "metadata": {},
   "source": [
    "Creating Deployments\n",
    "- nemotron nano 9B v2\n",
    "- nemotron nano 12B v2\n",
    "\n",
    "Show how to create deployments"
   ]
  },
  {
   "cell_type": "code",
   "execution_count": null,
   "id": "f40b2036",
   "metadata": {
    "vscode": {
     "languageId": "plaintext"
    }
   },
   "outputs": [],
   "source": [
    "Performance Benchmarking\n",
    "- nemotron nano 9B v2\n",
    "- nemotron nano 12B v2\n",
    "- qwen3 8B\n",
    "- qwen3 14B\n",
    "- llama 3.1 8B\n",
    "\n",
    "Create deployments of the other 3 and run benchmark; plot results"
   ]
  },
  {
   "cell_type": "code",
   "execution_count": null,
   "id": "bad88a35",
   "metadata": {
    "vscode": {
     "languageId": "plaintext"
    }
   },
   "outputs": [],
   "source": [
    "Accuracy Benchmarking\n",
    "- nemotron nano 9B v2\n",
    "- nemotron nano 12B v2\n",
    "- qwen3 8B\n",
    "- qwen3 14B\n",
    "- llama 3.1 8B\n",
    "\n",
    "Using deployments, run an accuracy benchmark (GPQA diamond) for each model"
   ]
  },
  {
   "cell_type": "code",
   "execution_count": null,
   "id": "751958ce",
   "metadata": {
    "vscode": {
     "languageId": "plaintext"
    }
   },
   "outputs": [],
   "source": [
    "Qualitative Examples\n",
    "- nemotron nano 9B v2\n",
    "- nemotron nano 12B v2\n",
    "- qwen3 8B\n",
    "- qwen3 14B\n",
    "- llama 3.1 8B\n",
    "\n",
    "Using examples, show some qualitative inputs and outputs comparing model behavior\n"
   ]
  },
  {
   "cell_type": "code",
   "execution_count": null,
   "id": "5d484310",
   "metadata": {
    "vscode": {
     "languageId": "plaintext"
    }
   },
   "outputs": [],
   "source": [
    "Conclusions"
   ]
  }
 ],
 "metadata": {
  "language_info": {
   "name": "python"
  }
 },
 "nbformat": 4,
 "nbformat_minor": 5
}
